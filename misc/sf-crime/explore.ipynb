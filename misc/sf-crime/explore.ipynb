{
 "cells": [
  {
   "cell_type": "markdown",
   "metadata": {},
   "source": [
    "## Loading packages & dataset"
   ]
  },
  {
   "cell_type": "code",
   "execution_count": 1,
   "metadata": {
    "collapsed": false
   },
   "outputs": [
    {
     "name": "stderr",
     "output_type": "stream",
     "text": [
      "C:\\Users\\linghao\\Anaconda2\\lib\\site-packages\\pandas\\io\\data.py:33: FutureWarning: \n",
      "The pandas.io.data module is moved to a separate package (pandas-datareader) and will be removed from pandas in a future version.\n",
      "After installing the pandas-datareader package (https://github.com/pydata/pandas-datareader), you can change the import ``from pandas.io import data, wb`` to ``from pandas_datareader import data, wb``.\n",
      "  FutureWarning)\n"
     ]
    }
   ],
   "source": [
    "from datetime import datetime\n",
    "from time import time\n",
    "import numpy as np\n",
    "import matplotlib.pyplot as plt\n",
    "%matplotlib inline \n",
    "import scipy\n",
    "import statsmodels\n",
    "import patsy\n",
    "import kaggleaux as ka\n",
    "import pandas as pd\n",
    "import zipfile"
   ]
  },
  {
   "cell_type": "code",
   "execution_count": 27,
   "metadata": {
    "collapsed": true
   },
   "outputs": [],
   "source": [
    "z = zipfile.ZipFile('train.csv.zip')\n",
    "trainDF = pd.read_csv(z.open('train.csv'))"
   ]
  },
  {
   "cell_type": "markdown",
   "metadata": {},
   "source": [
    "## Scaling X, Y axes"
   ]
  },
  {
   "cell_type": "code",
   "execution_count": 3,
   "metadata": {
    "collapsed": false
   },
   "outputs": [
    {
     "data": {
      "text/plain": [
       "StandardScaler(copy=True, with_mean=True, with_std=True)"
      ]
     },
     "execution_count": 3,
     "metadata": {},
     "output_type": "execute_result"
    }
   ],
   "source": [
    "from sklearn import preprocessing\n",
    "xy_scaler = preprocessing.StandardScaler()\n",
    "xy_scaler.fit(trainDF[['X', 'Y']])"
   ]
  },
  {
   "cell_type": "code",
   "execution_count": 4,
   "metadata": {
    "collapsed": false,
    "scrolled": true
   },
   "outputs": [],
   "source": [
    "trainDF[['X', 'Y']] = xy_scaler.transform(trainDF[['X', 'Y']])"
   ]
  },
  {
   "cell_type": "code",
   "execution_count": 5,
   "metadata": {
    "collapsed": false
   },
   "outputs": [
    {
     "data": {
      "image/png": "[encoded data removed]",
      "text/plain": [
       "<matplotlib.figure.Figure at 0xcf51ed0>"
      ]
     },
     "metadata": {},
     "output_type": "display_data"
    }
   ],
   "source": [
    "plt.plot(trainDF['X'], trainDF['Y'], '.')\n",
    "plt.show()"
   ]
  },
  {
   "cell_type": "markdown",
   "metadata": {},
   "source": [
    "We can see that there are some erroneous y values. Drop them."
   ]
  },
  {
   "cell_type": "code",
   "execution_count": 5,
   "metadata": {
    "collapsed": true
   },
   "outputs": [],
   "source": [
    "trainDF = trainDF[abs(trainDF['Y'])<100]"
   ]
  },
  {
   "cell_type": "code",
   "execution_count": 7,
   "metadata": {
    "collapsed": false,
    "scrolled": false
   },
   "outputs": [
    {
     "data": {
      "image/png": "[encoded data removed]",
      "text/plain": [
       "<matplotlib.figure.Figure at 0xd667570>"
      ]
     },
     "metadata": {},
     "output_type": "display_data"
    }
   ],
   "source": [
    "plt.plot(trainDF['X'], trainDF['Y'], '.')\n",
    "plt.show()"
   ]
  },
  {
   "cell_type": "code",
   "execution_count": 42,
   "metadata": {
    "collapsed": false
   },
   "outputs": [],
   "source": [
    "groups = trainDF.groupby('Category')"
   ]
  },
  {
   "cell_type": "markdown",
   "metadata": {},
   "source": [
    "## Visualizations for analysis"
   ]
  },
  {
   "cell_type": "markdown",
   "metadata": {},
   "source": [
    "## Extract featrues"
   ]
  },
  {
   "cell_type": "code",
   "execution_count": 22,
   "metadata": {
    "collapsed": false
   },
   "outputs": [],
   "source": [
    "def parse_data(df, drop_list):\n",
    "    feature_list = df.columns.tolist()\n",
    "    for feature in drop_list:\n",
    "        feature_list.remove(feature)\n",
    "    ndf = df[feature_list]\n",
    "    features = ndf\n",
    "    labels = df['Category'].astype('category')\n",
    "    return features, labels"
   ]
  },
  {
   "cell_type": "code",
   "execution_count": 17,
   "metadata": {
    "collapsed": true
   },
   "outputs": [],
   "source": [
    "def make_features(df):\n",
    "    PdDistrict_dummies = pd.get_dummies(df['PdDistrict'], prefix='PdDistrict')\n",
    "    df.drop(['PdDistrict'], axis=1, inplace=True)\n",
    "    df = df.join(PdDistrict_dummies)\n",
    "    DayOfWeek_dummies = pd.get_dummies(df['DayOfWeek'], prefix='DayOfWeek')\n",
    "    df.drop(['DayOfWeek'], axis=1, inplace=True)\n",
    "    df = df.join(DayOfWeek_dummies)\n",
    "    return df"
   ]
  },
  {
   "cell_type": "code",
   "execution_count": 32,
   "metadata": {
    "collapsed": false,
    "scrolled": true
   },
   "outputs": [
    {
     "name": "stderr",
     "output_type": "stream",
     "text": [
      "c:\\python27\\lib\\site-packages\\ipykernel\\__main__.py:3: SettingWithCopyWarning: \n",
      "A value is trying to be set on a copy of a slice from a DataFrame\n",
      "\n",
      "See the caveats in the documentation: http://pandas.pydata.org/pandas-docs/stable/indexing.html#indexing-view-versus-copy\n",
      "  app.launch_new_instance()\n"
     ]
    }
   ],
   "source": [
    "features, labels = parse_data(trainDF, ['Category', 'Resolution', 'Descript', 'Address', 'Dates'])\n",
    "trainX = make_features(features)"
   ]
  },
  {
   "cell_type": "code",
   "execution_count": 17,
   "metadata": {
    "collapsed": true
   },
   "outputs": [],
   "source": [
    "per = range(len(trainDF))"
   ]
  },
  {
   "cell_type": "code",
   "execution_count": 18,
   "metadata": {
    "collapsed": false
   },
   "outputs": [],
   "source": [
    "np.random.shuffle(per)"
   ]
  },
  {
   "cell_type": "code",
   "execution_count": 28,
   "metadata": {
    "collapsed": false
   },
   "outputs": [],
   "source": [
    "trainDF = trainDF[['DayOfWeek']]"
   ]
  },
  {
   "cell_type": "code",
   "execution_count": 16,
   "metadata": {
    "collapsed": true
   },
   "outputs": [],
   "source": [
    "per"
   ]
  },
  {
   "cell_type": "code",
   "execution_count": 30,
   "metadata": {
    "collapsed": false
   },
   "outputs": [],
   "source": [
    "trainDF = trainDF.iloc[per,:]"
   ]
  },
  {
   "cell_type": "code",
   "execution_count": 31,
   "metadata": {
    "collapsed": false,
    "scrolled": true
   },
   "outputs": [
    {
     "data": {
      "text/html": [
       "<div>\n",
       "<table border=\"1\" class=\"dataframe\">\n",
       "  <thead>\n",
       "    <tr style=\"text-align: right;\">\n",
       "      <th></th>\n",
       "      <th>DayOfWeek</th>\n",
       "    </tr>\n",
       "  </thead>\n",
       "  <tbody>\n",
       "    <tr>\n",
       "      <th>262468</th>\n",
       "      <td>Saturday</td>\n",
       "    </tr>\n",
       "    <tr>\n",
       "      <th>217465</th>\n",
       "      <td>Sunday</td>\n",
       "    </tr>\n",
       "    <tr>\n",
       "      <th>223264</th>\n",
       "      <td>Friday</td>\n",
       "    </tr>\n",
       "  </tbody>\n",
       "</table>\n",
       "</div>"
      ],
      "text/plain": [
       "       DayOfWeek\n",
       "262468  Saturday\n",
       "217465    Sunday\n",
       "223264    Friday"
      ]
     },
     "execution_count": 31,
     "metadata": {},
     "output_type": "execute_result"
    }
   ],
   "source": [
    "trainDF.head(3)"
   ]
  },
  {
   "cell_type": "code",
   "execution_count": 32,
   "metadata": {
    "collapsed": false
   },
   "outputs": [],
   "source": [
    "DayOfWeek_dummies = pd.get_dummies(trainDF['DayOfWeek'], prefix='DayOfWeek')\n",
    "trainDF.drop(['DayOfWeek'], axis=1, inplace=True)\n",
    "trainDF = trainDF.join(DayOfWeek_dummies)"
   ]
  },
  {
   "cell_type": "code",
   "execution_count": 34,
   "metadata": {
    "collapsed": false
   },
   "outputs": [
    {
     "data": {
      "text/plain": [
       "['DayOfWeek_Friday',\n",
       " 'DayOfWeek_Monday',\n",
       " 'DayOfWeek_Saturday',\n",
       " 'DayOfWeek_Sunday',\n",
       " 'DayOfWeek_Thursday',\n",
       " 'DayOfWeek_Tuesday',\n",
       " 'DayOfWeek_Wednesday']"
      ]
     },
     "execution_count": 34,
     "metadata": {},
     "output_type": "execute_result"
    }
   ],
   "source": [
    "trainDF.columns.tolist()"
   ]
  },
  {
   "cell_type": "code",
   "execution_count": 33,
   "metadata": {
    "collapsed": false,
    "scrolled": true
   },
   "outputs": [
    {
     "data": {
      "text/html": [
       "<div>\n",
       "<table border=\"1\" class=\"dataframe\">\n",
       "  <thead>\n",
       "    <tr style=\"text-align: right;\">\n",
       "      <th></th>\n",
       "      <th>DayOfWeek_Friday</th>\n",
       "      <th>DayOfWeek_Monday</th>\n",
       "      <th>DayOfWeek_Saturday</th>\n",
       "      <th>DayOfWeek_Sunday</th>\n",
       "      <th>DayOfWeek_Thursday</th>\n",
       "      <th>DayOfWeek_Tuesday</th>\n",
       "      <th>DayOfWeek_Wednesday</th>\n",
       "    </tr>\n",
       "  </thead>\n",
       "  <tbody>\n",
       "    <tr>\n",
       "      <th>262468</th>\n",
       "      <td>0</td>\n",
       "      <td>0</td>\n",
       "      <td>1</td>\n",
       "      <td>0</td>\n",
       "      <td>0</td>\n",
       "      <td>0</td>\n",
       "      <td>0</td>\n",
       "    </tr>\n",
       "    <tr>\n",
       "      <th>217465</th>\n",
       "      <td>0</td>\n",
       "      <td>0</td>\n",
       "      <td>0</td>\n",
       "      <td>1</td>\n",
       "      <td>0</td>\n",
       "      <td>0</td>\n",
       "      <td>0</td>\n",
       "    </tr>\n",
       "    <tr>\n",
       "      <th>223264</th>\n",
       "      <td>1</td>\n",
       "      <td>0</td>\n",
       "      <td>0</td>\n",
       "      <td>0</td>\n",
       "      <td>0</td>\n",
       "      <td>0</td>\n",
       "      <td>0</td>\n",
       "    </tr>\n",
       "  </tbody>\n",
       "</table>\n",
       "</div>"
      ],
      "text/plain": [
       "        DayOfWeek_Friday  DayOfWeek_Monday  DayOfWeek_Saturday  \\\n",
       "262468                 0                 0                   1   \n",
       "217465                 0                 0                   0   \n",
       "223264                 1                 0                   0   \n",
       "\n",
       "        DayOfWeek_Sunday  DayOfWeek_Thursday  DayOfWeek_Tuesday  \\\n",
       "262468                 0                   0                  0   \n",
       "217465                 1                   0                  0   \n",
       "223264                 0                   0                  0   \n",
       "\n",
       "        DayOfWeek_Wednesday  \n",
       "262468                    0  \n",
       "217465                    0  \n",
       "223264                    0  "
      ]
     },
     "execution_count": 33,
     "metadata": {},
     "output_type": "execute_result"
    }
   ],
   "source": [
    "trainDF.head(3)"
   ]
  },
  {
   "cell_type": "code",
   "execution_count": 33,
   "metadata": {
    "collapsed": false
   },
   "outputs": [
    {
     "data": {
      "text/plain": [
       "['X',\n",
       " 'Y',\n",
       " 'PdDistrict_BAYVIEW',\n",
       " 'PdDistrict_CENTRAL',\n",
       " 'PdDistrict_INGLESIDE',\n",
       " 'PdDistrict_MISSION',\n",
       " 'PdDistrict_NORTHERN',\n",
       " 'PdDistrict_PARK',\n",
       " 'PdDistrict_RICHMOND',\n",
       " 'PdDistrict_SOUTHERN',\n",
       " 'PdDistrict_TARAVAL',\n",
       " 'PdDistrict_TENDERLOIN',\n",
       " 'DayOfWeek_Friday',\n",
       " 'DayOfWeek_Monday',\n",
       " 'DayOfWeek_Saturday',\n",
       " 'DayOfWeek_Sunday',\n",
       " 'DayOfWeek_Thursday',\n",
       " 'DayOfWeek_Tuesday',\n",
       " 'DayOfWeek_Wednesday']"
      ]
     },
     "execution_count": 33,
     "metadata": {},
     "output_type": "execute_result"
    }
   ],
   "source": [
    "trainX.columns.tolist()"
   ]
  },
  {
   "cell_type": "code",
   "execution_count": 29,
   "metadata": {
    "collapsed": true
   },
   "outputs": [],
   "source": [
    "trainY = labels"
   ]
  },
  {
   "cell_type": "markdown",
   "metadata": {},
   "source": [
    "## Multinomial Logistic Regression"
   ]
  },
  {
   "cell_type": "code",
   "execution_count": 27,
   "metadata": {
    "collapsed": true
   },
   "outputs": [],
   "source": [
    "from sklearn.linear_model import LogisticRegression\n",
    "model  = LogisticRegression(solver='lbfgs', multi_class='ovr')"
   ]
  },
  {
   "cell_type": "code",
   "execution_count": 34,
   "metadata": {
    "collapsed": false
   },
   "outputs": [
    {
     "data": {
      "text/plain": [
       "LogisticRegression(C=1.0, class_weight=None, dual=False, fit_intercept=True,\n",
       "          intercept_scaling=1, max_iter=100, multi_class='ovr',\n",
       "          penalty='l2', random_state=None, solver='lbfgs', tol=0.0001,\n",
       "          verbose=0)"
      ]
     },
     "execution_count": 34,
     "metadata": {},
     "output_type": "execute_result"
    }
   ],
   "source": [
    "model.fit(trainX, trainY)"
   ]
  },
  {
   "cell_type": "code",
   "execution_count": 39,
   "metadata": {
    "collapsed": false,
    "scrolled": true
   },
   "outputs": [
    {
     "data": {
      "text/plain": [
       "array(['LARCENY/THEFT', 'LARCENY/THEFT', 'LARCENY/THEFT', 'LARCENY/THEFT',\n",
       "       'LARCENY/THEFT', 'OTHER OFFENSES', 'OTHER OFFENSES',\n",
       "       'OTHER OFFENSES', 'LARCENY/THEFT', 'LARCENY/THEFT', 'LARCENY/THEFT',\n",
       "       'LARCENY/THEFT', 'DRUG/NARCOTIC', 'LARCENY/THEFT', 'OTHER OFFENSES',\n",
       "       'OTHER OFFENSES', 'DRUG/NARCOTIC', 'OTHER OFFENSES',\n",
       "       'OTHER OFFENSES', 'DRUG/NARCOTIC', 'OTHER OFFENSES',\n",
       "       'LARCENY/THEFT', 'DRUG/NARCOTIC', 'DRUG/NARCOTIC', 'LARCENY/THEFT',\n",
       "       'DRUG/NARCOTIC', 'LARCENY/THEFT', 'OTHER OFFENSES', 'LARCENY/THEFT',\n",
       "       'LARCENY/THEFT', 'LARCENY/THEFT', 'OTHER OFFENSES', 'LARCENY/THEFT',\n",
       "       'LARCENY/THEFT', 'LARCENY/THEFT', 'LARCENY/THEFT', 'LARCENY/THEFT',\n",
       "       'LARCENY/THEFT', 'OTHER OFFENSES', 'OTHER OFFENSES',\n",
       "       'LARCENY/THEFT', 'LARCENY/THEFT', 'DRUG/NARCOTIC', 'OTHER OFFENSES',\n",
       "       'OTHER OFFENSES', 'LARCENY/THEFT', 'OTHER OFFENSES',\n",
       "       'LARCENY/THEFT', 'LARCENY/THEFT', 'LARCENY/THEFT', 'OTHER OFFENSES',\n",
       "       'OTHER OFFENSES', 'LARCENY/THEFT', 'LARCENY/THEFT', 'LARCENY/THEFT',\n",
       "       'LARCENY/THEFT', 'LARCENY/THEFT', 'LARCENY/THEFT', 'LARCENY/THEFT',\n",
       "       'LARCENY/THEFT', 'LARCENY/THEFT', 'LARCENY/THEFT', 'LARCENY/THEFT',\n",
       "       'LARCENY/THEFT', 'LARCENY/THEFT', 'OTHER OFFENSES', 'DRUG/NARCOTIC',\n",
       "       'DRUG/NARCOTIC', 'DRUG/NARCOTIC', 'LARCENY/THEFT', 'LARCENY/THEFT',\n",
       "       'LARCENY/THEFT', 'OTHER OFFENSES', 'OTHER OFFENSES',\n",
       "       'LARCENY/THEFT', 'OTHER OFFENSES', 'OTHER OFFENSES',\n",
       "       'LARCENY/THEFT', 'LARCENY/THEFT', 'OTHER OFFENSES', 'LARCENY/THEFT',\n",
       "       'LARCENY/THEFT', 'LARCENY/THEFT', 'DRUG/NARCOTIC', 'LARCENY/THEFT',\n",
       "       'LARCENY/THEFT', 'LARCENY/THEFT', 'OTHER OFFENSES', 'LARCENY/THEFT',\n",
       "       'LARCENY/THEFT', 'LARCENY/THEFT', 'DRUG/NARCOTIC', 'LARCENY/THEFT',\n",
       "       'LARCENY/THEFT', 'LARCENY/THEFT', 'OTHER OFFENSES',\n",
       "       'OTHER OFFENSES', 'LARCENY/THEFT', 'OTHER OFFENSES',\n",
       "       'LARCENY/THEFT', 'LARCENY/THEFT', 'LARCENY/THEFT', 'LARCENY/THEFT',\n",
       "       'LARCENY/THEFT', 'LARCENY/THEFT', 'LARCENY/THEFT', 'LARCENY/THEFT',\n",
       "       'OTHER OFFENSES', 'OTHER OFFENSES', 'OTHER OFFENSES',\n",
       "       'OTHER OFFENSES', 'LARCENY/THEFT', 'LARCENY/THEFT', 'LARCENY/THEFT',\n",
       "       'LARCENY/THEFT', 'OTHER OFFENSES', 'DRUG/NARCOTIC', 'DRUG/NARCOTIC',\n",
       "       'LARCENY/THEFT', 'OTHER OFFENSES', 'OTHER OFFENSES',\n",
       "       'LARCENY/THEFT', 'OTHER OFFENSES', 'DRUG/NARCOTIC', 'LARCENY/THEFT',\n",
       "       'LARCENY/THEFT', 'LARCENY/THEFT', 'OTHER OFFENSES',\n",
       "       'OTHER OFFENSES', 'LARCENY/THEFT', 'LARCENY/THEFT', 'LARCENY/THEFT',\n",
       "       'DRUG/NARCOTIC', 'OTHER OFFENSES', 'DRUG/NARCOTIC',\n",
       "       'OTHER OFFENSES', 'OTHER OFFENSES', 'LARCENY/THEFT',\n",
       "       'LARCENY/THEFT', 'LARCENY/THEFT', 'LARCENY/THEFT', 'LARCENY/THEFT',\n",
       "       'LARCENY/THEFT', 'LARCENY/THEFT', 'OTHER OFFENSES',\n",
       "       'OTHER OFFENSES', 'LARCENY/THEFT', 'LARCENY/THEFT',\n",
       "       'OTHER OFFENSES', 'OTHER OFFENSES', 'OTHER OFFENSES',\n",
       "       'LARCENY/THEFT', 'LARCENY/THEFT', 'LARCENY/THEFT', 'LARCENY/THEFT',\n",
       "       'OTHER OFFENSES', 'OTHER OFFENSES', 'OTHER OFFENSES',\n",
       "       'LARCENY/THEFT', 'LARCENY/THEFT', 'OTHER OFFENSES', 'DRUG/NARCOTIC',\n",
       "       'LARCENY/THEFT', 'LARCENY/THEFT', 'LARCENY/THEFT', 'LARCENY/THEFT',\n",
       "       'LARCENY/THEFT', 'OTHER OFFENSES', 'OTHER OFFENSES',\n",
       "       'OTHER OFFENSES', 'OTHER OFFENSES', 'DRUG/NARCOTIC',\n",
       "       'LARCENY/THEFT', 'LARCENY/THEFT', 'OTHER OFFENSES', 'DRUG/NARCOTIC',\n",
       "       'LARCENY/THEFT', 'DRUG/NARCOTIC', 'LARCENY/THEFT', 'LARCENY/THEFT',\n",
       "       'LARCENY/THEFT', 'LARCENY/THEFT', 'DRUG/NARCOTIC', 'LARCENY/THEFT',\n",
       "       'LARCENY/THEFT', 'LARCENY/THEFT', 'LARCENY/THEFT', 'LARCENY/THEFT',\n",
       "       'LARCENY/THEFT', 'OTHER OFFENSES', 'LARCENY/THEFT', 'LARCENY/THEFT',\n",
       "       'OTHER OFFENSES', 'OTHER OFFENSES', 'DRUG/NARCOTIC',\n",
       "       'LARCENY/THEFT', 'LARCENY/THEFT', 'LARCENY/THEFT', 'OTHER OFFENSES',\n",
       "       'OTHER OFFENSES', 'OTHER OFFENSES', 'OTHER OFFENSES',\n",
       "       'LARCENY/THEFT', 'LARCENY/THEFT', 'DRUG/NARCOTIC', 'LARCENY/THEFT',\n",
       "       'LARCENY/THEFT', 'LARCENY/THEFT', 'OTHER OFFENSES',\n",
       "       'OTHER OFFENSES', 'LARCENY/THEFT', 'LARCENY/THEFT', 'LARCENY/THEFT',\n",
       "       'DRUG/NARCOTIC', 'LARCENY/THEFT', 'DRUG/NARCOTIC', 'LARCENY/THEFT',\n",
       "       'LARCENY/THEFT', 'LARCENY/THEFT', 'LARCENY/THEFT', 'OTHER OFFENSES',\n",
       "       'OTHER OFFENSES', 'OTHER OFFENSES', 'OTHER OFFENSES',\n",
       "       'LARCENY/THEFT', 'LARCENY/THEFT', 'LARCENY/THEFT', 'OTHER OFFENSES',\n",
       "       'LARCENY/THEFT', 'LARCENY/THEFT', 'DRUG/NARCOTIC', 'LARCENY/THEFT',\n",
       "       'LARCENY/THEFT', 'LARCENY/THEFT', 'LARCENY/THEFT', 'OTHER OFFENSES',\n",
       "       'OTHER OFFENSES', 'LARCENY/THEFT', 'LARCENY/THEFT',\n",
       "       'OTHER OFFENSES', 'LARCENY/THEFT', 'OTHER OFFENSES',\n",
       "       'OTHER OFFENSES', 'OTHER OFFENSES', 'LARCENY/THEFT',\n",
       "       'LARCENY/THEFT', 'LARCENY/THEFT', 'LARCENY/THEFT', 'LARCENY/THEFT',\n",
       "       'OTHER OFFENSES', 'LARCENY/THEFT', 'LARCENY/THEFT', 'LARCENY/THEFT',\n",
       "       'LARCENY/THEFT', 'LARCENY/THEFT', 'LARCENY/THEFT', 'OTHER OFFENSES',\n",
       "       'LARCENY/THEFT', 'LARCENY/THEFT', 'LARCENY/THEFT', 'OTHER OFFENSES',\n",
       "       'OTHER OFFENSES', 'LARCENY/THEFT', 'LARCENY/THEFT', 'LARCENY/THEFT',\n",
       "       'LARCENY/THEFT', 'OTHER OFFENSES', 'LARCENY/THEFT',\n",
       "       'OTHER OFFENSES', 'LARCENY/THEFT', 'LARCENY/THEFT', 'LARCENY/THEFT',\n",
       "       'OTHER OFFENSES', 'OTHER OFFENSES', 'OTHER OFFENSES',\n",
       "       'LARCENY/THEFT', 'LARCENY/THEFT', 'OTHER OFFENSES', 'DRUG/NARCOTIC',\n",
       "       'DRUG/NARCOTIC', 'OTHER OFFENSES', 'LARCENY/THEFT', 'DRUG/NARCOTIC',\n",
       "       'DRUG/NARCOTIC', 'LARCENY/THEFT', 'LARCENY/THEFT', 'LARCENY/THEFT',\n",
       "       'LARCENY/THEFT', 'LARCENY/THEFT', 'LARCENY/THEFT', 'LARCENY/THEFT',\n",
       "       'OTHER OFFENSES', 'LARCENY/THEFT', 'OTHER OFFENSES',\n",
       "       'LARCENY/THEFT', 'OTHER OFFENSES', 'OTHER OFFENSES',\n",
       "       'OTHER OFFENSES', 'OTHER OFFENSES', 'OTHER OFFENSES',\n",
       "       'LARCENY/THEFT', 'LARCENY/THEFT', 'LARCENY/THEFT', 'LARCENY/THEFT',\n",
       "       'DRUG/NARCOTIC', 'OTHER OFFENSES', 'LARCENY/THEFT',\n",
       "       'OTHER OFFENSES', 'LARCENY/THEFT', 'LARCENY/THEFT', 'LARCENY/THEFT',\n",
       "       'LARCENY/THEFT', 'OTHER OFFENSES', 'LARCENY/THEFT', 'LARCENY/THEFT',\n",
       "       'LARCENY/THEFT', 'LARCENY/THEFT', 'LARCENY/THEFT', 'LARCENY/THEFT',\n",
       "       'LARCENY/THEFT', 'LARCENY/THEFT', 'LARCENY/THEFT', 'LARCENY/THEFT',\n",
       "       'DRUG/NARCOTIC', 'LARCENY/THEFT', 'LARCENY/THEFT', 'LARCENY/THEFT',\n",
       "       'LARCENY/THEFT', 'LARCENY/THEFT', 'LARCENY/THEFT', 'OTHER OFFENSES',\n",
       "       'OTHER OFFENSES', 'OTHER OFFENSES', 'OTHER OFFENSES',\n",
       "       'LARCENY/THEFT', 'LARCENY/THEFT', 'LARCENY/THEFT', 'OTHER OFFENSES',\n",
       "       'LARCENY/THEFT', 'LARCENY/THEFT', 'LARCENY/THEFT', 'LARCENY/THEFT',\n",
       "       'LARCENY/THEFT', 'LARCENY/THEFT', 'LARCENY/THEFT', 'LARCENY/THEFT',\n",
       "       'LARCENY/THEFT', 'OTHER OFFENSES', 'LARCENY/THEFT', 'LARCENY/THEFT',\n",
       "       'LARCENY/THEFT', 'LARCENY/THEFT', 'LARCENY/THEFT', 'LARCENY/THEFT',\n",
       "       'LARCENY/THEFT', 'LARCENY/THEFT', 'OTHER OFFENSES', 'LARCENY/THEFT',\n",
       "       'LARCENY/THEFT', 'DRUG/NARCOTIC', 'OTHER OFFENSES',\n",
       "       'OTHER OFFENSES', 'LARCENY/THEFT', 'OTHER OFFENSES',\n",
       "       'OTHER OFFENSES', 'LARCENY/THEFT', 'DRUG/NARCOTIC',\n",
       "       'OTHER OFFENSES', 'OTHER OFFENSES', 'OTHER OFFENSES',\n",
       "       'LARCENY/THEFT', 'LARCENY/THEFT', 'LARCENY/THEFT', 'OTHER OFFENSES',\n",
       "       'LARCENY/THEFT', 'LARCENY/THEFT', 'LARCENY/THEFT', 'OTHER OFFENSES',\n",
       "       'LARCENY/THEFT', 'LARCENY/THEFT', 'LARCENY/THEFT', 'LARCENY/THEFT',\n",
       "       'LARCENY/THEFT', 'LARCENY/THEFT', 'OTHER OFFENSES', 'LARCENY/THEFT',\n",
       "       'OTHER OFFENSES', 'OTHER OFFENSES', 'OTHER OFFENSES',\n",
       "       'LARCENY/THEFT', 'LARCENY/THEFT', 'LARCENY/THEFT', 'LARCENY/THEFT',\n",
       "       'LARCENY/THEFT', 'OTHER OFFENSES', 'LARCENY/THEFT',\n",
       "       'OTHER OFFENSES', 'LARCENY/THEFT', 'LARCENY/THEFT',\n",
       "       'OTHER OFFENSES', 'LARCENY/THEFT', 'LARCENY/THEFT', 'LARCENY/THEFT',\n",
       "       'OTHER OFFENSES', 'LARCENY/THEFT', 'LARCENY/THEFT', 'LARCENY/THEFT',\n",
       "       'OTHER OFFENSES', 'OTHER OFFENSES', 'OTHER OFFENSES',\n",
       "       'LARCENY/THEFT', 'DRUG/NARCOTIC', 'OTHER OFFENSES',\n",
       "       'OTHER OFFENSES', 'OTHER OFFENSES', 'OTHER OFFENSES',\n",
       "       'LARCENY/THEFT', 'LARCENY/THEFT', 'LARCENY/THEFT', 'LARCENY/THEFT',\n",
       "       'LARCENY/THEFT', 'LARCENY/THEFT', 'LARCENY/THEFT', 'OTHER OFFENSES',\n",
       "       'LARCENY/THEFT', 'LARCENY/THEFT', 'LARCENY/THEFT', 'LARCENY/THEFT',\n",
       "       'LARCENY/THEFT', 'DRUG/NARCOTIC', 'LARCENY/THEFT', 'LARCENY/THEFT',\n",
       "       'OTHER OFFENSES', 'OTHER OFFENSES', 'LARCENY/THEFT',\n",
       "       'LARCENY/THEFT', 'LARCENY/THEFT', 'OTHER OFFENSES',\n",
       "       'OTHER OFFENSES', 'LARCENY/THEFT', 'LARCENY/THEFT', 'LARCENY/THEFT',\n",
       "       'OTHER OFFENSES', 'LARCENY/THEFT', 'OTHER OFFENSES',\n",
       "       'LARCENY/THEFT', 'LARCENY/THEFT', 'OTHER OFFENSES', 'LARCENY/THEFT',\n",
       "       'OTHER OFFENSES', 'LARCENY/THEFT', 'LARCENY/THEFT', 'LARCENY/THEFT',\n",
       "       'OTHER OFFENSES', 'LARCENY/THEFT', 'LARCENY/THEFT', 'LARCENY/THEFT',\n",
       "       'LARCENY/THEFT', 'OTHER OFFENSES', 'DRUG/NARCOTIC', 'DRUG/NARCOTIC',\n",
       "       'DRUG/NARCOTIC', 'LARCENY/THEFT', 'LARCENY/THEFT', 'LARCENY/THEFT',\n",
       "       'LARCENY/THEFT', 'OTHER OFFENSES', 'LARCENY/THEFT',\n",
       "       'OTHER OFFENSES', 'LARCENY/THEFT', 'DRUG/NARCOTIC', 'LARCENY/THEFT',\n",
       "       'LARCENY/THEFT', 'OTHER OFFENSES', 'OTHER OFFENSES',\n",
       "       'LARCENY/THEFT', 'DRUG/NARCOTIC', 'OTHER OFFENSES', 'LARCENY/THEFT',\n",
       "       'OTHER OFFENSES', 'LARCENY/THEFT', 'LARCENY/THEFT', 'LARCENY/THEFT',\n",
       "       'LARCENY/THEFT', 'DRUG/NARCOTIC', 'LARCENY/THEFT', 'LARCENY/THEFT',\n",
       "       'LARCENY/THEFT', 'OTHER OFFENSES', 'LARCENY/THEFT',\n",
       "       'OTHER OFFENSES', 'LARCENY/THEFT', 'LARCENY/THEFT', 'LARCENY/THEFT',\n",
       "       'OTHER OFFENSES', 'OTHER OFFENSES', 'OTHER OFFENSES',\n",
       "       'LARCENY/THEFT', 'LARCENY/THEFT', 'LARCENY/THEFT', 'LARCENY/THEFT',\n",
       "       'LARCENY/THEFT', 'LARCENY/THEFT', 'LARCENY/THEFT', 'OTHER OFFENSES',\n",
       "       'OTHER OFFENSES', 'OTHER OFFENSES', 'OTHER OFFENSES',\n",
       "       'OTHER OFFENSES', 'OTHER OFFENSES', 'OTHER OFFENSES',\n",
       "       'OTHER OFFENSES', 'LARCENY/THEFT', 'OTHER OFFENSES',\n",
       "       'OTHER OFFENSES', 'OTHER OFFENSES', 'LARCENY/THEFT',\n",
       "       'OTHER OFFENSES', 'OTHER OFFENSES', 'OTHER OFFENSES',\n",
       "       'OTHER OFFENSES', 'OTHER OFFENSES', 'LARCENY/THEFT',\n",
       "       'LARCENY/THEFT', 'OTHER OFFENSES', 'LARCENY/THEFT', 'LARCENY/THEFT',\n",
       "       'LARCENY/THEFT', 'LARCENY/THEFT', 'LARCENY/THEFT', 'OTHER OFFENSES',\n",
       "       'LARCENY/THEFT', 'OTHER OFFENSES', 'OTHER OFFENSES',\n",
       "       'LARCENY/THEFT', 'LARCENY/THEFT', 'LARCENY/THEFT', 'OTHER OFFENSES',\n",
       "       'LARCENY/THEFT', 'LARCENY/THEFT', 'LARCENY/THEFT', 'OTHER OFFENSES',\n",
       "       'OTHER OFFENSES', 'DRUG/NARCOTIC', 'LARCENY/THEFT', 'LARCENY/THEFT',\n",
       "       'OTHER OFFENSES', 'OTHER OFFENSES', 'LARCENY/THEFT',\n",
       "       'LARCENY/THEFT', 'OTHER OFFENSES', 'OTHER OFFENSES',\n",
       "       'LARCENY/THEFT', 'LARCENY/THEFT', 'LARCENY/THEFT', 'OTHER OFFENSES',\n",
       "       'LARCENY/THEFT', 'LARCENY/THEFT', 'OTHER OFFENSES', 'LARCENY/THEFT',\n",
       "       'LARCENY/THEFT', 'OTHER OFFENSES', 'LARCENY/THEFT',\n",
       "       'OTHER OFFENSES', 'OTHER OFFENSES', 'LARCENY/THEFT',\n",
       "       'LARCENY/THEFT', 'LARCENY/THEFT', 'OTHER OFFENSES', 'LARCENY/THEFT',\n",
       "       'OTHER OFFENSES', 'LARCENY/THEFT', 'LARCENY/THEFT', 'LARCENY/THEFT',\n",
       "       'LARCENY/THEFT', 'LARCENY/THEFT', 'OTHER OFFENSES',\n",
       "       'OTHER OFFENSES', 'OTHER OFFENSES', 'OTHER OFFENSES',\n",
       "       'LARCENY/THEFT', 'LARCENY/THEFT', 'LARCENY/THEFT', 'LARCENY/THEFT',\n",
       "       'LARCENY/THEFT', 'LARCENY/THEFT', 'LARCENY/THEFT', 'LARCENY/THEFT',\n",
       "       'LARCENY/THEFT', 'LARCENY/THEFT', 'OTHER OFFENSES', 'DRUG/NARCOTIC',\n",
       "       'DRUG/NARCOTIC', 'LARCENY/THEFT', 'LARCENY/THEFT', 'LARCENY/THEFT',\n",
       "       'LARCENY/THEFT', 'LARCENY/THEFT', 'LARCENY/THEFT', 'OTHER OFFENSES',\n",
       "       'LARCENY/THEFT', 'LARCENY/THEFT', 'LARCENY/THEFT', 'LARCENY/THEFT',\n",
       "       'LARCENY/THEFT', 'LARCENY/THEFT', 'LARCENY/THEFT', 'OTHER OFFENSES',\n",
       "       'LARCENY/THEFT', 'OTHER OFFENSES', 'LARCENY/THEFT', 'LARCENY/THEFT',\n",
       "       'LARCENY/THEFT', 'LARCENY/THEFT', 'LARCENY/THEFT', 'LARCENY/THEFT',\n",
       "       'LARCENY/THEFT', 'OTHER OFFENSES', 'LARCENY/THEFT',\n",
       "       'OTHER OFFENSES', 'LARCENY/THEFT', 'OTHER OFFENSES',\n",
       "       'LARCENY/THEFT', 'OTHER OFFENSES', 'OTHER OFFENSES',\n",
       "       'OTHER OFFENSES', 'OTHER OFFENSES', 'LARCENY/THEFT',\n",
       "       'LARCENY/THEFT', 'OTHER OFFENSES', 'DRUG/NARCOTIC', 'LARCENY/THEFT',\n",
       "       'OTHER OFFENSES', 'OTHER OFFENSES', 'OTHER OFFENSES',\n",
       "       'LARCENY/THEFT', 'LARCENY/THEFT', 'LARCENY/THEFT', 'OTHER OFFENSES',\n",
       "       'LARCENY/THEFT', 'LARCENY/THEFT', 'OTHER OFFENSES',\n",
       "       'OTHER OFFENSES', 'LARCENY/THEFT', 'LARCENY/THEFT',\n",
       "       'OTHER OFFENSES', 'OTHER OFFENSES', 'LARCENY/THEFT',\n",
       "       'OTHER OFFENSES', 'LARCENY/THEFT', 'LARCENY/THEFT', 'LARCENY/THEFT',\n",
       "       'OTHER OFFENSES', 'OTHER OFFENSES', 'OTHER OFFENSES',\n",
       "       'LARCENY/THEFT', 'LARCENY/THEFT', 'OTHER OFFENSES',\n",
       "       'OTHER OFFENSES', 'LARCENY/THEFT', 'LARCENY/THEFT',\n",
       "       'OTHER OFFENSES', 'OTHER OFFENSES', 'LARCENY/THEFT',\n",
       "       'LARCENY/THEFT', 'LARCENY/THEFT', 'LARCENY/THEFT', 'LARCENY/THEFT',\n",
       "       'OTHER OFFENSES', 'OTHER OFFENSES', 'OTHER OFFENSES',\n",
       "       'OTHER OFFENSES', 'OTHER OFFENSES', 'OTHER OFFENSES',\n",
       "       'DRUG/NARCOTIC', 'LARCENY/THEFT', 'LARCENY/THEFT', 'LARCENY/THEFT',\n",
       "       'LARCENY/THEFT', 'OTHER OFFENSES', 'LARCENY/THEFT',\n",
       "       'OTHER OFFENSES', 'LARCENY/THEFT', 'OTHER OFFENSES',\n",
       "       'LARCENY/THEFT', 'LARCENY/THEFT', 'LARCENY/THEFT', 'LARCENY/THEFT',\n",
       "       'OTHER OFFENSES', 'LARCENY/THEFT', 'OTHER OFFENSES',\n",
       "       'LARCENY/THEFT', 'LARCENY/THEFT', 'OTHER OFFENSES',\n",
       "       'OTHER OFFENSES', 'LARCENY/THEFT', 'LARCENY/THEFT', 'LARCENY/THEFT',\n",
       "       'OTHER OFFENSES', 'LARCENY/THEFT', 'DRUG/NARCOTIC', 'DRUG/NARCOTIC',\n",
       "       'DRUG/NARCOTIC', 'OTHER OFFENSES', 'LARCENY/THEFT', 'LARCENY/THEFT',\n",
       "       'LARCENY/THEFT', 'LARCENY/THEFT', 'OTHER OFFENSES', 'LARCENY/THEFT',\n",
       "       'LARCENY/THEFT', 'LARCENY/THEFT', 'OTHER OFFENSES', 'DRUG/NARCOTIC',\n",
       "       'OTHER OFFENSES', 'OTHER OFFENSES', 'OTHER OFFENSES',\n",
       "       'OTHER OFFENSES', 'OTHER OFFENSES', 'OTHER OFFENSES',\n",
       "       'LARCENY/THEFT', 'LARCENY/THEFT', 'LARCENY/THEFT', 'OTHER OFFENSES',\n",
       "       'OTHER OFFENSES', 'OTHER OFFENSES', 'OTHER OFFENSES',\n",
       "       'OTHER OFFENSES', 'LARCENY/THEFT', 'LARCENY/THEFT', 'LARCENY/THEFT',\n",
       "       'LARCENY/THEFT', 'LARCENY/THEFT', 'LARCENY/THEFT', 'LARCENY/THEFT',\n",
       "       'LARCENY/THEFT', 'LARCENY/THEFT', 'LARCENY/THEFT', 'OTHER OFFENSES',\n",
       "       'OTHER OFFENSES', 'LARCENY/THEFT', 'LARCENY/THEFT', 'DRUG/NARCOTIC',\n",
       "       'DRUG/NARCOTIC', 'DRUG/NARCOTIC', 'OTHER OFFENSES',\n",
       "       'OTHER OFFENSES', 'OTHER OFFENSES', 'LARCENY/THEFT',\n",
       "       'OTHER OFFENSES', 'LARCENY/THEFT', 'LARCENY/THEFT', 'DRUG/NARCOTIC',\n",
       "       'DRUG/NARCOTIC', 'OTHER OFFENSES', 'LARCENY/THEFT', 'LARCENY/THEFT',\n",
       "       'LARCENY/THEFT', 'LARCENY/THEFT', 'OTHER OFFENSES', 'LARCENY/THEFT',\n",
       "       'LARCENY/THEFT', 'LARCENY/THEFT', 'DRUG/NARCOTIC', 'LARCENY/THEFT',\n",
       "       'LARCENY/THEFT', 'LARCENY/THEFT', 'LARCENY/THEFT', 'LARCENY/THEFT',\n",
       "       'OTHER OFFENSES', 'LARCENY/THEFT', 'OTHER OFFENSES',\n",
       "       'LARCENY/THEFT', 'OTHER OFFENSES', 'LARCENY/THEFT', 'LARCENY/THEFT',\n",
       "       'LARCENY/THEFT', 'LARCENY/THEFT', 'OTHER OFFENSES', 'LARCENY/THEFT',\n",
       "       'LARCENY/THEFT', 'LARCENY/THEFT', 'OTHER OFFENSES',\n",
       "       'OTHER OFFENSES', 'LARCENY/THEFT', 'LARCENY/THEFT', 'LARCENY/THEFT',\n",
       "       'LARCENY/THEFT', 'OTHER OFFENSES', 'OTHER OFFENSES',\n",
       "       'LARCENY/THEFT', 'OTHER OFFENSES', 'OTHER OFFENSES',\n",
       "       'OTHER OFFENSES', 'OTHER OFFENSES', 'LARCENY/THEFT',\n",
       "       'OTHER OFFENSES', 'LARCENY/THEFT', 'OTHER OFFENSES',\n",
       "       'OTHER OFFENSES', 'LARCENY/THEFT', 'LARCENY/THEFT',\n",
       "       'OTHER OFFENSES', 'OTHER OFFENSES', 'LARCENY/THEFT',\n",
       "       'LARCENY/THEFT', 'LARCENY/THEFT', 'LARCENY/THEFT', 'LARCENY/THEFT',\n",
       "       'OTHER OFFENSES', 'OTHER OFFENSES', 'OTHER OFFENSES',\n",
       "       'OTHER OFFENSES', 'LARCENY/THEFT', 'LARCENY/THEFT', 'LARCENY/THEFT',\n",
       "       'LARCENY/THEFT', 'LARCENY/THEFT', 'LARCENY/THEFT', 'OTHER OFFENSES',\n",
       "       'OTHER OFFENSES', 'LARCENY/THEFT', 'LARCENY/THEFT', 'LARCENY/THEFT',\n",
       "       'OTHER OFFENSES', 'OTHER OFFENSES', 'OTHER OFFENSES',\n",
       "       'LARCENY/THEFT', 'LARCENY/THEFT', 'LARCENY/THEFT', 'LARCENY/THEFT',\n",
       "       'LARCENY/THEFT', 'OTHER OFFENSES', 'LARCENY/THEFT', 'LARCENY/THEFT',\n",
       "       'LARCENY/THEFT', 'LARCENY/THEFT', 'OTHER OFFENSES', 'LARCENY/THEFT',\n",
       "       'LARCENY/THEFT', 'OTHER OFFENSES', 'OTHER OFFENSES',\n",
       "       'OTHER OFFENSES', 'LARCENY/THEFT', 'LARCENY/THEFT', 'LARCENY/THEFT',\n",
       "       'LARCENY/THEFT', 'LARCENY/THEFT', 'OTHER OFFENSES', 'LARCENY/THEFT',\n",
       "       'LARCENY/THEFT', 'LARCENY/THEFT', 'LARCENY/THEFT', 'OTHER OFFENSES',\n",
       "       'OTHER OFFENSES', 'LARCENY/THEFT', 'OTHER OFFENSES',\n",
       "       'OTHER OFFENSES', 'LARCENY/THEFT', 'LARCENY/THEFT',\n",
       "       'OTHER OFFENSES', 'DRUG/NARCOTIC', 'LARCENY/THEFT', 'LARCENY/THEFT',\n",
       "       'LARCENY/THEFT', 'LARCENY/THEFT', 'LARCENY/THEFT', 'LARCENY/THEFT',\n",
       "       'DRUG/NARCOTIC', 'OTHER OFFENSES', 'LARCENY/THEFT',\n",
       "       'OTHER OFFENSES', 'OTHER OFFENSES', 'LARCENY/THEFT',\n",
       "       'LARCENY/THEFT', 'OTHER OFFENSES', 'LARCENY/THEFT', 'LARCENY/THEFT',\n",
       "       'LARCENY/THEFT', 'LARCENY/THEFT', 'LARCENY/THEFT', 'LARCENY/THEFT',\n",
       "       'OTHER OFFENSES', 'LARCENY/THEFT', 'LARCENY/THEFT', 'LARCENY/THEFT',\n",
       "       'LARCENY/THEFT', 'LARCENY/THEFT', 'OTHER OFFENSES',\n",
       "       'OTHER OFFENSES', 'OTHER OFFENSES', 'LARCENY/THEFT',\n",
       "       'LARCENY/THEFT', 'LARCENY/THEFT', 'OTHER OFFENSES',\n",
       "       'OTHER OFFENSES', 'LARCENY/THEFT', 'OTHER OFFENSES',\n",
       "       'LARCENY/THEFT', 'OTHER OFFENSES', 'LARCENY/THEFT', 'LARCENY/THEFT',\n",
       "       'LARCENY/THEFT', 'LARCENY/THEFT', 'LARCENY/THEFT', 'LARCENY/THEFT',\n",
       "       'LARCENY/THEFT', 'LARCENY/THEFT', 'OTHER OFFENSES',\n",
       "       'OTHER OFFENSES', 'LARCENY/THEFT', 'LARCENY/THEFT', 'LARCENY/THEFT',\n",
       "       'LARCENY/THEFT', 'LARCENY/THEFT', 'DRUG/NARCOTIC', 'DRUG/NARCOTIC',\n",
       "       'LARCENY/THEFT', 'LARCENY/THEFT', 'LARCENY/THEFT', 'LARCENY/THEFT',\n",
       "       'LARCENY/THEFT', 'LARCENY/THEFT', 'LARCENY/THEFT', 'LARCENY/THEFT',\n",
       "       'OTHER OFFENSES', 'LARCENY/THEFT', 'LARCENY/THEFT', 'LARCENY/THEFT',\n",
       "       'DRUG/NARCOTIC', 'LARCENY/THEFT', 'OTHER OFFENSES',\n",
       "       'OTHER OFFENSES', 'OTHER OFFENSES', 'LARCENY/THEFT',\n",
       "       'OTHER OFFENSES', 'LARCENY/THEFT', 'OTHER OFFENSES',\n",
       "       'OTHER OFFENSES', 'LARCENY/THEFT', 'LARCENY/THEFT', 'DRUG/NARCOTIC',\n",
       "       'LARCENY/THEFT', 'LARCENY/THEFT', 'LARCENY/THEFT', 'DRUG/NARCOTIC',\n",
       "       'LARCENY/THEFT', 'OTHER OFFENSES', 'LARCENY/THEFT', 'LARCENY/THEFT',\n",
       "       'LARCENY/THEFT', 'OTHER OFFENSES', 'LARCENY/THEFT', 'LARCENY/THEFT',\n",
       "       'LARCENY/THEFT', 'DRUG/NARCOTIC', 'LARCENY/THEFT', 'OTHER OFFENSES',\n",
       "       'LARCENY/THEFT', 'LARCENY/THEFT', 'LARCENY/THEFT', 'LARCENY/THEFT',\n",
       "       'LARCENY/THEFT', 'LARCENY/THEFT', 'LARCENY/THEFT', 'OTHER OFFENSES',\n",
       "       'OTHER OFFENSES', 'OTHER OFFENSES', 'OTHER OFFENSES',\n",
       "       'LARCENY/THEFT', 'LARCENY/THEFT', 'OTHER OFFENSES', 'DRUG/NARCOTIC',\n",
       "       'LARCENY/THEFT', 'LARCENY/THEFT', 'LARCENY/THEFT', 'LARCENY/THEFT',\n",
       "       'LARCENY/THEFT', 'OTHER OFFENSES', 'DRUG/NARCOTIC', 'LARCENY/THEFT',\n",
       "       'LARCENY/THEFT', 'LARCENY/THEFT', 'OTHER OFFENSES', 'LARCENY/THEFT',\n",
       "       'OTHER OFFENSES', 'OTHER OFFENSES', 'LARCENY/THEFT',\n",
       "       'LARCENY/THEFT', 'LARCENY/THEFT', 'LARCENY/THEFT', 'LARCENY/THEFT',\n",
       "       'LARCENY/THEFT', 'LARCENY/THEFT', 'LARCENY/THEFT', 'OTHER OFFENSES',\n",
       "       'OTHER OFFENSES', 'LARCENY/THEFT', 'OTHER OFFENSES',\n",
       "       'OTHER OFFENSES'], dtype=object)"
      ]
     },
     "execution_count": 39,
     "metadata": {},
     "output_type": "execute_result"
    }
   ],
   "source": [
    "model.predict(trainX[:1000])"
   ]
  },
  {
   "cell_type": "code",
   "execution_count": 40,
   "metadata": {
    "collapsed": true
   },
   "outputs": [],
   "source": [
    "del model"
   ]
  },
  {
   "cell_type": "markdown",
   "metadata": {},
   "source": [
    "## Random Forest"
   ]
  },
  {
   "cell_type": "code",
   "execution_count": 35,
   "metadata": {
    "collapsed": true
   },
   "outputs": [],
   "source": [
    "from sklearn.ensemble import RandomForestClassifier"
   ]
  }
 ],
 "metadata": {
  "kernelspec": {
   "display_name": "Python 2",
   "language": "python",
   "name": "python2"
  },
  "language_info": {
   "codemirror_mode": {
    "name": "ipython",
    "version": 2
   },
   "file_extension": ".py",
   "mimetype": "text/x-python",
   "name": "python",
   "nbconvert_exporter": "python",
   "pygments_lexer": "ipython2",
   "version": "2.7.11"
  }
 },
 "nbformat": 4,
 "nbformat_minor": 0
}
