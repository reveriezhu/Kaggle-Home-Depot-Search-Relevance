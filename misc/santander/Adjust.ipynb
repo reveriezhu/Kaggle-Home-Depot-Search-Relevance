{
 "cells": [
  {
   "cell_type": "code",
   "execution_count": 1,
   "metadata": {
    "collapsed": false
   },
   "outputs": [],
   "source": [
    "import xgboost as xgb, numpy as np, pandas as pd, csv"
   ]
  },
  {
   "cell_type": "code",
   "execution_count": 2,
   "metadata": {
    "collapsed": false
   },
   "outputs": [],
   "source": [
    "trainData = pd.read_csv(\"D:/satisfy/input/train.csv\")\n",
    "testData = pd.read_csv(\"D:/satisfy/input/test.csv\")"
   ]
  },
  {
   "cell_type": "code",
   "execution_count": 3,
   "metadata": {
    "collapsed": false
   },
   "outputs": [],
   "source": [
    "label = trainData['TARGET']"
   ]
  },
  {
   "cell_type": "code",
   "execution_count": 4,
   "metadata": {
    "collapsed": false
   },
   "outputs": [
    {
     "data": {
      "text/plain": [
       "array([0, 1], dtype=int64)"
      ]
     },
     "execution_count": 4,
     "metadata": {},
     "output_type": "execute_result"
    }
   ],
   "source": [
    "np.unique(label)"
   ]
  },
  {
   "cell_type": "code",
   "execution_count": 5,
   "metadata": {
    "collapsed": false
   },
   "outputs": [],
   "source": [
    "trainData = trainData.drop([\"ID\", \"TARGET\"], 1)"
   ]
  },
  {
   "cell_type": "code",
   "execution_count": 6,
   "metadata": {
    "collapsed": true
   },
   "outputs": [],
   "source": [
    "idLine = testData[\"ID\"]"
   ]
  },
  {
   "cell_type": "code",
   "execution_count": 7,
   "metadata": {
    "collapsed": false
   },
   "outputs": [],
   "source": [
    "testData = testData.drop(\"ID\", 1)"
   ]
  },
  {
   "cell_type": "code",
   "execution_count": 13,
   "metadata": {
    "collapsed": false
   },
   "outputs": [
    {
     "name": "stdout",
     "output_type": "stream",
     "text": [
      "Dropped constant in training data: ind_var2_0\n",
      "Dropped constant in training data: ind_var2\n",
      "Dropped constant in training data: ind_var27_0\n",
      "Dropped constant in training data: ind_var28_0\n",
      "Dropped constant in training data: ind_var28\n",
      "Dropped constant in training data: ind_var27\n",
      "Dropped constant in training data: ind_var41\n",
      "Dropped constant in training data: ind_var46_0\n",
      "Dropped constant in training data: ind_var46\n",
      "Dropped constant in training data: num_var27_0\n",
      "Dropped constant in training data: num_var28_0\n",
      "Dropped constant in training data: num_var28\n",
      "Dropped constant in training data: num_var27\n",
      "Dropped constant in training data: num_var41\n",
      "Dropped constant in training data: num_var46_0\n",
      "Dropped constant in training data: num_var46\n",
      "Dropped constant in training data: saldo_var28\n",
      "Dropped constant in training data: saldo_var27\n",
      "Dropped constant in training data: saldo_var41\n",
      "Dropped constant in training data: saldo_var46\n",
      "Dropped constant in training data: imp_amort_var18_hace3\n",
      "Dropped constant in training data: imp_amort_var34_hace3\n",
      "Dropped constant in training data: imp_reemb_var13_hace3\n",
      "Dropped constant in training data: imp_reemb_var33_hace3\n",
      "Dropped constant in training data: imp_trasp_var17_out_hace3\n",
      "Dropped constant in training data: imp_trasp_var33_out_hace3\n",
      "Dropped constant in training data: num_var2_0_ult1\n",
      "Dropped constant in training data: num_var2_ult1\n",
      "Dropped constant in training data: num_reemb_var13_hace3\n",
      "Dropped constant in training data: num_reemb_var33_hace3\n",
      "Dropped constant in training data: num_trasp_var17_out_hace3\n",
      "Dropped constant in training data: num_trasp_var33_out_hace3\n",
      "Dropped constant in training data: saldo_var2_ult1\n",
      "Dropped constant in training data: saldo_medio_var13_medio_hace3\n"
     ]
    }
   ],
   "source": [
    "Droper = []\n",
    "for col in trainData.columns.values:\n",
    "    if (len(np.unique(trainData[col])) == 1):\n",
    "        print \"Dropped constant in training data:\", col\n",
    "        Droper.append(col)\n",
    "trainData = trainData.drop(Droper, 1)"
   ]
  },
  {
   "cell_type": "code",
   "execution_count": 14,
   "metadata": {
    "collapsed": true
   },
   "outputs": [],
   "source": [
    "testData = testData.drop(Droper, 1)"
   ]
  },
  {
   "cell_type": "code",
   "execution_count": 15,
   "metadata": {
    "collapsed": false,
    "scrolled": true
   },
   "outputs": [
    {
     "name": "stdout",
     "output_type": "stream",
     "text": [
      "Dropped constant in test data: delta_imp_reemb_var33_1y3\n",
      "Dropped constant in test data: delta_imp_trasp_var17_out_1y3\n",
      "Dropped constant in test data: delta_num_reemb_var33_1y3\n",
      "Dropped constant in test data: delta_num_trasp_var17_out_1y3\n",
      "Dropped constant in test data: imp_reemb_var17_hace3\n",
      "Dropped constant in test data: imp_reemb_var33_ult1\n",
      "Dropped constant in test data: imp_trasp_var17_out_ult1\n",
      "Dropped constant in test data: num_reemb_var17_hace3\n",
      "Dropped constant in test data: num_reemb_var33_ult1\n",
      "Dropped constant in test data: num_trasp_var17_out_ult1\n",
      "Dropped constant in test data: saldo_medio_var29_hace3\n"
     ]
    }
   ],
   "source": [
    "Droper = []\n",
    "for col in testData.columns.values:\n",
    "    if (len(np.unique(testData[col])) == 1):\n",
    "        print \"Dropped constant in test data:\", col\n",
    "        Droper.append(col)\n",
    "trainData = trainData.drop(Droper, 1)\n",
    "testData = testData.drop(Droper, 1)"
   ]
  },
  {
   "cell_type": "code",
   "execution_count": 46,
   "metadata": {
    "collapsed": false
   },
   "outputs": [
    {
     "name": "stdout",
     "output_type": "stream",
     "text": [
      "Feature imp_op_var39_efect_ult3 is highly correlated with another feature, dropped\n",
      "Feature ind_var13_medio is highly correlated with another feature, dropped\n",
      "Feature ind_var18 is highly correlated with another feature, dropped\n",
      "Feature ind_var26 is highly correlated with another feature, dropped\n",
      "Feature ind_var25 is highly correlated with another feature, dropped\n",
      "Feature ind_var29_0 is highly correlated with another feature, dropped\n",
      "Feature ind_var29 is highly correlated with another feature, dropped\n",
      "Feature ind_var32 is highly correlated with another feature, dropped\n",
      "Feature ind_var34 is highly correlated with another feature, dropped\n",
      "Feature ind_var37 is highly correlated with another feature, dropped\n",
      "Feature ind_var39 is highly correlated with another feature, dropped\n",
      "Feature num_var6_0 is highly correlated with another feature, dropped\n",
      "Feature num_var6 is highly correlated with another feature, dropped\n",
      "Feature num_var8_0 is highly correlated with another feature, dropped\n",
      "Feature num_var8 is highly correlated with another feature, dropped\n",
      "Feature num_var13_corto is highly correlated with another feature, dropped\n",
      "Feature num_var13_medio_0 is highly correlated with another feature, dropped\n",
      "Feature num_var13_medio is highly correlated with another feature, dropped\n",
      "Feature num_var18_0 is highly correlated with another feature, dropped\n",
      "Feature num_var18 is highly correlated with another feature, dropped\n",
      "Feature num_var20_0 is highly correlated with another feature, dropped\n",
      "Feature num_var20 is highly correlated with another feature, dropped\n",
      "Feature num_var24 is highly correlated with another feature, dropped\n",
      "Feature num_var26 is highly correlated with another feature, dropped\n",
      "Feature num_var25 is highly correlated with another feature, dropped\n",
      "Feature num_var29_0 is highly correlated with another feature, dropped\n",
      "Feature num_var29 is highly correlated with another feature, dropped\n",
      "Feature num_var32 is highly correlated with another feature, dropped\n",
      "Feature num_var34_0 is highly correlated with another feature, dropped\n",
      "Feature num_var34 is highly correlated with another feature, dropped\n",
      "Feature num_var37 is highly correlated with another feature, dropped\n",
      "Feature num_var40_0 is highly correlated with another feature, dropped\n",
      "Feature num_var40 is highly correlated with another feature, dropped\n",
      "Feature num_var39 is highly correlated with another feature, dropped\n",
      "Feature num_var44 is highly correlated with another feature, dropped\n",
      "Feature saldo_var18 is highly correlated with another feature, dropped\n",
      "Feature saldo_var29 is highly correlated with another feature, dropped\n",
      "Feature delta_imp_amort_var18_1y3 is highly correlated with another feature, dropped\n",
      "Feature delta_imp_amort_var34_1y3 is highly correlated with another feature, dropped\n",
      "Feature delta_num_aport_var13_1y3 is highly correlated with another feature, dropped\n",
      "Feature delta_num_aport_var17_1y3 is highly correlated with another feature, dropped\n",
      "Feature delta_num_aport_var33_1y3 is highly correlated with another feature, dropped\n",
      "Feature delta_num_compra_var44_1y3 is highly correlated with another feature, dropped\n",
      "Feature delta_num_reemb_var13_1y3 is highly correlated with another feature, dropped\n",
      "Feature delta_num_reemb_var17_1y3 is highly correlated with another feature, dropped\n",
      "Feature delta_num_trasp_var17_in_1y3 is highly correlated with another feature, dropped\n",
      "Feature delta_num_trasp_var33_in_1y3 is highly correlated with another feature, dropped\n",
      "Feature delta_num_trasp_var33_out_1y3 is highly correlated with another feature, dropped\n",
      "Feature delta_num_venta_var44_1y3 is highly correlated with another feature, dropped\n",
      "Feature imp_amort_var18_ult1 is highly correlated with another feature, dropped\n",
      "Feature imp_trasp_var33_out_ult1 is highly correlated with another feature, dropped\n",
      "Feature num_var7_emit_ult1 is highly correlated with another feature, dropped\n",
      "Feature num_meses_var13_medio_ult3 is highly correlated with another feature, dropped\n",
      "Feature num_op_var39_efect_ult3 is highly correlated with another feature, dropped\n",
      "Feature num_reemb_var13_ult1 is highly correlated with another feature, dropped\n",
      "Feature num_trasp_var17_in_hace3 is highly correlated with another feature, dropped\n",
      "Feature num_trasp_var17_in_ult1 is highly correlated with another feature, dropped\n",
      "Feature num_trasp_var33_out_ult1 is highly correlated with another feature, dropped\n",
      "Feature saldo_medio_var13_medio_ult1 is highly correlated with another feature, dropped\n"
     ]
    }
   ],
   "source": [
    "Droper = []\n",
    "colList = []\n",
    "for col in trainData.columns.values:\n",
    "    for precol in colList:\n",
    "        if (abs(np.corrcoef(trainData[precol], trainData[col])[0,1]) > 0.999):\n",
    "            Droper.append(col)\n",
    "            print \"Feature %s is highly correlated with another feature, dropped\" % col\n",
    "            break\n",
    "    colList.append(col)"
   ]
  },
  {
   "cell_type": "code",
   "execution_count": 48,
   "metadata": {
    "collapsed": false
   },
   "outputs": [],
   "source": [
    "trainData = trainData.drop(Droper, 1)\n",
    "testData = testData.drop(Droper, 1)"
   ]
  },
  {
   "cell_type": "code",
   "execution_count": 49,
   "metadata": {
    "collapsed": true
   },
   "outputs": [],
   "source": [
    "from sklearn.metrics import roc_auc_score\n",
    "from sklearn.cross_validation import train_test_split"
   ]
  },
  {
   "cell_type": "code",
   "execution_count": 50,
   "metadata": {
    "collapsed": false
   },
   "outputs": [],
   "source": [
    "X_fit, X_eval, y_fit, y_eval= train_test_split(trainData, label, test_size=0.3)"
   ]
  },
  {
   "cell_type": "code",
   "execution_count": 51,
   "metadata": {
    "collapsed": false
   },
   "outputs": [],
   "source": [
    "clf = xgb.XGBClassifier(missing=np.nan, max_depth=5, n_estimators=350, learning_rate=0.03, nthread=8,\n",
    "                        subsample=0.95, colsample_bytree=0.85, seed=4242)"
   ]
  },
  {
   "cell_type": "code",
   "execution_count": 53,
   "metadata": {
    "collapsed": false
   },
   "outputs": [
    {
     "data": {
      "text/plain": [
       "XGBClassifier(base_score=0.5, colsample_bylevel=1, colsample_bytree=0.85,\n",
       "       gamma=0, learning_rate=0.03, max_delta_step=0, max_depth=5,\n",
       "       min_child_weight=1, missing=None, n_estimators=350, nthread=8,\n",
       "       objective='binary:logistic', reg_alpha=0, reg_lambda=1,\n",
       "       scale_pos_weight=1, seed=4242, silent=True, subsample=0.95)"
      ]
     },
     "execution_count": 53,
     "metadata": {},
     "output_type": "execute_result"
    }
   ],
   "source": [
    "clf.fit(trainData, label, early_stopping_rounds=20, eval_metric=\"auc\", eval_set=[(X_eval, y_eval)])"
   ]
  },
  {
   "cell_type": "code",
   "execution_count": 54,
   "metadata": {
    "collapsed": false
   },
   "outputs": [
    {
     "name": "stdout",
     "output_type": "stream",
     "text": [
      "('Overall AUC:', 0.88274809560232592)\n"
     ]
    }
   ],
   "source": [
    "print('Overall AUC:', roc_auc_score(label, clf.predict_proba(trainData)[:,1]))"
   ]
  },
  {
   "cell_type": "code",
   "execution_count": 56,
   "metadata": {
    "collapsed": false
   },
   "outputs": [],
   "source": [
    "y_pred= clf.predict_proba(testData)[:,1]\n",
    "submission = pd.DataFrame({\"ID\":idLine, \"TARGET\":y_pred})\n",
    "submission.to_csv(\"submission_xgboost_84_remove.csv\", index=False)"
   ]
  },
  {
   "cell_type": "code",
   "execution_count": null,
   "metadata": {
    "collapsed": true
   },
   "outputs": [],
   "source": []
  }
 ],
 "metadata": {
  "kernelspec": {
   "display_name": "Python 2",
   "language": "python",
   "name": "python2"
  },
  "language_info": {
   "codemirror_mode": {
    "name": "ipython",
    "version": 2
   },
   "file_extension": ".py",
   "mimetype": "text/x-python",
   "name": "python",
   "nbconvert_exporter": "python",
   "pygments_lexer": "ipython2",
   "version": "2.7.11"
  }
 },
 "nbformat": 4,
 "nbformat_minor": 0
}
