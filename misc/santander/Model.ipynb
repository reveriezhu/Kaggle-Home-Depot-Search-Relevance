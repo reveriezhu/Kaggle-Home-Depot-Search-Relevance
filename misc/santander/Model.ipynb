{
 "cells": [
  {
   "cell_type": "code",
   "execution_count": 1,
   "metadata": {
    "collapsed": false
   },
   "outputs": [],
   "source": [
    "import numpy as np\n",
    "import matplotlib.pyplot as plt\n",
    "%matplotlib inline\n",
    "import seaborn as sns\n",
    "import pandas as pd\n",
    "import zipfile\n",
    "import cPickle as pickle\n",
    "import sklearn\n",
    "import xgboost as xgb\n",
    "from sklearn.feature_selection import SelectKBest\n",
    "from sklearn.feature_selection import f_classif\n",
    "from sklearn import cross_validation\n",
    "from sklearn.metrics import roc_auc_score\n",
    "from sklearn.grid_search import GridSearchCV"
   ]
  },
  {
   "cell_type": "code",
   "execution_count": 2,
   "metadata": {
    "collapsed": false
   },
   "outputs": [],
   "source": [
    "z = zipfile.ZipFile('train.csv.zip')\n",
    "df = pd.read_csv(z.open('train.csv'))"
   ]
  },
  {
   "cell_type": "code",
   "execution_count": 3,
   "metadata": {
    "collapsed": false
   },
   "outputs": [
    {
     "data": {
      "text/plain": [
       "count     76020.000000\n",
       "mean      -1523.199277\n",
       "std       39033.462364\n",
       "min     -999999.000000\n",
       "25%           2.000000\n",
       "50%           2.000000\n",
       "75%           2.000000\n",
       "max         238.000000\n",
       "Name: var3, dtype: float64"
      ]
     },
     "execution_count": 3,
     "metadata": {},
     "output_type": "execute_result"
    }
   ],
   "source": [
    "df['var3'].describe()"
   ]
  },
  {
   "cell_type": "code",
   "execution_count": 3,
   "metadata": {
    "collapsed": false
   },
   "outputs": [],
   "source": [
    "df.replace(to_replace={'var3': {-999999: 2}}, inplace=True)"
   ]
  },
  {
   "cell_type": "code",
   "execution_count": 4,
   "metadata": {
    "collapsed": false
   },
   "outputs": [],
   "source": [
    "with open('dropped_features.dump', 'r') as f:\n",
    "    dropped_features = pickle.load(f)\n",
    "df.drop(dropped_features, axis=1, inplace=True)"
   ]
  },
  {
   "cell_type": "code",
   "execution_count": 26,
   "metadata": {
    "collapsed": false
   },
   "outputs": [],
   "source": [
    "x = df.drop(['ID', 'TARGET'], axis=1)\n",
    "y = df.TARGET"
   ]
  },
  {
   "cell_type": "code",
   "execution_count": 13,
   "metadata": {
    "collapsed": false
   },
   "outputs": [],
   "source": [
    "#selectK = SelectKBest(f_classif, k=100)\n",
    "#selectK.fit(x, y)\n",
    "#x_sel = selectK.transform(x)"
   ]
  },
  {
   "cell_type": "code",
   "execution_count": 42,
   "metadata": {
    "collapsed": false,
    "scrolled": true
   },
   "outputs": [],
   "source": [
    "sub_clf = xgb.XGBClassifier(\n",
    "                missing=np.nan,\n",
    "                max_depth=5,\n",
    "                n_estimators=250,\n",
    "                learning_rate=0.03, \n",
    "                nthread=4,\n",
    "                subsample=0.95,\n",
    "                colsample_bytree=0.85, \n",
    "                seed=4242\n",
    ")\n",
    "x_sel = x"
   ]
  },
  {
   "cell_type": "code",
   "execution_count": 35,
   "metadata": {
    "collapsed": false
   },
   "outputs": [
    {
     "name": "stdout",
     "output_type": "stream",
     "text": [
      "Auc: 0.839 (+/- 0.003)\n"
     ]
    }
   ],
   "source": [
    "cv = cross_validation.StratifiedKFold(y, n_folds=4, shuffle=True)\n",
    "scores = cross_validation.cross_val_score(sub_clf, x_sel, y, cv=cv, scoring='roc_auc')\n",
    "print(\"Auc: %0.3f (+/- %0.3f)\" % (scores.mean(), scores.std()))"
   ]
  },
  {
   "cell_type": "code",
   "execution_count": 43,
   "metadata": {
    "collapsed": false,
    "scrolled": true
   },
   "outputs": [
    {
     "data": {
      "text/plain": [
       "XGBClassifier(base_score=0.5, colsample_bylevel=1, colsample_bytree=0.85,\n",
       "       gamma=0, learning_rate=0.03, max_delta_step=0, max_depth=5,\n",
       "       min_child_weight=1, missing=None, n_estimators=250, nthread=4,\n",
       "       objective='binary:logistic', reg_alpha=0, reg_lambda=1,\n",
       "       scale_pos_weight=1, seed=4242, silent=True, subsample=0.95)"
      ]
     },
     "execution_count": 43,
     "metadata": {},
     "output_type": "execute_result"
    }
   ],
   "source": [
    "x_train, x_test, y_train, y_test = cross_validation.train_test_split(x_sel, y, random_state=1027, test_size=0.3)\n",
    "sub_clf.fit(x_train, y_train, early_stopping_rounds=20, eval_metric=\"auc\", eval_set=[(x_test, y_test)], verbose=True)"
   ]
  },
  {
   "cell_type": "code",
   "execution_count": 34,
   "metadata": {
    "collapsed": false
   },
   "outputs": [],
   "source": [
    "test = pd.read_csv(zipfile.ZipFile('test.csv.zip').open('test.csv'))\n",
    "test.drop(dropped_features, axis=1, inplace=True)\n",
    "x_test = test.drop(['ID'], axis=1)\n",
    "y_pred = sub_clf.predict_proba(x_test)\n",
    "submission = pd.DataFrame({\"ID\":test.ID, \"TARGET\":y_pred[:,1]})\n",
    "submission.to_csv(\"submission.csv\", index=False)"
   ]
  },
  {
   "cell_type": "code",
   "execution_count": 36,
   "metadata": {
    "collapsed": true
   },
   "outputs": [],
   "source": [
    "clf = xgb.XGBClassifier()\n",
    "xgb_params = {\n",
    "    'learning_rate': [0.04],\n",
    "    'n_estimators': [350, 200],\n",
    "    'max_depth': [5],\n",
    "    'subsample': [0.95],\n",
    "    'colsample_bytree': [0.85],\n",
    "    'seed': [4242]\n",
    "}\n",
    "cv = cross_validation.StratifiedKFold(y, n_folds=8, shuffle=True, random_state=1027)\n",
    "grid = GridSearchCV(clf, xgb_params, scoring='roc_auc', cv=cv, verbose=10, n_jobs=1)"
   ]
  },
  {
   "cell_type": "code",
   "execution_count": 38,
   "metadata": {
    "collapsed": false,
    "scrolled": true
   },
   "outputs": [
    {
     "name": "stdout",
     "output_type": "stream",
     "text": [
      "Fitting 8 folds for each of 2 candidates, totalling 16 fits\n",
      "[CV] colsample_bytree=0.85, learning_rate=0.04, n_estimators=350, subsample=0.95, seed=4242, max_depth=5 \n",
      "[CV]  colsample_bytree=0.85, learning_rate=0.04, n_estimators=350, subsample=0.95, seed=4242, max_depth=5, score=0.844070 - 1.6min\n",
      "[CV] colsample_bytree=0.85, learning_rate=0.04, n_estimators=350, subsample=0.95, seed=4242, max_depth=5 \n",
      "[CV]  colsample_bytree=0.85, learning_rate=0.04, n_estimators=350, subsample=0.95, seed=4242, max_depth=5, score=0.858414 - 1.5min\n",
      "[CV] colsample_bytree=0.85, learning_rate=0.04, n_estimators=350, subsample=0.95, seed=4242, max_depth=5 \n",
      "[CV]  colsample_bytree=0.85, learning_rate=0.04, n_estimators=350, subsample=0.95, seed=4242, max_depth=5, score=0.847333 - 1.9min\n",
      "[CV] colsample_bytree=0.85, learning_rate=0.04, n_estimators=350, subsample=0.95, seed=4242, max_depth=5 \n",
      "[CV]  colsample_bytree=0.85, learning_rate=0.04, n_estimators=350, subsample=0.95, seed=4242, max_depth=5, score=0.817342 - 1.7min\n"
     ]
    },
    {
     "name": "stderr",
     "output_type": "stream",
     "text": [
      "[Parallel(n_jobs=1)]: Done   1 tasks       | elapsed:  1.6min\n",
      "[Parallel(n_jobs=1)]: Done   4 tasks       | elapsed:  6.6min\n"
     ]
    },
    {
     "name": "stdout",
     "output_type": "stream",
     "text": [
      "[CV] colsample_bytree=0.85, learning_rate=0.04, n_estimators=350, subsample=0.95, seed=4242, max_depth=5 \n",
      "[CV]  colsample_bytree=0.85, learning_rate=0.04, n_estimators=350, subsample=0.95, seed=4242, max_depth=5, score=0.820589 - 1.5min\n",
      "[CV] colsample_bytree=0.85, learning_rate=0.04, n_estimators=350, subsample=0.95, seed=4242, max_depth=5 \n",
      "[CV]  colsample_bytree=0.85, learning_rate=0.04, n_estimators=350, subsample=0.95, seed=4242, max_depth=5, score=0.843786 - 1.6min\n",
      "[CV] colsample_bytree=0.85, learning_rate=0.04, n_estimators=350, subsample=0.95, seed=4242, max_depth=5 \n",
      "[CV]  colsample_bytree=0.85, learning_rate=0.04, n_estimators=350, subsample=0.95, seed=4242, max_depth=5, score=0.839579 - 1.8min\n",
      "[CV] colsample_bytree=0.85, learning_rate=0.04, n_estimators=350, subsample=0.95, seed=4242, max_depth=5 \n",
      "[CV]  colsample_bytree=0.85, learning_rate=0.04, n_estimators=350, subsample=0.95, seed=4242, max_depth=5, score=0.838620 - 1.6min\n",
      "[CV] colsample_bytree=0.85, learning_rate=0.04, n_estimators=200, subsample=0.95, seed=4242, max_depth=5 \n",
      "[CV]  colsample_bytree=0.85, learning_rate=0.04, n_estimators=200, subsample=0.95, seed=4242, max_depth=5, score=0.845221 - 1.2min\n",
      "[CV] colsample_bytree=0.85, learning_rate=0.04, n_estimators=200, subsample=0.95, seed=4242, max_depth=5 \n",
      "[CV]  colsample_bytree=0.85, learning_rate=0.04, n_estimators=200, subsample=0.95, seed=4242, max_depth=5, score=0.857566 -  56.0s\n",
      "[CV] colsample_bytree=0.85, learning_rate=0.04, n_estimators=200, subsample=0.95, seed=4242, max_depth=5 \n",
      "[CV]  colsample_bytree=0.85, learning_rate=0.04, n_estimators=200, subsample=0.95, seed=4242, max_depth=5, score=0.846977 -  49.8s\n",
      "[CV] colsample_bytree=0.85, learning_rate=0.04, n_estimators=200, subsample=0.95, seed=4242, max_depth=5 \n",
      "[CV]  colsample_bytree=0.85, learning_rate=0.04, n_estimators=200, subsample=0.95, seed=4242, max_depth=5, score=0.817106 -  52.2s\n"
     ]
    },
    {
     "name": "stderr",
     "output_type": "stream",
     "text": [
      "[Parallel(n_jobs=1)]: Done   7 tasks       | elapsed: 11.6min\n",
      "[Parallel(n_jobs=1)]: Done  12 tasks       | elapsed: 17.0min\n"
     ]
    },
    {
     "name": "stdout",
     "output_type": "stream",
     "text": [
      "[CV] colsample_bytree=0.85, learning_rate=0.04, n_estimators=200, subsample=0.95, seed=4242, max_depth=5 \n",
      "[CV]  colsample_bytree=0.85, learning_rate=0.04, n_estimators=200, subsample=0.95, seed=4242, max_depth=5, score=0.820825 -  50.5s\n",
      "[CV] colsample_bytree=0.85, learning_rate=0.04, n_estimators=200, subsample=0.95, seed=4242, max_depth=5 \n",
      "[CV]  colsample_bytree=0.85, learning_rate=0.04, n_estimators=200, subsample=0.95, seed=4242, max_depth=5, score=0.844130 -  50.5s\n",
      "[CV] colsample_bytree=0.85, learning_rate=0.04, n_estimators=200, subsample=0.95, seed=4242, max_depth=5 \n",
      "[CV]  colsample_bytree=0.85, learning_rate=0.04, n_estimators=200, subsample=0.95, seed=4242, max_depth=5, score=0.839860 -  52.9s\n",
      "[CV] colsample_bytree=0.85, learning_rate=0.04, n_estimators=200, subsample=0.95, seed=4242, max_depth=5 \n",
      "[CV]  colsample_bytree=0.85, learning_rate=0.04, n_estimators=200, subsample=0.95, seed=4242, max_depth=5, score=0.838832 -  50.6s\n"
     ]
    },
    {
     "name": "stderr",
     "output_type": "stream",
     "text": [
      "[Parallel(n_jobs=1)]: Done  16 out of  16 | elapsed: 20.4min finished\n"
     ]
    },
    {
     "data": {
      "text/plain": [
       "GridSearchCV(cv=sklearn.cross_validation.StratifiedKFold(labels=[0 0 ..., 0 0], n_folds=8, shuffle=True, random_state=1027),\n",
       "       error_score='raise',\n",
       "       estimator=XGBClassifier(base_score=0.5, colsample_bylevel=1, colsample_bytree=1,\n",
       "       gamma=0, learning_rate=0.1, max_delta_step=0, max_depth=3,\n",
       "       min_child_weight=1, missing=None, n_estimators=100, nthread=-1,\n",
       "       objective='binary:logistic', reg_alpha=0, reg_lambda=1,\n",
       "       scale_pos_weight=1, seed=0, silent=True, subsample=1),\n",
       "       fit_params={}, iid=True, n_jobs=1,\n",
       "       param_grid={'colsample_bytree': [0.85], 'learning_rate': [0.04], 'n_estimators': [350, 200], 'subsample': [0.95], 'seed': [4242], 'max_depth': [5]},\n",
       "       pre_dispatch='2*n_jobs', refit=True, scoring='roc_auc', verbose=10)"
      ]
     },
     "execution_count": 38,
     "metadata": {},
     "output_type": "execute_result"
    }
   ],
   "source": [
    "grid.fit(x_sel, y)"
   ]
  },
  {
   "cell_type": "code",
   "execution_count": 39,
   "metadata": {
    "collapsed": false
   },
   "outputs": [
    {
     "data": {
      "text/plain": [
       "{'colsample_bytree': 0.85,\n",
       " 'learning_rate': 0.04,\n",
       " 'max_depth': 5,\n",
       " 'n_estimators': 200,\n",
       " 'seed': 4242,\n",
       " 'subsample': 0.95}"
      ]
     },
     "execution_count": 39,
     "metadata": {},
     "output_type": "execute_result"
    }
   ],
   "source": [
    "grid.best_params_"
   ]
  },
  {
   "cell_type": "markdown",
   "metadata": {},
   "source": [
    "## Grid Search"
   ]
  },
  {
   "cell_type": "code",
   "execution_count": 37,
   "metadata": {
    "collapsed": true
   },
   "outputs": [],
   "source": [
    "import sys\n",
    "class flushfile(object):\n",
    "    def __init__(self, f):\n",
    "        self.f = f\n",
    "\n",
    "    def __getattr__(self,name): \n",
    "        return object.__getattribute__(self.f, name)\n",
    "\n",
    "    def write(self, x):\n",
    "        self.f.write(x)\n",
    "        self.f.flush()\n",
    "\n",
    "    def flush(self):\n",
    "        self.f.flush()\n",
    "sys.stdout = flushfile(sys.stdout)        "
   ]
  },
  {
   "cell_type": "markdown",
   "metadata": {},
   "source": [
    "### Grid Search #1"
   ]
  },
  {
   "cell_type": "code",
   "execution_count": null,
   "metadata": {
    "collapsed": false
   },
   "outputs": [],
   "source": [
    "clf = xgb.XGBClassifier()\n",
    "xgb_params = {\n",
    "    'learning_rate': [0.1],\n",
    "    'n_estimators': [100, 500, 1000],\n",
    "    'max_depth': [3, 7, 11]\n",
    "}\n",
    "cv = cross_validation.StratifiedKFold(y)\n",
    "grid = GridSearchCV(clf, xgb_params, scoring='roc_auc', cv=cv, verbose=10, n_jobs=1)"
   ]
  },
  {
   "cell_type": "code",
   "execution_count": null,
   "metadata": {
    "collapsed": true
   },
   "outputs": [],
   "source": [
    "grid.fit(x_sel, y)"
   ]
  },
  {
   "cell_type": "code",
   "execution_count": null,
   "metadata": {
    "collapsed": false,
    "scrolled": true
   },
   "outputs": [],
   "source": [
    "grid.best_params_"
   ]
  },
  {
   "cell_type": "markdown",
   "metadata": {},
   "source": [
    "### Grid Search #2"
   ]
  },
  {
   "cell_type": "code",
   "execution_count": null,
   "metadata": {
    "collapsed": true
   },
   "outputs": [],
   "source": [
    "clf = xgb.XGBClassifier()\n",
    "xgb_params = {\n",
    "    'learning_rate': [0.05],\n",
    "    'n_estimators': [50, 100, 200],\n",
    "    'max_depth': [3, 5, 7]\n",
    "}\n",
    "cv = cross_validation.StratifiedKFold(y)\n",
    "grid = GridSearchCV(clf, xgb_params, scoring='roc_auc', cv=cv, verbose=10, n_jobs=1)"
   ]
  },
  {
   "cell_type": "code",
   "execution_count": null,
   "metadata": {
    "collapsed": false,
    "scrolled": true
   },
   "outputs": [],
   "source": [
    "grid.fit(x_sel, y)"
   ]
  },
  {
   "cell_type": "code",
   "execution_count": null,
   "metadata": {
    "collapsed": false
   },
   "outputs": [],
   "source": [
    "grid.best_params_"
   ]
  },
  {
   "cell_type": "markdown",
   "metadata": {},
   "source": [
    "### Grid Search #3"
   ]
  },
  {
   "cell_type": "code",
   "execution_count": null,
   "metadata": {
    "collapsed": false
   },
   "outputs": [],
   "source": [
    "clf = xgb.XGBClassifier()\n",
    "xgb_params = {\n",
    "    'learning_rate': [0.05],\n",
    "    'n_estimators': [200, 300, 400],\n",
    "    'max_depth': [4, 5, 6],\n",
    "    'subsample': [0.9, 0.925, 0.95, 0.975],\n",
    "    'colsample_bytree': [0.8, 0.825, 0.85, 0.875, 0.9],\n",
    "    'seed': [1126]\n",
    "}\n",
    "cv = cross_validation.StratifiedKFold(y)\n",
    "grid = GridSearchCV(clf, xgb_params, scoring='roc_auc', cv=cv, verbose=10, n_jobs=1)"
   ]
  },
  {
   "cell_type": "code",
   "execution_count": null,
   "metadata": {
    "collapsed": false,
    "scrolled": true
   },
   "outputs": [],
   "source": [
    "grid.fit(x_sel, y)"
   ]
  },
  {
   "cell_type": "code",
   "execution_count": null,
   "metadata": {
    "collapsed": true
   },
   "outputs": [],
   "source": [
    "best_clf = grid.best_estimator_\n",
    "print grid.best_params_"
   ]
  },
  {
   "cell_type": "code",
   "execution_count": null,
   "metadata": {
    "collapsed": false
   },
   "outputs": [],
   "source": [
    "cv = cross_validation.StratifiedKFold(y, n_folds=4, shuffle=True)\n",
    "scores = cross_validation.cross_val_score(best_clf, x_sel, y, cv=cv, scoring='roc_auc')\n",
    "print(\"Auc: %0.3f (+/- %0.3f)\" % (scores.mean(), scores.std()))"
   ]
  },
  {
   "cell_type": "markdown",
   "metadata": {},
   "source": [
    "### Early Stopping"
   ]
  },
  {
   "cell_type": "code",
   "execution_count": null,
   "metadata": {
    "collapsed": true
   },
   "outputs": [],
   "source": [
    "x_train, x_test, y_train, y_test = cross_validation.train_test_split(x_sel, y, random_state=1125, stratify=y, test_size=0.3)"
   ]
  },
  {
   "cell_type": "code",
   "execution_count": null,
   "metadata": {
    "collapsed": false,
    "scrolled": true
   },
   "outputs": [],
   "source": [
    "best_clf.fit(x_train, y_train, early_stopping_rounds=25, eval_metric=\"auc\", eval_set=[(x_test, y_test)], verbose=True)"
   ]
  },
  {
   "cell_type": "markdown",
   "metadata": {},
   "source": [
    "### Fuck"
   ]
  },
  {
   "cell_type": "code",
   "execution_count": null,
   "metadata": {
    "collapsed": false
   },
   "outputs": [],
   "source": [
    "print grid.best_params_"
   ]
  },
  {
   "cell_type": "code",
   "execution_count": null,
   "metadata": {
    "collapsed": true
   },
   "outputs": [],
   "source": [
    "clf = xgb.XGBClassifier(\n",
    "                max_depth = 4,\n",
    "                n_estimators=200,\n",
    "                learning_rate=0.045, \n",
    "                nthread=4,\n",
    "                subsample=0.975,\n",
    "                colsample_bytree=0.875, \n",
    "                seed=1126\n",
    ")\n",
    "clf.fit(x_train, y_train, early_stopping_rounds=30, eval_metric=\"auc\", eval_set=[(x_test, y_test)], verbose=True)\n",
    "test = pd.read_csv(zipfile.ZipFile('test.csv.zip').open('test.csv'))\n",
    "sel_test = selectK.transform(test)    \n",
    "y_pred = best_clf.predict_proba(sel_test)\n",
    "submission = pd.DataFrame({\"ID\":test.ID, \"TARGET\":y_pred[:,1]})\n",
    "submission.to_csv(\"submission.csv\", index=False)"
   ]
  },
  {
   "cell_type": "markdown",
   "metadata": {},
   "source": [
    "## Grid Search #4"
   ]
  },
  {
   "cell_type": "code",
   "execution_count": 17,
   "metadata": {
    "collapsed": false
   },
   "outputs": [],
   "source": [
    "clf = xgb.XGBClassifier()\n",
    "xgb_params = {\n",
    "    'learning_rate': [0.040, 0.045, 0.050, 0.055, 0.060],\n",
    "    'n_estimators': [175, 200, 225, 250],\n",
    "    'max_depth': [4],\n",
    "    'subsample': [0.975, 0.980, 0.985, 0.990],\n",
    "    'colsample_bytree': [0.8625, 0.875, 0.8875],\n",
    "    'seed': [1027]\n",
    "}\n",
    "cv = cross_validation.StratifiedKFold(y, n_folds=8, shuffle=True, random_state=1027)\n",
    "grid = GridSearchCV(clf, xgb_params, scoring='roc_auc', cv=cv, verbose=10, n_jobs=-1)"
   ]
  },
  {
   "cell_type": "code",
   "execution_count": 18,
   "metadata": {
    "collapsed": false
   },
   "outputs": [
    {
     "name": "stdout",
     "output_type": "stream",
     "text": [
      "Fitting 8 folds for each of 240 candidates, totalling 1920 fits\n"
     ]
    },
    {
     "name": "stderr",
     "output_type": "stream",
     "text": [
      "[Parallel(n_jobs=-1)]: Done   5 tasks      | elapsed:  1.6min\n",
      "[Parallel(n_jobs=-1)]: Done  10 tasks      | elapsed:  2.9min\n",
      "[Parallel(n_jobs=-1)]: Done  17 tasks      | elapsed:  4.7min\n",
      "[Parallel(n_jobs=-1)]: Done  24 tasks      | elapsed:  6.5min\n",
      "[Parallel(n_jobs=-1)]: Done  33 tasks      | elapsed:  8.8min\n",
      "[Parallel(n_jobs=-1)]: Done  42 tasks      | elapsed: 10.9min\n",
      "[Parallel(n_jobs=-1)]: Done  53 tasks      | elapsed: 13.8min\n",
      "[Parallel(n_jobs=-1)]: Done  64 tasks      | elapsed: 16.8min\n",
      "[Parallel(n_jobs=-1)]: Done  77 tasks      | elapsed: 20.6min\n",
      "[Parallel(n_jobs=-1)]: Done  90 tasks      | elapsed: 24.5min\n",
      "[Parallel(n_jobs=-1)]: Done 105 tasks      | elapsed: 29.1min\n",
      "[Parallel(n_jobs=-1)]: Done 120 tasks      | elapsed: 33.8min\n",
      "[Parallel(n_jobs=-1)]: Done 137 tasks      | elapsed: 38.4min\n",
      "[Parallel(n_jobs=-1)]: Done 154 tasks      | elapsed: 42.5min\n",
      "[Parallel(n_jobs=-1)]: Done 173 tasks      | elapsed: 47.2min\n",
      "[Parallel(n_jobs=-1)]: Done 192 tasks      | elapsed: 52.0min\n",
      "[Parallel(n_jobs=-1)]: Done 213 tasks      | elapsed: 58.1min\n",
      "[Parallel(n_jobs=-1)]: Done 234 tasks      | elapsed: 64.7min\n",
      "[Parallel(n_jobs=-1)]: Done 257 tasks      | elapsed: 72.0min\n",
      "[Parallel(n_jobs=-1)]: Done 280 tasks      | elapsed: 77.1min\n",
      "[Parallel(n_jobs=-1)]: Done 305 tasks      | elapsed: 83.2min\n",
      "[Parallel(n_jobs=-1)]: Done 330 tasks      | elapsed: 90.5min\n",
      "[Parallel(n_jobs=-1)]: Done 357 tasks      | elapsed: 98.2min\n",
      "[Parallel(n_jobs=-1)]: Done 384 tasks      | elapsed: 106.8min\n",
      "[Parallel(n_jobs=-1)]: Done 413 tasks      | elapsed: 113.3min\n",
      "[Parallel(n_jobs=-1)]: Done 442 tasks      | elapsed: 120.6min\n",
      "[Parallel(n_jobs=-1)]: Done 473 tasks      | elapsed: 129.5min\n",
      "[Parallel(n_jobs=-1)]: Done 504 tasks      | elapsed: 139.6min\n",
      "[Parallel(n_jobs=-1)]: Done 537 tasks      | elapsed: 147.6min\n",
      "[Parallel(n_jobs=-1)]: Done 570 tasks      | elapsed: 155.7min\n",
      "[Parallel(n_jobs=-1)]: Done 605 tasks      | elapsed: 165.6min\n",
      "[Parallel(n_jobs=-1)]: Done 640 tasks      | elapsed: 177.0min\n",
      "[Parallel(n_jobs=-1)]: Done 677 tasks      | elapsed: 185.8min\n",
      "[Parallel(n_jobs=-1)]: Done 714 tasks      | elapsed: 195.7min\n",
      "[Parallel(n_jobs=-1)]: Done 753 tasks      | elapsed: 207.4min\n",
      "[Parallel(n_jobs=-1)]: Done 792 tasks      | elapsed: 218.0min\n",
      "[Parallel(n_jobs=-1)]: Done 833 tasks      | elapsed: 228.6min\n",
      "[Parallel(n_jobs=-1)]: Done 874 tasks      | elapsed: 240.7min\n",
      "[Parallel(n_jobs=-1)]: Done 917 tasks      | elapsed: 252.8min\n",
      "[Parallel(n_jobs=-1)]: Done 960 tasks      | elapsed: 263.5min\n",
      "[Parallel(n_jobs=-1)]: Done 1005 tasks      | elapsed: 277.5min\n",
      "[Parallel(n_jobs=-1)]: Done 1050 tasks      | elapsed: 289.1min\n",
      "[Parallel(n_jobs=-1)]: Done 1097 tasks      | elapsed: 301.6min\n",
      "[Parallel(n_jobs=-1)]: Done 1144 tasks      | elapsed: 315.9min\n",
      "[Parallel(n_jobs=-1)]: Done 1193 tasks      | elapsed: 328.4min\n",
      "[Parallel(n_jobs=-1)]: Done 1242 tasks      | elapsed: 341.9min\n",
      "[Parallel(n_jobs=-1)]: Done 1293 tasks      | elapsed: 356.9min\n",
      "[Parallel(n_jobs=-1)]: Done 1344 tasks      | elapsed: 369.9min\n",
      "[Parallel(n_jobs=-1)]: Done 1397 tasks      | elapsed: 386.6min\n",
      "[Parallel(n_jobs=-1)]: Done 1450 tasks      | elapsed: 399.7min\n",
      "[Parallel(n_jobs=-1)]: Done 1505 tasks      | elapsed: 415.5min\n",
      "[Parallel(n_jobs=-1)]: Done 1560 tasks      | elapsed: 431.0min\n",
      "[Parallel(n_jobs=-1)]: Done 1617 tasks      | elapsed: 446.6min\n",
      "[Parallel(n_jobs=-1)]: Done 1674 tasks      | elapsed: 463.7min\n",
      "[Parallel(n_jobs=-1)]: Done 1733 tasks      | elapsed: 478.6min\n",
      "[Parallel(n_jobs=-1)]: Done 1792 tasks      | elapsed: 497.1min\n",
      "[Parallel(n_jobs=-1)]: Done 1853 tasks      | elapsed: 512.1min\n",
      "[Parallel(n_jobs=-1)]: Done 1920 out of 1920 | elapsed: 532.3min finished\n"
     ]
    },
    {
     "data": {
      "text/plain": [
       "GridSearchCV(cv=sklearn.cross_validation.StratifiedKFold(labels=[0 0 ..., 0 0], n_folds=8, shuffle=True, random_state=1027),\n",
       "       error_score='raise',\n",
       "       estimator=XGBClassifier(base_score=0.5, colsample_bylevel=1, colsample_bytree=1,\n",
       "       gamma=0, learning_rate=0.1, max_delta_step=0, max_depth=3,\n",
       "       min_child_weight=1, missing=None, n_estimators=100, nthread=-1,\n",
       "       objective='binary:logistic', reg_alpha=0, reg_lambda=1,\n",
       "       scale_pos_weight=1, seed=0, silent=True, subsample=1),\n",
       "       fit_params={}, iid=True, n_jobs=-1,\n",
       "       param_grid={'colsample_bytree': [0.8625, 0.875, 0.8875], 'learning_rate': [0.04, 0.045, 0.05, 0.055, 0.06], 'n_estimators': [175, 200, 225, 250], 'subsample': [0.975, 0.98, 0.985, 0.99], 'seed': [1027], 'max_depth': [4]},\n",
       "       pre_dispatch='2*n_jobs', refit=True, scoring='roc_auc', verbose=10)"
      ]
     },
     "execution_count": 18,
     "metadata": {},
     "output_type": "execute_result"
    }
   ],
   "source": [
    "grid.fit(x_sel, y)"
   ]
  },
  {
   "cell_type": "code",
   "execution_count": 19,
   "metadata": {
    "collapsed": false,
    "scrolled": true
   },
   "outputs": [
    {
     "data": {
      "text/plain": [
       "{'colsample_bytree': 0.875,\n",
       " 'learning_rate': 0.045,\n",
       " 'max_depth': 4,\n",
       " 'n_estimators': 250,\n",
       " 'seed': 1027,\n",
       " 'subsample': 0.985}"
      ]
     },
     "execution_count": 19,
     "metadata": {},
     "output_type": "execute_result"
    }
   ],
   "source": [
    "grid.best_params_"
   ]
  },
  {
   "cell_type": "markdown",
   "metadata": {},
   "source": [
    "# Fuck"
   ]
  },
  {
   "cell_type": "code",
   "execution_count": 40,
   "metadata": {
    "collapsed": true
   },
   "outputs": [],
   "source": [
    "x_train, x_test, y_train, y_test = cross_validation.train_test_split(x_sel, y, random_state=1126, stratify=y, test_size=0.3)"
   ]
  },
  {
   "cell_type": "code",
   "execution_count": 41,
   "metadata": {
    "collapsed": false,
    "scrolled": true
   },
   "outputs": [],
   "source": [
    "sub_clf = xgb.XGBClassifier(\n",
    "                max_depth = 5,\n",
    "                n_estimators=350,\n",
    "                learning_rate=0.045, \n",
    "                nthread=4,\n",
    "                subsample=0.985,\n",
    "                colsample_bytree=0.875, \n",
    "                seed=1027\n",
    ")"
   ]
  },
  {
   "cell_type": "code",
   "execution_count": 42,
   "metadata": {
    "collapsed": false
   },
   "outputs": [
    {
     "name": "stdout",
     "output_type": "stream",
     "text": [
      "Auc: 0.836 (+/- 0.005)\n"
     ]
    }
   ],
   "source": [
    "cv = cross_validation.StratifiedKFold(y_train, n_folds=4, shuffle=True)\n",
    "scores = cross_validation.cross_val_score(sub_clf, x_train, y_train, cv=cv, scoring='roc_auc')\n",
    "print(\"Auc: %0.3f (+/- %0.3f)\" % (scores.mean(), scores.std()))"
   ]
  },
  {
   "cell_type": "code",
   "execution_count": 44,
   "metadata": {
    "collapsed": true
   },
   "outputs": [],
   "source": [
    "sub_clf.fit(x_sel, y, verbose=True)\n",
    "test = pd.read_csv(zipfile.ZipFile('test.csv.zip').open('test.csv'))\n",
    "sel_test = selectK.transform(test)    \n",
    "y_pred = sub_clf.predict_proba(sel_test)\n",
    "submission = pd.DataFrame({\"ID\":test.ID, \"TARGET\":y_pred[:,1]})\n",
    "submission.to_csv(\"submission.csv\", index=False)"
   ]
  },
  {
   "cell_type": "markdown",
   "metadata": {},
   "source": [
    "## Grid Search #5"
   ]
  },
  {
   "cell_type": "code",
   "execution_count": null,
   "metadata": {
    "collapsed": true
   },
   "outputs": [],
   "source": [
    "clf = xgb.XGBClassifier()\n",
    "xgb_params = {\n",
    "    'learning_rate': [0.045],\n",
    "    'n_estimators': [250],\n",
    "    'max_depth': [4],\n",
    "    'subsample': [0.985],\n",
    "    'colsample_bytree': [0.875],\n",
    "    'seed': [1027]\n",
    "}\n",
    "cv = cross_validation.StratifiedKFold(y, n_folds=8, shuffle=True, random_state=1027)\n",
    "grid = GridSearchCV(clf, xgb_params, scoring='roc_auc', cv=cv, verbose=10, n_jobs=-1)"
   ]
  }
 ],
 "metadata": {
  "kernelspec": {
   "display_name": "Python 2",
   "language": "python",
   "name": "python2"
  },
  "language_info": {
   "codemirror_mode": {
    "name": "ipython",
    "version": 2
   },
   "file_extension": ".py",
   "mimetype": "text/x-python",
   "name": "python",
   "nbconvert_exporter": "python",
   "pygments_lexer": "ipython2",
   "version": "2.7.11"
  }
 },
 "nbformat": 4,
 "nbformat_minor": 0
}
