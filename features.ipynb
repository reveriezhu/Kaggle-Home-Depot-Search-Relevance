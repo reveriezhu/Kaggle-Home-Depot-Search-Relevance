{
 "cells": [
  {
   "cell_type": "code",
   "execution_count": 1,
   "metadata": {
    "collapsed": false,
    "deletable": true,
    "editable": true
   },
   "outputs": [],
   "source": [
    "import warnings\n",
    "warnings.filterwarnings('ignore')\n",
    "import re\n",
    "import time\n",
    "import numpy as np\n",
    "import matplotlib.pyplot as plt\n",
    "import seaborn as sns\n",
    "%matplotlib inline\n",
    "import pandas as pd\n",
    "pd.options.display.max_columns = None\n",
    "pd.options.display.mpl_style = 'default'\n",
    "from nltk.tokenize import word_tokenize\n",
    "from util3 import *"
   ]
  },
  {
   "cell_type": "markdown",
   "metadata": {
    "deletable": true,
    "editable": true
   },
   "source": [
    "## Load Files"
   ]
  },
  {
   "cell_type": "code",
   "execution_count": 2,
   "metadata": {
    "collapsed": false,
    "deletable": true,
    "editable": true
   },
   "outputs": [],
   "source": [
    "df_train = pd.read_csv('./data/train.csv', encoding='ISO-8859-1')\n",
    "df_test = pd.read_csv('./data/test.csv', encoding='ISO-8859-1')\n",
    "df_desp = pd.read_csv('./data/product_descriptions.csv', encoding='ISO-8859-1')\n",
    "df_attr = pd.read_csv('./data/attributes.csv', encoding='ISO-8859-1')\n",
    "num_train = df_train.shape[0]"
   ]
  },
  {
   "cell_type": "markdown",
   "metadata": {
    "deletable": true,
    "editable": true
   },
   "source": [
    "## Attributes"
   ]
  },
  {
   "cell_type": "markdown",
   "metadata": {},
   "source": [
    "Explore what are the useful attributes and how to represent them as features."
   ]
  },
  {
   "cell_type": "code",
   "execution_count": 86,
   "metadata": {
    "collapsed": false,
    "deletable": true,
    "editable": true
   },
   "outputs": [
    {
     "data": {
      "text/plain": [
       "Bullet02                       86248\n",
       "Bullet03                       86226\n",
       "MFG Brand Name                 86220\n",
       "Bullet04                       86174\n",
       "Bullet01                       85940\n",
       "Product Width (in.)            61137\n",
       "Bullet05                       60528\n",
       "Product Height (in.)           54698\n",
       "Product Depth (in.)            53652\n",
       "Product Weight (lb.)           45175\n",
       "Bullet06                       44901\n",
       "Color Family                   41508\n",
       "Bullet07                       34349\n",
       "Material                       31499\n",
       "Color/Finish                   28540\n",
       "Bullet08                       26645\n",
       "Certifications and Listings    24583\n",
       "Bullet09                       20567\n",
       "Assembled Height (in.)         18299\n",
       "Assembled Width (in.)          18263\n",
       "Assembled Depth (in.)          18198\n",
       "Product Length (in.)           16705\n",
       "Bullet10                       14763\n",
       "Indoor/Outdoor                 12939\n",
       "Bullet11                       11784\n",
       "Commercial / Residential        9530\n",
       "Bullet12                        8795\n",
       "ENERGY STAR Certified           8420\n",
       "Hardware Included               7462\n",
       "Package Quantity                6904\n",
       "Name: name, dtype: int64"
      ]
     },
     "execution_count": 86,
     "metadata": {},
     "output_type": "execute_result"
    }
   ],
   "source": [
    "df_attr['name'].value_counts()[:30]"
   ]
  },
  {
   "cell_type": "code",
   "execution_count": 3,
   "metadata": {
    "collapsed": true,
    "deletable": true,
    "editable": true
   },
   "outputs": [],
   "source": [
    "df_attr.dropna(inplace=True)"
   ]
  },
  {
   "cell_type": "markdown",
   "metadata": {
    "deletable": true,
    "editable": true
   },
   "source": [
    "Among the top 30 attributes, some seem to be not very useful. They are:\n",
    "- Certifications and Listings\n",
    "- Package Quantity\n",
    "- Hardware Included  "
   ]
  },
  {
   "cell_type": "markdown",
   "metadata": {},
   "source": [
    "Spend some time to manually inspect the dataset."
   ]
  },
  {
   "cell_type": "code",
   "execution_count": 4,
   "metadata": {
    "collapsed": true,
    "deletable": true,
    "editable": true
   },
   "outputs": [],
   "source": [
    "def filter_str(df, s, col='search_term'):\n",
    "    return df[df[col].str.lower().str.contains(s)]"
   ]
  },
  {
   "cell_type": "code",
   "execution_count": 124,
   "metadata": {
    "collapsed": true,
    "deletable": true,
    "editable": true
   },
   "outputs": [
    {
     "data": {
      "text/html": [
       "<div>\n",
       "<table border=\"1\" class=\"dataframe\">\n",
       "  <thead>\n",
       "    <tr style=\"text-align: right;\">\n",
       "      <th></th>\n",
       "      <th>id</th>\n",
       "      <th>product_title</th>\n",
       "      <th>product_uid</th>\n",
       "      <th>relevance</th>\n",
       "      <th>search_term</th>\n",
       "      <th>product_description</th>\n",
       "      <th>brand</th>\n",
       "      <th>bullet</th>\n",
       "      <th>bullet_count</th>\n",
       "      <th>color</th>\n",
       "      <th>material</th>\n",
       "      <th>flag_commercial</th>\n",
       "      <th>flag_residential</th>\n",
       "    </tr>\n",
       "  </thead>\n",
       "  <tbody>\n",
       "    <tr>\n",
       "      <th>375</th>\n",
       "      <td>1208</td>\n",
       "      <td>Liberty 3-3/4 in. Steel Bar Pull (25-Pack)</td>\n",
       "      <td>100209</td>\n",
       "      <td>2.67</td>\n",
       "      <td>bathroom hardware knobs and pulls</td>\n",
       "      <td>Sleek and sophisticated, this design makes a c...</td>\n",
       "      <td>Liberty</td>\n",
       "      <td></td>\n",
       "      <td>0.0</td>\n",
       "      <td></td>\n",
       "      <td>Steel</td>\n",
       "      <td>-1.0</td>\n",
       "      <td>-1.0</td>\n",
       "    </tr>\n",
       "    <tr>\n",
       "      <th>1416</th>\n",
       "      <td>4355</td>\n",
       "      <td>Martha Stewart Living 3-3/4 in. Bar Cabinet Ha...</td>\n",
       "      <td>100748</td>\n",
       "      <td>2.33</td>\n",
       "      <td>3/4' hardware</td>\n",
       "      <td>The Martha Stewart Living Country 3-3/4 in. Po...</td>\n",
       "      <td>Martha Stewart Living</td>\n",
       "      <td></td>\n",
       "      <td>0.0</td>\n",
       "      <td></td>\n",
       "      <td>Metal</td>\n",
       "      <td>-1.0</td>\n",
       "      <td>-1.0</td>\n",
       "    </tr>\n",
       "    <tr>\n",
       "      <th>1989</th>\n",
       "      <td>6161</td>\n",
       "      <td>Defiant Hartford Satin Nickel Entry Knob</td>\n",
       "      <td>101061</td>\n",
       "      <td>2.67</td>\n",
       "      <td>door lock hardware</td>\n",
       "      <td>Featuring a lifetime guarantee, Defiant meets ...</td>\n",
       "      <td>Defiant</td>\n",
       "      <td></td>\n",
       "      <td>0.0</td>\n",
       "      <td></td>\n",
       "      <td>Stainless steel Metal</td>\n",
       "      <td>-1.0</td>\n",
       "      <td>-1.0</td>\n",
       "    </tr>\n",
       "    <tr>\n",
       "      <th>2180</th>\n",
       "      <td>6735</td>\n",
       "      <td>Martha Stewart Living 3-3/4 in. Dowel Cabinet ...</td>\n",
       "      <td>101158</td>\n",
       "      <td>3.00</td>\n",
       "      <td>3/4' hardware</td>\n",
       "      <td>The Martha Stewart Living Country 3-3/4 in. Be...</td>\n",
       "      <td>Martha Stewart Living</td>\n",
       "      <td></td>\n",
       "      <td>0.0</td>\n",
       "      <td></td>\n",
       "      <td>Metal</td>\n",
       "      <td>-1.0</td>\n",
       "      <td>-1.0</td>\n",
       "    </tr>\n",
       "    <tr>\n",
       "      <th>2295</th>\n",
       "      <td>7047</td>\n",
       "      <td>Oz-Post T4-850 4 in. Square Wood Post Anchor (...</td>\n",
       "      <td>101200</td>\n",
       "      <td>1.33</td>\n",
       "      <td>oz metal fence hardware</td>\n",
       "      <td>Oz-Post is one of the best ways to secure a wo...</td>\n",
       "      <td>Oz-Post</td>\n",
       "      <td></td>\n",
       "      <td>0.0</td>\n",
       "      <td></td>\n",
       "      <td>Metal</td>\n",
       "      <td>-1.0</td>\n",
       "      <td>-1.0</td>\n",
       "    </tr>\n",
       "    <tr>\n",
       "      <th>2337</th>\n",
       "      <td>7169</td>\n",
       "      <td>Liberty 2-3/4 in. or 3 in. Newton Cabinet Hard...</td>\n",
       "      <td>101223</td>\n",
       "      <td>2.00</td>\n",
       "      <td>3/4' hardware</td>\n",
       "      <td>The Liberty 2-3/4 or 3 in. Satin Nickel Dual-M...</td>\n",
       "      <td>Liberty</td>\n",
       "      <td></td>\n",
       "      <td>0.0</td>\n",
       "      <td></td>\n",
       "      <td>Metal</td>\n",
       "      <td>-1.0</td>\n",
       "      <td>-1.0</td>\n",
       "    </tr>\n",
       "    <tr>\n",
       "      <th>2339</th>\n",
       "      <td>7172</td>\n",
       "      <td>Liberty 2-3/4 in. or 3 in. Newton Cabinet Hard...</td>\n",
       "      <td>101223</td>\n",
       "      <td>3.00</td>\n",
       "      <td>kitchen cabinet drawer center-mount hardware</td>\n",
       "      <td>The Liberty 2-3/4 or 3 in. Satin Nickel Dual-M...</td>\n",
       "      <td>Liberty</td>\n",
       "      <td></td>\n",
       "      <td>0.0</td>\n",
       "      <td></td>\n",
       "      <td>Metal</td>\n",
       "      <td>-1.0</td>\n",
       "      <td>-1.0</td>\n",
       "    </tr>\n",
       "    <tr>\n",
       "      <th>2706</th>\n",
       "      <td>8370</td>\n",
       "      <td>HDX 4 ft. x 100 ft. 14-Gauge Welded Wire</td>\n",
       "      <td>101419</td>\n",
       "      <td>2.00</td>\n",
       "      <td>wire fences hardware</td>\n",
       "      <td>The HDX 4 ft. x 100 ft. Welded Wire is made of...</td>\n",
       "      <td>HDX</td>\n",
       "      <td>Silver</td>\n",
       "      <td>1.0</td>\n",
       "      <td>Silver</td>\n",
       "      <td>Metal</td>\n",
       "      <td>-1.0</td>\n",
       "      <td>-1.0</td>\n",
       "    </tr>\n",
       "    <tr>\n",
       "      <th>2965</th>\n",
       "      <td>9189</td>\n",
       "      <td>Liberty 2-1/2 in. or 3 in. Dark Oil Rubbed Bro...</td>\n",
       "      <td>101566</td>\n",
       "      <td>2.00</td>\n",
       "      <td>kitchen hardware</td>\n",
       "      <td>Use the Liberty Hardware 2-1/2 or 3 in. Dual M...</td>\n",
       "      <td>Liberty</td>\n",
       "      <td></td>\n",
       "      <td>0.0</td>\n",
       "      <td></td>\n",
       "      <td>Metal</td>\n",
       "      <td>-1.0</td>\n",
       "      <td>-1.0</td>\n",
       "    </tr>\n",
       "    <tr>\n",
       "      <th>2975</th>\n",
       "      <td>9221</td>\n",
       "      <td>Oz-Post Steel 2 Wood Fence Bracket Project Pac...</td>\n",
       "      <td>101571</td>\n",
       "      <td>2.33</td>\n",
       "      <td>wap around hardware</td>\n",
       "      <td>The WAP-238 from OZCO is a galvanized bracket ...</td>\n",
       "      <td>Oz-Post</td>\n",
       "      <td></td>\n",
       "      <td>0.0</td>\n",
       "      <td></td>\n",
       "      <td>Metal</td>\n",
       "      <td>-1.0</td>\n",
       "      <td>-1.0</td>\n",
       "    </tr>\n",
       "    <tr>\n",
       "      <th>2982</th>\n",
       "      <td>9244</td>\n",
       "      <td>HDX 1/4 in. x 2 ft. x 5 ft. Hardware Cloth</td>\n",
       "      <td>101575</td>\n",
       "      <td>2.00</td>\n",
       "      <td>wire fences hardware</td>\n",
       "      <td>A lightweight, flexible and economical wire me...</td>\n",
       "      <td>HDX</td>\n",
       "      <td>Silver</td>\n",
       "      <td>1.0</td>\n",
       "      <td>Silver</td>\n",
       "      <td>Metal</td>\n",
       "      <td>-1.0</td>\n",
       "      <td>-1.0</td>\n",
       "    </tr>\n",
       "    <tr>\n",
       "      <th>3300</th>\n",
       "      <td>10232</td>\n",
       "      <td>Schlage Plymouth Double Cylinder Antique Brass...</td>\n",
       "      <td>101755</td>\n",
       "      <td>3.00</td>\n",
       "      <td>interior door hardware by schlage</td>\n",
       "      <td>The Plymouth front entry features a simple cur...</td>\n",
       "      <td>Schlage</td>\n",
       "      <td></td>\n",
       "      <td>0.0</td>\n",
       "      <td></td>\n",
       "      <td>Solid Brass</td>\n",
       "      <td>-1.0</td>\n",
       "      <td>-1.0</td>\n",
       "    </tr>\n",
       "    <tr>\n",
       "      <th>3421</th>\n",
       "      <td>10576</td>\n",
       "      <td>Liberty 6-2/7 in. Steel Bar Cabinet Hardware A...</td>\n",
       "      <td>101831</td>\n",
       "      <td>2.00</td>\n",
       "      <td>kitchen cabinet drawer center-mount hardware</td>\n",
       "      <td>Sleek and sophisticated, this design makes a c...</td>\n",
       "      <td>Liberty</td>\n",
       "      <td></td>\n",
       "      <td>0.0</td>\n",
       "      <td></td>\n",
       "      <td>Steel</td>\n",
       "      <td>-1.0</td>\n",
       "      <td>-1.0</td>\n",
       "    </tr>\n",
       "    <tr>\n",
       "      <th>3422</th>\n",
       "      <td>10577</td>\n",
       "      <td>Liberty 6-2/7 in. Steel Bar Cabinet Hardware A...</td>\n",
       "      <td>101831</td>\n",
       "      <td>2.00</td>\n",
       "      <td>kitchen cabinte hardware blue knob</td>\n",
       "      <td>Sleek and sophisticated, this design makes a c...</td>\n",
       "      <td>Liberty</td>\n",
       "      <td></td>\n",
       "      <td>0.0</td>\n",
       "      <td></td>\n",
       "      <td>Steel</td>\n",
       "      <td>-1.0</td>\n",
       "      <td>-1.0</td>\n",
       "    </tr>\n",
       "    <tr>\n",
       "      <th>3423</th>\n",
       "      <td>10578</td>\n",
       "      <td>Liberty 6-2/7 in. Steel Bar Cabinet Hardware A...</td>\n",
       "      <td>101831</td>\n",
       "      <td>3.00</td>\n",
       "      <td>liberty campaign hardware</td>\n",
       "      <td>Sleek and sophisticated, this design makes a c...</td>\n",
       "      <td>Liberty</td>\n",
       "      <td></td>\n",
       "      <td>0.0</td>\n",
       "      <td></td>\n",
       "      <td>Steel</td>\n",
       "      <td>-1.0</td>\n",
       "      <td>-1.0</td>\n",
       "    </tr>\n",
       "    <tr>\n",
       "      <th>3775</th>\n",
       "      <td>11728</td>\n",
       "      <td>Veranda 1-1/2 oz. Vinyl Fence Cement</td>\n",
       "      <td>102046</td>\n",
       "      <td>2.67</td>\n",
       "      <td>vinyl fence hardware</td>\n",
       "      <td>Veranda PVC cement glue is specifically design...</td>\n",
       "      <td>Veranda</td>\n",
       "      <td></td>\n",
       "      <td>0.0</td>\n",
       "      <td></td>\n",
       "      <td>Metal</td>\n",
       "      <td>-1.0</td>\n",
       "      <td>-1.0</td>\n",
       "    </tr>\n",
       "    <tr>\n",
       "      <th>3792</th>\n",
       "      <td>11788</td>\n",
       "      <td>HDX 28 in. x 50 ft. Garden Fence</td>\n",
       "      <td>102057</td>\n",
       "      <td>2.00</td>\n",
       "      <td>wire fences hardware</td>\n",
       "      <td>If rabbits and other varmints are getting to y...</td>\n",
       "      <td>HDX</td>\n",
       "      <td>Silver</td>\n",
       "      <td>1.0</td>\n",
       "      <td>Silver</td>\n",
       "      <td>Metal</td>\n",
       "      <td>-1.0</td>\n",
       "      <td>-1.0</td>\n",
       "    </tr>\n",
       "    <tr>\n",
       "      <th>3933</th>\n",
       "      <td>12218</td>\n",
       "      <td>YARDGARD 5 ft. x 50 ft. 14-Gauge Vinyl Galvani...</td>\n",
       "      <td>102139</td>\n",
       "      <td>1.67</td>\n",
       "      <td>wire fences hardware</td>\n",
       "      <td>Welded wire is a general purpose fence providi...</td>\n",
       "      <td>YARDGARD</td>\n",
       "      <td>Green</td>\n",
       "      <td>1.0</td>\n",
       "      <td>Green</td>\n",
       "      <td>Metal</td>\n",
       "      <td>-1.0</td>\n",
       "      <td>-1.0</td>\n",
       "    </tr>\n",
       "    <tr>\n",
       "      <th>4159</th>\n",
       "      <td>13026</td>\n",
       "      <td>Tenax 3 ft. x 15 ft. Plastic Black Hardware Net</td>\n",
       "      <td>102276</td>\n",
       "      <td>2.33</td>\n",
       "      <td>wire fences hardware</td>\n",
       "      <td>Replaces metal hardware net under must applica...</td>\n",
       "      <td>Tenax</td>\n",
       "      <td>Black Black</td>\n",
       "      <td>2.0</td>\n",
       "      <td>Black Black</td>\n",
       "      <td>Plastic</td>\n",
       "      <td>-1.0</td>\n",
       "      <td>-1.0</td>\n",
       "    </tr>\n",
       "    <tr>\n",
       "      <th>4613</th>\n",
       "      <td>14452</td>\n",
       "      <td>Liberty 3-3/4 in. Steel Bar Cabinet Hardware Pull</td>\n",
       "      <td>102520</td>\n",
       "      <td>1.33</td>\n",
       "      <td>liberty campaign hardware</td>\n",
       "      <td>Sleek and sophisticated, this design makes a c...</td>\n",
       "      <td>Liberty</td>\n",
       "      <td></td>\n",
       "      <td>0.0</td>\n",
       "      <td></td>\n",
       "      <td>Steel</td>\n",
       "      <td>-1.0</td>\n",
       "      <td>-1.0</td>\n",
       "    </tr>\n",
       "    <tr>\n",
       "      <th>4844</th>\n",
       "      <td>15184</td>\n",
       "      <td>Oz-Post Steel 2 Wood Fence Bracket WAP-OZ</td>\n",
       "      <td>102651</td>\n",
       "      <td>2.67</td>\n",
       "      <td>oz metal fence hardware</td>\n",
       "      <td>The remarkable WAP-OZ fence bracket from OZCO ...</td>\n",
       "      <td>Oz-Post</td>\n",
       "      <td></td>\n",
       "      <td>0.0</td>\n",
       "      <td></td>\n",
       "      <td>Metal</td>\n",
       "      <td>-1.0</td>\n",
       "      <td>-1.0</td>\n",
       "    </tr>\n",
       "    <tr>\n",
       "      <th>5260</th>\n",
       "      <td>16453</td>\n",
       "      <td>Martha Stewart Living 3 in. Bedford Nickel Cyl...</td>\n",
       "      <td>102905</td>\n",
       "      <td>2.00</td>\n",
       "      <td>kitchen hardware</td>\n",
       "      <td>The Martha Stewart Living Modern 3 in. Bedford...</td>\n",
       "      <td>Martha Stewart Living</td>\n",
       "      <td></td>\n",
       "      <td>0.0</td>\n",
       "      <td></td>\n",
       "      <td>Metal</td>\n",
       "      <td>-1.0</td>\n",
       "      <td>-1.0</td>\n",
       "    </tr>\n",
       "    <tr>\n",
       "      <th>6770</th>\n",
       "      <td>21202</td>\n",
       "      <td>Hickory Hardware Oil-Rubbed Bronze Surface Sel...</td>\n",
       "      <td>103960</td>\n",
       "      <td>2.00</td>\n",
       "      <td>hickory hardware 469999035</td>\n",
       "      <td>Update your cabinetry with the Hickory Hardwar...</td>\n",
       "      <td>Hickory Hardware</td>\n",
       "      <td></td>\n",
       "      <td>0.0</td>\n",
       "      <td></td>\n",
       "      <td>Steel</td>\n",
       "      <td>-1.0</td>\n",
       "      <td>-1.0</td>\n",
       "    </tr>\n",
       "    <tr>\n",
       "      <th>6835</th>\n",
       "      <td>21419</td>\n",
       "      <td>Defiant Springfield Satin Nickel Mushroom Hand...</td>\n",
       "      <td>104017</td>\n",
       "      <td>3.00</td>\n",
       "      <td>front door hardware</td>\n",
       "      <td>Reinforce your entry door with the Defiant Spr...</td>\n",
       "      <td>Defiant</td>\n",
       "      <td></td>\n",
       "      <td>0.0</td>\n",
       "      <td></td>\n",
       "      <td>Solid Brass</td>\n",
       "      <td>-1.0</td>\n",
       "      <td>-1.0</td>\n",
       "    </tr>\n",
       "    <tr>\n",
       "      <th>6909</th>\n",
       "      <td>21626</td>\n",
       "      <td>HDX 1 in. x 4 ft. x 50 ft. Poultry Netting</td>\n",
       "      <td>104079</td>\n",
       "      <td>2.00</td>\n",
       "      <td>wire fences hardware</td>\n",
       "      <td>The HDX 1 in. x 4 ft. x 50 ft. 20-Gauge Galvan...</td>\n",
       "      <td>HDX</td>\n",
       "      <td></td>\n",
       "      <td>0.0</td>\n",
       "      <td></td>\n",
       "      <td>Galvanized Steel</td>\n",
       "      <td>-1.0</td>\n",
       "      <td>-1.0</td>\n",
       "    </tr>\n",
       "    <tr>\n",
       "      <th>6923</th>\n",
       "      <td>21680</td>\n",
       "      <td>Everbilt Anti-Sag Gate Kit</td>\n",
       "      <td>104092</td>\n",
       "      <td>2.00</td>\n",
       "      <td>fence gate hardware eyebolt</td>\n",
       "      <td>The Everbilt Anti-Sag Gate Kit is ideal to eli...</td>\n",
       "      <td>Everbilt</td>\n",
       "      <td></td>\n",
       "      <td>0.0</td>\n",
       "      <td></td>\n",
       "      <td>Steel</td>\n",
       "      <td>-1.0</td>\n",
       "      <td>-1.0</td>\n",
       "    </tr>\n",
       "    <tr>\n",
       "      <th>7209</th>\n",
       "      <td>22570</td>\n",
       "      <td>ClosetMaid Preloaded Wall Brackets for SuperSl...</td>\n",
       "      <td>104340</td>\n",
       "      <td>2.00</td>\n",
       "      <td>shelves wood hardware</td>\n",
       "      <td>This set of 2 ClosetMaid Wall Brackets is desi...</td>\n",
       "      <td>ClosetMaid</td>\n",
       "      <td>White White</td>\n",
       "      <td>2.0</td>\n",
       "      <td>White White</td>\n",
       "      <td>Resin</td>\n",
       "      <td>-1.0</td>\n",
       "      <td>-1.0</td>\n",
       "    </tr>\n",
       "    <tr>\n",
       "      <th>7363</th>\n",
       "      <td>23045</td>\n",
       "      <td>Veranda Aluminum Rail Bracket for Vinyl Fencin...</td>\n",
       "      <td>104469</td>\n",
       "      <td>3.00</td>\n",
       "      <td>vinyl fence hardware</td>\n",
       "      <td>Choose Veranda's 2 in. x 3 in. Fence Rail Brac...</td>\n",
       "      <td>Veranda</td>\n",
       "      <td></td>\n",
       "      <td>0.0</td>\n",
       "      <td></td>\n",
       "      <td>Metal</td>\n",
       "      <td>-1.0</td>\n",
       "      <td>-1.0</td>\n",
       "    </tr>\n",
       "    <tr>\n",
       "      <th>7461</th>\n",
       "      <td>23327</td>\n",
       "      <td>Veranda Shadowbox White Vinyl Fence Bracket Kit</td>\n",
       "      <td>104547</td>\n",
       "      <td>3.00</td>\n",
       "      <td>vinyl fence hardware</td>\n",
       "      <td>Veranda vinyl fencing is The Home Depot's prem...</td>\n",
       "      <td>Veranda</td>\n",
       "      <td></td>\n",
       "      <td>0.0</td>\n",
       "      <td></td>\n",
       "      <td>Metal</td>\n",
       "      <td>-1.0</td>\n",
       "      <td>-1.0</td>\n",
       "    </tr>\n",
       "    <tr>\n",
       "      <th>7475</th>\n",
       "      <td>23381</td>\n",
       "      <td>Liberty Satin Nickel 1-3/8 in. Large Football ...</td>\n",
       "      <td>104569</td>\n",
       "      <td>3.00</td>\n",
       "      <td>bathroom hardware knobs and pulls</td>\n",
       "      <td>Use the Liberty 1-3/8 in. Satin Nickel Large F...</td>\n",
       "      <td>nobrand</td>\n",
       "      <td></td>\n",
       "      <td>0.0</td>\n",
       "      <td></td>\n",
       "      <td></td>\n",
       "      <td>-1.0</td>\n",
       "      <td>-1.0</td>\n",
       "    </tr>\n",
       "    <tr>\n",
       "      <th>...</th>\n",
       "      <td>...</td>\n",
       "      <td>...</td>\n",
       "      <td>...</td>\n",
       "      <td>...</td>\n",
       "      <td>...</td>\n",
       "      <td>...</td>\n",
       "      <td>...</td>\n",
       "      <td>...</td>\n",
       "      <td>...</td>\n",
       "      <td>...</td>\n",
       "      <td>...</td>\n",
       "      <td>...</td>\n",
       "      <td>...</td>\n",
       "    </tr>\n",
       "    <tr>\n",
       "      <th>220714</th>\n",
       "      <td>220324</td>\n",
       "      <td>PartsmasterPro Universal Designer Lever Handle...</td>\n",
       "      <td>205663</td>\n",
       "      <td>NaN</td>\n",
       "      <td>porcelain handle hardware</td>\n",
       "      <td>Replacing your faucets handles makes your fauc...</td>\n",
       "      <td>PartsmasterPro</td>\n",
       "      <td>Chrome Chrome</td>\n",
       "      <td>2.0</td>\n",
       "      <td>Chrome Chrome</td>\n",
       "      <td>Metal</td>\n",
       "      <td>-1.0</td>\n",
       "      <td>-1.0</td>\n",
       "    </tr>\n",
       "    <tr>\n",
       "      <th>222464</th>\n",
       "      <td>222465</td>\n",
       "      <td>Stanley-National Hardware 4-1/2 in. Template H...</td>\n",
       "      <td>207497</td>\n",
       "      <td>NaN</td>\n",
       "      <td>hardware template</td>\n",
       "      <td>Whether for home, farm, builder or industrial ...</td>\n",
       "      <td>Stanley-National Hardware</td>\n",
       "      <td></td>\n",
       "      <td>0.0</td>\n",
       "      <td></td>\n",
       "      <td>Steel</td>\n",
       "      <td>-1.0</td>\n",
       "      <td>-1.0</td>\n",
       "    </tr>\n",
       "    <tr>\n",
       "      <th>223589</th>\n",
       "      <td>223590</td>\n",
       "      <td>Prime-Line 3/8 in. Bi-Fold Door Pivot Set</td>\n",
       "      <td>208443</td>\n",
       "      <td>NaN</td>\n",
       "      <td>bi fold door hardware</td>\n",
       "      <td>This Prime-Line Products 3/8 in. Bifold Door P...</td>\n",
       "      <td>Prime-Line</td>\n",
       "      <td></td>\n",
       "      <td>0.0</td>\n",
       "      <td></td>\n",
       "      <td>Plastic</td>\n",
       "      <td>-1.0</td>\n",
       "      <td>-1.0</td>\n",
       "    </tr>\n",
       "    <tr>\n",
       "      <th>223642</th>\n",
       "      <td>223643</td>\n",
       "      <td>Barton Kramer Bi-Fold Jamb Bracket Closet Door...</td>\n",
       "      <td>208491</td>\n",
       "      <td>NaN</td>\n",
       "      <td>closet hardware</td>\n",
       "      <td>This bi-fold closet door jamb bracket is desig...</td>\n",
       "      <td>Barton Kramer</td>\n",
       "      <td></td>\n",
       "      <td>0.0</td>\n",
       "      <td></td>\n",
       "      <td>Steel</td>\n",
       "      <td>-1.0</td>\n",
       "      <td>-1.0</td>\n",
       "    </tr>\n",
       "    <tr>\n",
       "      <th>223643</th>\n",
       "      <td>223644</td>\n",
       "      <td>Barton Kramer Bi-Fold Jamb Bracket Closet Door...</td>\n",
       "      <td>208491</td>\n",
       "      <td>NaN</td>\n",
       "      <td>hardware brackets</td>\n",
       "      <td>This bi-fold closet door jamb bracket is desig...</td>\n",
       "      <td>Barton Kramer</td>\n",
       "      <td></td>\n",
       "      <td>0.0</td>\n",
       "      <td></td>\n",
       "      <td>Steel</td>\n",
       "      <td>-1.0</td>\n",
       "      <td>-1.0</td>\n",
       "    </tr>\n",
       "    <tr>\n",
       "      <th>223774</th>\n",
       "      <td>223775</td>\n",
       "      <td>Stainless Glide Stainless Steel Top Mount Roll...</td>\n",
       "      <td>208596</td>\n",
       "      <td>NaN</td>\n",
       "      <td>stainless steel hardware</td>\n",
       "      <td>The Stainless Glide Stainless Steel Rolling Do...</td>\n",
       "      <td>Stainless Glide</td>\n",
       "      <td>Stainless Steel</td>\n",
       "      <td>1.0</td>\n",
       "      <td>Stainless Steel</td>\n",
       "      <td>Stainless Steel</td>\n",
       "      <td>-1.0</td>\n",
       "      <td>-1.0</td>\n",
       "    </tr>\n",
       "    <tr>\n",
       "      <th>224771</th>\n",
       "      <td>224772</td>\n",
       "      <td>Canine Hardware 30 in. x 39 in. Pet Travel Bed</td>\n",
       "      <td>209453</td>\n",
       "      <td>NaN</td>\n",
       "      <td>murphy bed hardware</td>\n",
       "      <td>This travel bed's plush look and feel will als...</td>\n",
       "      <td>Canine Hardware</td>\n",
       "      <td></td>\n",
       "      <td>0.0</td>\n",
       "      <td></td>\n",
       "      <td>Other</td>\n",
       "      <td>-1.0</td>\n",
       "      <td>-1.0</td>\n",
       "    </tr>\n",
       "    <tr>\n",
       "      <th>226311</th>\n",
       "      <td>226312</td>\n",
       "      <td>Martha Stewart Living Bedford 3 in. Nickel Can...</td>\n",
       "      <td>210797</td>\n",
       "      <td>NaN</td>\n",
       "      <td>hardware</td>\n",
       "      <td>The Martha Stewart Living 3 in. Bedford Nickel...</td>\n",
       "      <td>Martha Stewart Living</td>\n",
       "      <td></td>\n",
       "      <td>0.0</td>\n",
       "      <td></td>\n",
       "      <td>Metal</td>\n",
       "      <td>-1.0</td>\n",
       "      <td>-1.0</td>\n",
       "    </tr>\n",
       "    <tr>\n",
       "      <th>226361</th>\n",
       "      <td>226362</td>\n",
       "      <td>Prime-Line Bi-Fold Door Top Guide Wheel, 5/8 i...</td>\n",
       "      <td>210841</td>\n",
       "      <td>NaN</td>\n",
       "      <td>bi fold door hardware</td>\n",
       "      <td>This bi-fold door pivot is constructed from st...</td>\n",
       "      <td>Prime-Line</td>\n",
       "      <td></td>\n",
       "      <td>0.0</td>\n",
       "      <td></td>\n",
       "      <td>Steel</td>\n",
       "      <td>-1.0</td>\n",
       "      <td>-1.0</td>\n",
       "    </tr>\n",
       "    <tr>\n",
       "      <th>226826</th>\n",
       "      <td>226827</td>\n",
       "      <td>Stainless Glide Stainless Steel Dual Wheel Str...</td>\n",
       "      <td>211265</td>\n",
       "      <td>NaN</td>\n",
       "      <td>stainless steel hardware</td>\n",
       "      <td>The Stainless Glide Stainless Steel Rolling Do...</td>\n",
       "      <td>Stainless Glide</td>\n",
       "      <td>Stainless Steel</td>\n",
       "      <td>1.0</td>\n",
       "      <td>Stainless Steel</td>\n",
       "      <td>Stainless Steel</td>\n",
       "      <td>-1.0</td>\n",
       "      <td>-1.0</td>\n",
       "    </tr>\n",
       "    <tr>\n",
       "      <th>226881</th>\n",
       "      <td>226882</td>\n",
       "      <td>Prime-Line Solid Brass Pocket Door Combination...</td>\n",
       "      <td>211314</td>\n",
       "      <td>NaN</td>\n",
       "      <td>pocket door hardware</td>\n",
       "      <td>This mortise latch unit features recessed grip...</td>\n",
       "      <td>Prime-Line</td>\n",
       "      <td></td>\n",
       "      <td>0.0</td>\n",
       "      <td></td>\n",
       "      <td>Solid Brass</td>\n",
       "      <td>-1.0</td>\n",
       "      <td>-1.0</td>\n",
       "    </tr>\n",
       "    <tr>\n",
       "      <th>227150</th>\n",
       "      <td>227151</td>\n",
       "      <td>Young House Love 3 in. Vintage Style Cocoa Bro...</td>\n",
       "      <td>211554</td>\n",
       "      <td>NaN</td>\n",
       "      <td>liberty campaign hardware</td>\n",
       "      <td>From Liberty Hardware and Young House Love, th...</td>\n",
       "      <td>Young House Love</td>\n",
       "      <td></td>\n",
       "      <td>0.0</td>\n",
       "      <td></td>\n",
       "      <td>Metal</td>\n",
       "      <td>-1.0</td>\n",
       "      <td>-1.0</td>\n",
       "    </tr>\n",
       "    <tr>\n",
       "      <th>228862</th>\n",
       "      <td>228863</td>\n",
       "      <td>Continental Home Hardware 1-3/4 in. Satin Nick...</td>\n",
       "      <td>213100</td>\n",
       "      <td>NaN</td>\n",
       "      <td>3/4' hardware</td>\n",
       "      <td>Thomasville  Hardware brings a customized hard...</td>\n",
       "      <td>Continental Home Hardware</td>\n",
       "      <td></td>\n",
       "      <td>0.0</td>\n",
       "      <td></td>\n",
       "      <td>Metal</td>\n",
       "      <td>-1.0</td>\n",
       "      <td>-1.0</td>\n",
       "    </tr>\n",
       "    <tr>\n",
       "      <th>229742</th>\n",
       "      <td>229743</td>\n",
       "      <td>Stanley-National Hardware 6 in. Professional C...</td>\n",
       "      <td>213907</td>\n",
       "      <td>NaN</td>\n",
       "      <td>gate hardware kit</td>\n",
       "      <td>Stanley-National Hardware has been a leading m...</td>\n",
       "      <td>Stanley-National Hardware</td>\n",
       "      <td></td>\n",
       "      <td>0.0</td>\n",
       "      <td></td>\n",
       "      <td>Steel</td>\n",
       "      <td>-1.0</td>\n",
       "      <td>-1.0</td>\n",
       "    </tr>\n",
       "    <tr>\n",
       "      <th>229999</th>\n",
       "      <td>230000</td>\n",
       "      <td>Prime-Line 3/4 in. Flat Nylon Wheel Bi-Fold Do...</td>\n",
       "      <td>214140</td>\n",
       "      <td>NaN</td>\n",
       "      <td>pocket door hardware</td>\n",
       "      <td>This wardrobe door roller is constructed from ...</td>\n",
       "      <td>Prime-Line</td>\n",
       "      <td></td>\n",
       "      <td>0.0</td>\n",
       "      <td></td>\n",
       "      <td>Other</td>\n",
       "      <td>-1.0</td>\n",
       "      <td>-1.0</td>\n",
       "    </tr>\n",
       "    <tr>\n",
       "      <th>230047</th>\n",
       "      <td>230048</td>\n",
       "      <td>Kwikset Arlington Single Cylinder Antique Bras...</td>\n",
       "      <td>214184</td>\n",
       "      <td>NaN</td>\n",
       "      <td>front door hardware</td>\n",
       "      <td>Step up to designer styles and superior securi...</td>\n",
       "      <td>Kwikset</td>\n",
       "      <td></td>\n",
       "      <td>0.0</td>\n",
       "      <td></td>\n",
       "      <td>Metal</td>\n",
       "      <td>-1.0</td>\n",
       "      <td>-1.0</td>\n",
       "    </tr>\n",
       "    <tr>\n",
       "      <th>230825</th>\n",
       "      <td>230826</td>\n",
       "      <td>PlayStar All Star Build It Yourself Gold Plays...</td>\n",
       "      <td>214889</td>\n",
       "      <td>NaN</td>\n",
       "      <td>lumber hardware</td>\n",
       "      <td>The All Star XP Gold Design has 12 sq. ft. of ...</td>\n",
       "      <td>PlayStar</td>\n",
       "      <td></td>\n",
       "      <td>0.0</td>\n",
       "      <td></td>\n",
       "      <td>Galvanized Steel Metal Plastic/Metal</td>\n",
       "      <td>-1.0</td>\n",
       "      <td>-1.0</td>\n",
       "    </tr>\n",
       "    <tr>\n",
       "      <th>231360</th>\n",
       "      <td>231361</td>\n",
       "      <td>Barton Kramer Johnson Hardware Bi-Fold Door Bo...</td>\n",
       "      <td>215386</td>\n",
       "      <td>NaN</td>\n",
       "      <td>hardware brackets</td>\n",
       "      <td>This bi-fold door bottom pivot and bracket is ...</td>\n",
       "      <td>Barton Kramer</td>\n",
       "      <td></td>\n",
       "      <td>0.0</td>\n",
       "      <td></td>\n",
       "      <td>Steel</td>\n",
       "      <td>-1.0</td>\n",
       "      <td>-1.0</td>\n",
       "    </tr>\n",
       "    <tr>\n",
       "      <th>232910</th>\n",
       "      <td>232911</td>\n",
       "      <td>Prime-Line Closet Pole Sockets, 1-3/8 in., Pla...</td>\n",
       "      <td>216836</td>\n",
       "      <td>NaN</td>\n",
       "      <td>closet hardware</td>\n",
       "      <td>These pole sockets are constructed from sturdy...</td>\n",
       "      <td>Prime-Line</td>\n",
       "      <td></td>\n",
       "      <td>0.0</td>\n",
       "      <td></td>\n",
       "      <td>Plastic</td>\n",
       "      <td>-1.0</td>\n",
       "      <td>-1.0</td>\n",
       "    </tr>\n",
       "    <tr>\n",
       "      <th>233124</th>\n",
       "      <td>233125</td>\n",
       "      <td>Richelieu Hardware 4-15/16 in. Furniture Leg</td>\n",
       "      <td>217037</td>\n",
       "      <td>NaN</td>\n",
       "      <td>murphy bed hardware</td>\n",
       "      <td>An ideal way to update your furniture, the Ric...</td>\n",
       "      <td>Richelieu Hardware</td>\n",
       "      <td>Matte Black</td>\n",
       "      <td>1.0</td>\n",
       "      <td>Matte Black</td>\n",
       "      <td>Other</td>\n",
       "      <td>-1.0</td>\n",
       "      <td>-1.0</td>\n",
       "    </tr>\n",
       "    <tr>\n",
       "      <th>233302</th>\n",
       "      <td>233303</td>\n",
       "      <td>Hickory Hardware Studio Collection 1 in. Oil-R...</td>\n",
       "      <td>217204</td>\n",
       "      <td>NaN</td>\n",
       "      <td>hickory hardware studio</td>\n",
       "      <td>This Hickory hardware Studio Collection 1 in. ...</td>\n",
       "      <td>Hickory Hardware</td>\n",
       "      <td></td>\n",
       "      <td>0.0</td>\n",
       "      <td></td>\n",
       "      <td>Metal</td>\n",
       "      <td>-1.0</td>\n",
       "      <td>-1.0</td>\n",
       "    </tr>\n",
       "    <tr>\n",
       "      <th>234873</th>\n",
       "      <td>234874</td>\n",
       "      <td>Liberty 3-3/4 in. Plaza Cabinet Hardware Pull</td>\n",
       "      <td>218685</td>\n",
       "      <td>NaN</td>\n",
       "      <td>3/4' hardware</td>\n",
       "      <td>The Liberty 3-3/4 in. Brushed Satin-Nickel Pla...</td>\n",
       "      <td>Liberty</td>\n",
       "      <td></td>\n",
       "      <td>0.0</td>\n",
       "      <td></td>\n",
       "      <td>Metal</td>\n",
       "      <td>-1.0</td>\n",
       "      <td>-1.0</td>\n",
       "    </tr>\n",
       "    <tr>\n",
       "      <th>235233</th>\n",
       "      <td>235234</td>\n",
       "      <td>National Hardware Vinyl Fence Gate Kit in Whit...</td>\n",
       "      <td>219029</td>\n",
       "      <td>NaN</td>\n",
       "      <td>vinyl fence hardware</td>\n",
       "      <td>Whether for home, farm, builder or industrial ...</td>\n",
       "      <td>National Hardware</td>\n",
       "      <td></td>\n",
       "      <td>0.0</td>\n",
       "      <td></td>\n",
       "      <td>Steel</td>\n",
       "      <td>-1.0</td>\n",
       "      <td>-1.0</td>\n",
       "    </tr>\n",
       "    <tr>\n",
       "      <th>235587</th>\n",
       "      <td>235588</td>\n",
       "      <td>Richelieu Hardware 8 in. x 10 in. White Enamel...</td>\n",
       "      <td>219367</td>\n",
       "      <td>NaN</td>\n",
       "      <td>hardware brackets</td>\n",
       "      <td>Onward products offer unique and creative hard...</td>\n",
       "      <td>Richelieu Hardware</td>\n",
       "      <td>White White</td>\n",
       "      <td>2.0</td>\n",
       "      <td>White White</td>\n",
       "      <td>Metal</td>\n",
       "      <td>-1.0</td>\n",
       "      <td>-1.0</td>\n",
       "    </tr>\n",
       "    <tr>\n",
       "      <th>235701</th>\n",
       "      <td>235702</td>\n",
       "      <td>Liberty Cabinet Drawer Hardware Installation T...</td>\n",
       "      <td>219477</td>\n",
       "      <td>NaN</td>\n",
       "      <td>hardware template</td>\n",
       "      <td>This Liberty Cabinet Hardware Installation Tem...</td>\n",
       "      <td>Liberty</td>\n",
       "      <td></td>\n",
       "      <td>0.0</td>\n",
       "      <td></td>\n",
       "      <td>Plastic</td>\n",
       "      <td>-1.0</td>\n",
       "      <td>-1.0</td>\n",
       "    </tr>\n",
       "    <tr>\n",
       "      <th>236106</th>\n",
       "      <td>236107</td>\n",
       "      <td>Rustica Hardware 42 in. x 84 in. Modern Range ...</td>\n",
       "      <td>219865</td>\n",
       "      <td>NaN</td>\n",
       "      <td>sliding cabinet door hardware</td>\n",
       "      <td>As unique as your fingerprints are to you, so ...</td>\n",
       "      <td>nobrand</td>\n",
       "      <td></td>\n",
       "      <td>0.0</td>\n",
       "      <td></td>\n",
       "      <td></td>\n",
       "      <td>-1.0</td>\n",
       "      <td>-1.0</td>\n",
       "    </tr>\n",
       "    <tr>\n",
       "      <th>237028</th>\n",
       "      <td>237029</td>\n",
       "      <td>Everbilt Heavy Duty 36 in. Pocket Door Frame Set</td>\n",
       "      <td>220759</td>\n",
       "      <td>NaN</td>\n",
       "      <td>pocket door hardware</td>\n",
       "      <td>The Everbilt 36 in. Heavy Duty Pocket Door Fra...</td>\n",
       "      <td>Everbilt</td>\n",
       "      <td></td>\n",
       "      <td>0.0</td>\n",
       "      <td></td>\n",
       "      <td>Aluminum</td>\n",
       "      <td>-1.0</td>\n",
       "      <td>-1.0</td>\n",
       "    </tr>\n",
       "    <tr>\n",
       "      <th>237151</th>\n",
       "      <td>237152</td>\n",
       "      <td>Hickory Hardware Studio 1-1/4 in. Oil Rubbed B...</td>\n",
       "      <td>220878</td>\n",
       "      <td>NaN</td>\n",
       "      <td>hickory hardware studio</td>\n",
       "      <td>Bold style and functionality are combined in t...</td>\n",
       "      <td>Hickory Hardware</td>\n",
       "      <td></td>\n",
       "      <td>0.0</td>\n",
       "      <td></td>\n",
       "      <td>Metal</td>\n",
       "      <td>-1.0</td>\n",
       "      <td>-1.0</td>\n",
       "    </tr>\n",
       "    <tr>\n",
       "      <th>237739</th>\n",
       "      <td>237740</td>\n",
       "      <td>Johnson Hardware 111FD Series 72 in. Track and...</td>\n",
       "      <td>221455</td>\n",
       "      <td>NaN</td>\n",
       "      <td>bi fold door hardware</td>\n",
       "      <td>The Johnson Hardware 111FD Series 72 in. Track...</td>\n",
       "      <td>Johnson Hardware</td>\n",
       "      <td></td>\n",
       "      <td>0.0</td>\n",
       "      <td></td>\n",
       "      <td>Aluminum</td>\n",
       "      <td>-1.0</td>\n",
       "      <td>-1.0</td>\n",
       "    </tr>\n",
       "    <tr>\n",
       "      <th>239861</th>\n",
       "      <td>239862</td>\n",
       "      <td>Liberty 1-1/4 in. Hollow Cabinet Hardware Knob</td>\n",
       "      <td>223535</td>\n",
       "      <td>NaN</td>\n",
       "      <td>hardware knob</td>\n",
       "      <td>The clean lines of this knob fit several desig...</td>\n",
       "      <td>Liberty</td>\n",
       "      <td></td>\n",
       "      <td>0.0</td>\n",
       "      <td></td>\n",
       "      <td>Ceramic</td>\n",
       "      <td>-1.0</td>\n",
       "      <td>-1.0</td>\n",
       "    </tr>\n",
       "  </tbody>\n",
       "</table>\n",
       "<p>742 rows × 13 columns</p>\n",
       "</div>"
      ],
      "text/plain": [
       "            id                                      product_title  \\\n",
       "375       1208         Liberty 3-3/4 in. Steel Bar Pull (25-Pack)   \n",
       "1416      4355  Martha Stewart Living 3-3/4 in. Bar Cabinet Ha...   \n",
       "1989      6161           Defiant Hartford Satin Nickel Entry Knob   \n",
       "2180      6735  Martha Stewart Living 3-3/4 in. Dowel Cabinet ...   \n",
       "2295      7047  Oz-Post T4-850 4 in. Square Wood Post Anchor (...   \n",
       "2337      7169  Liberty 2-3/4 in. or 3 in. Newton Cabinet Hard...   \n",
       "2339      7172  Liberty 2-3/4 in. or 3 in. Newton Cabinet Hard...   \n",
       "2706      8370           HDX 4 ft. x 100 ft. 14-Gauge Welded Wire   \n",
       "2965      9189  Liberty 2-1/2 in. or 3 in. Dark Oil Rubbed Bro...   \n",
       "2975      9221  Oz-Post Steel 2 Wood Fence Bracket Project Pac...   \n",
       "2982      9244         HDX 1/4 in. x 2 ft. x 5 ft. Hardware Cloth   \n",
       "3300     10232  Schlage Plymouth Double Cylinder Antique Brass...   \n",
       "3421     10576  Liberty 6-2/7 in. Steel Bar Cabinet Hardware A...   \n",
       "3422     10577  Liberty 6-2/7 in. Steel Bar Cabinet Hardware A...   \n",
       "3423     10578  Liberty 6-2/7 in. Steel Bar Cabinet Hardware A...   \n",
       "3775     11728               Veranda 1-1/2 oz. Vinyl Fence Cement   \n",
       "3792     11788                   HDX 28 in. x 50 ft. Garden Fence   \n",
       "3933     12218  YARDGARD 5 ft. x 50 ft. 14-Gauge Vinyl Galvani...   \n",
       "4159     13026    Tenax 3 ft. x 15 ft. Plastic Black Hardware Net   \n",
       "4613     14452  Liberty 3-3/4 in. Steel Bar Cabinet Hardware Pull   \n",
       "4844     15184          Oz-Post Steel 2 Wood Fence Bracket WAP-OZ   \n",
       "5260     16453  Martha Stewart Living 3 in. Bedford Nickel Cyl...   \n",
       "6770     21202  Hickory Hardware Oil-Rubbed Bronze Surface Sel...   \n",
       "6835     21419  Defiant Springfield Satin Nickel Mushroom Hand...   \n",
       "6909     21626         HDX 1 in. x 4 ft. x 50 ft. Poultry Netting   \n",
       "6923     21680                         Everbilt Anti-Sag Gate Kit   \n",
       "7209     22570  ClosetMaid Preloaded Wall Brackets for SuperSl...   \n",
       "7363     23045  Veranda Aluminum Rail Bracket for Vinyl Fencin...   \n",
       "7461     23327    Veranda Shadowbox White Vinyl Fence Bracket Kit   \n",
       "7475     23381  Liberty Satin Nickel 1-3/8 in. Large Football ...   \n",
       "...        ...                                                ...   \n",
       "220714  220324  PartsmasterPro Universal Designer Lever Handle...   \n",
       "222464  222465  Stanley-National Hardware 4-1/2 in. Template H...   \n",
       "223589  223590          Prime-Line 3/8 in. Bi-Fold Door Pivot Set   \n",
       "223642  223643  Barton Kramer Bi-Fold Jamb Bracket Closet Door...   \n",
       "223643  223644  Barton Kramer Bi-Fold Jamb Bracket Closet Door...   \n",
       "223774  223775  Stainless Glide Stainless Steel Top Mount Roll...   \n",
       "224771  224772     Canine Hardware 30 in. x 39 in. Pet Travel Bed   \n",
       "226311  226312  Martha Stewart Living Bedford 3 in. Nickel Can...   \n",
       "226361  226362  Prime-Line Bi-Fold Door Top Guide Wheel, 5/8 i...   \n",
       "226826  226827  Stainless Glide Stainless Steel Dual Wheel Str...   \n",
       "226881  226882  Prime-Line Solid Brass Pocket Door Combination...   \n",
       "227150  227151  Young House Love 3 in. Vintage Style Cocoa Bro...   \n",
       "228862  228863  Continental Home Hardware 1-3/4 in. Satin Nick...   \n",
       "229742  229743  Stanley-National Hardware 6 in. Professional C...   \n",
       "229999  230000  Prime-Line 3/4 in. Flat Nylon Wheel Bi-Fold Do...   \n",
       "230047  230048  Kwikset Arlington Single Cylinder Antique Bras...   \n",
       "230825  230826  PlayStar All Star Build It Yourself Gold Plays...   \n",
       "231360  231361  Barton Kramer Johnson Hardware Bi-Fold Door Bo...   \n",
       "232910  232911  Prime-Line Closet Pole Sockets, 1-3/8 in., Pla...   \n",
       "233124  233125       Richelieu Hardware 4-15/16 in. Furniture Leg   \n",
       "233302  233303  Hickory Hardware Studio Collection 1 in. Oil-R...   \n",
       "234873  234874      Liberty 3-3/4 in. Plaza Cabinet Hardware Pull   \n",
       "235233  235234  National Hardware Vinyl Fence Gate Kit in Whit...   \n",
       "235587  235588  Richelieu Hardware 8 in. x 10 in. White Enamel...   \n",
       "235701  235702  Liberty Cabinet Drawer Hardware Installation T...   \n",
       "236106  236107  Rustica Hardware 42 in. x 84 in. Modern Range ...   \n",
       "237028  237029   Everbilt Heavy Duty 36 in. Pocket Door Frame Set   \n",
       "237151  237152  Hickory Hardware Studio 1-1/4 in. Oil Rubbed B...   \n",
       "237739  237740  Johnson Hardware 111FD Series 72 in. Track and...   \n",
       "239861  239862     Liberty 1-1/4 in. Hollow Cabinet Hardware Knob   \n",
       "\n",
       "        product_uid  relevance                                   search_term  \\\n",
       "375          100209       2.67             bathroom hardware knobs and pulls   \n",
       "1416         100748       2.33                                 3/4' hardware   \n",
       "1989         101061       2.67                            door lock hardware   \n",
       "2180         101158       3.00                                 3/4' hardware   \n",
       "2295         101200       1.33                       oz metal fence hardware   \n",
       "2337         101223       2.00                                 3/4' hardware   \n",
       "2339         101223       3.00  kitchen cabinet drawer center-mount hardware   \n",
       "2706         101419       2.00                          wire fences hardware   \n",
       "2965         101566       2.00                              kitchen hardware   \n",
       "2975         101571       2.33                           wap around hardware   \n",
       "2982         101575       2.00                          wire fences hardware   \n",
       "3300         101755       3.00             interior door hardware by schlage   \n",
       "3421         101831       2.00  kitchen cabinet drawer center-mount hardware   \n",
       "3422         101831       2.00            kitchen cabinte hardware blue knob   \n",
       "3423         101831       3.00                     liberty campaign hardware   \n",
       "3775         102046       2.67                          vinyl fence hardware   \n",
       "3792         102057       2.00                          wire fences hardware   \n",
       "3933         102139       1.67                          wire fences hardware   \n",
       "4159         102276       2.33                          wire fences hardware   \n",
       "4613         102520       1.33                     liberty campaign hardware   \n",
       "4844         102651       2.67                       oz metal fence hardware   \n",
       "5260         102905       2.00                              kitchen hardware   \n",
       "6770         103960       2.00                    hickory hardware 469999035   \n",
       "6835         104017       3.00                           front door hardware   \n",
       "6909         104079       2.00                          wire fences hardware   \n",
       "6923         104092       2.00                   fence gate hardware eyebolt   \n",
       "7209         104340       2.00                         shelves wood hardware   \n",
       "7363         104469       3.00                          vinyl fence hardware   \n",
       "7461         104547       3.00                          vinyl fence hardware   \n",
       "7475         104569       3.00             bathroom hardware knobs and pulls   \n",
       "...             ...        ...                                           ...   \n",
       "220714       205663        NaN                     porcelain handle hardware   \n",
       "222464       207497        NaN                             hardware template   \n",
       "223589       208443        NaN                         bi fold door hardware   \n",
       "223642       208491        NaN                               closet hardware   \n",
       "223643       208491        NaN                             hardware brackets   \n",
       "223774       208596        NaN                      stainless steel hardware   \n",
       "224771       209453        NaN                           murphy bed hardware   \n",
       "226311       210797        NaN                                      hardware   \n",
       "226361       210841        NaN                         bi fold door hardware   \n",
       "226826       211265        NaN                      stainless steel hardware   \n",
       "226881       211314        NaN                          pocket door hardware   \n",
       "227150       211554        NaN                     liberty campaign hardware   \n",
       "228862       213100        NaN                                 3/4' hardware   \n",
       "229742       213907        NaN                             gate hardware kit   \n",
       "229999       214140        NaN                          pocket door hardware   \n",
       "230047       214184        NaN                           front door hardware   \n",
       "230825       214889        NaN                               lumber hardware   \n",
       "231360       215386        NaN                             hardware brackets   \n",
       "232910       216836        NaN                               closet hardware   \n",
       "233124       217037        NaN                           murphy bed hardware   \n",
       "233302       217204        NaN                       hickory hardware studio   \n",
       "234873       218685        NaN                                 3/4' hardware   \n",
       "235233       219029        NaN                          vinyl fence hardware   \n",
       "235587       219367        NaN                             hardware brackets   \n",
       "235701       219477        NaN                             hardware template   \n",
       "236106       219865        NaN                 sliding cabinet door hardware   \n",
       "237028       220759        NaN                          pocket door hardware   \n",
       "237151       220878        NaN                       hickory hardware studio   \n",
       "237739       221455        NaN                         bi fold door hardware   \n",
       "239861       223535        NaN                                 hardware knob   \n",
       "\n",
       "                                      product_description  \\\n",
       "375     Sleek and sophisticated, this design makes a c...   \n",
       "1416    The Martha Stewart Living Country 3-3/4 in. Po...   \n",
       "1989    Featuring a lifetime guarantee, Defiant meets ...   \n",
       "2180    The Martha Stewart Living Country 3-3/4 in. Be...   \n",
       "2295    Oz-Post is one of the best ways to secure a wo...   \n",
       "2337    The Liberty 2-3/4 or 3 in. Satin Nickel Dual-M...   \n",
       "2339    The Liberty 2-3/4 or 3 in. Satin Nickel Dual-M...   \n",
       "2706    The HDX 4 ft. x 100 ft. Welded Wire is made of...   \n",
       "2965    Use the Liberty Hardware 2-1/2 or 3 in. Dual M...   \n",
       "2975    The WAP-238 from OZCO is a galvanized bracket ...   \n",
       "2982    A lightweight, flexible and economical wire me...   \n",
       "3300    The Plymouth front entry features a simple cur...   \n",
       "3421    Sleek and sophisticated, this design makes a c...   \n",
       "3422    Sleek and sophisticated, this design makes a c...   \n",
       "3423    Sleek and sophisticated, this design makes a c...   \n",
       "3775    Veranda PVC cement glue is specifically design...   \n",
       "3792    If rabbits and other varmints are getting to y...   \n",
       "3933    Welded wire is a general purpose fence providi...   \n",
       "4159    Replaces metal hardware net under must applica...   \n",
       "4613    Sleek and sophisticated, this design makes a c...   \n",
       "4844    The remarkable WAP-OZ fence bracket from OZCO ...   \n",
       "5260    The Martha Stewart Living Modern 3 in. Bedford...   \n",
       "6770    Update your cabinetry with the Hickory Hardwar...   \n",
       "6835    Reinforce your entry door with the Defiant Spr...   \n",
       "6909    The HDX 1 in. x 4 ft. x 50 ft. 20-Gauge Galvan...   \n",
       "6923    The Everbilt Anti-Sag Gate Kit is ideal to eli...   \n",
       "7209    This set of 2 ClosetMaid Wall Brackets is desi...   \n",
       "7363    Choose Veranda's 2 in. x 3 in. Fence Rail Brac...   \n",
       "7461    Veranda vinyl fencing is The Home Depot's prem...   \n",
       "7475    Use the Liberty 1-3/8 in. Satin Nickel Large F...   \n",
       "...                                                   ...   \n",
       "220714  Replacing your faucets handles makes your fauc...   \n",
       "222464  Whether for home, farm, builder or industrial ...   \n",
       "223589  This Prime-Line Products 3/8 in. Bifold Door P...   \n",
       "223642  This bi-fold closet door jamb bracket is desig...   \n",
       "223643  This bi-fold closet door jamb bracket is desig...   \n",
       "223774  The Stainless Glide Stainless Steel Rolling Do...   \n",
       "224771  This travel bed's plush look and feel will als...   \n",
       "226311  The Martha Stewart Living 3 in. Bedford Nickel...   \n",
       "226361  This bi-fold door pivot is constructed from st...   \n",
       "226826  The Stainless Glide Stainless Steel Rolling Do...   \n",
       "226881  This mortise latch unit features recessed grip...   \n",
       "227150  From Liberty Hardware and Young House Love, th...   \n",
       "228862  Thomasville  Hardware brings a customized hard...   \n",
       "229742  Stanley-National Hardware has been a leading m...   \n",
       "229999  This wardrobe door roller is constructed from ...   \n",
       "230047  Step up to designer styles and superior securi...   \n",
       "230825  The All Star XP Gold Design has 12 sq. ft. of ...   \n",
       "231360  This bi-fold door bottom pivot and bracket is ...   \n",
       "232910  These pole sockets are constructed from sturdy...   \n",
       "233124  An ideal way to update your furniture, the Ric...   \n",
       "233302  This Hickory hardware Studio Collection 1 in. ...   \n",
       "234873  The Liberty 3-3/4 in. Brushed Satin-Nickel Pla...   \n",
       "235233  Whether for home, farm, builder or industrial ...   \n",
       "235587  Onward products offer unique and creative hard...   \n",
       "235701  This Liberty Cabinet Hardware Installation Tem...   \n",
       "236106  As unique as your fingerprints are to you, so ...   \n",
       "237028  The Everbilt 36 in. Heavy Duty Pocket Door Fra...   \n",
       "237151  Bold style and functionality are combined in t...   \n",
       "237739  The Johnson Hardware 111FD Series 72 in. Track...   \n",
       "239861  The clean lines of this knob fit several desig...   \n",
       "\n",
       "                            brand            bullet  bullet_count  \\\n",
       "375                       Liberty                             0.0   \n",
       "1416        Martha Stewart Living                             0.0   \n",
       "1989                      Defiant                             0.0   \n",
       "2180        Martha Stewart Living                             0.0   \n",
       "2295                      Oz-Post                             0.0   \n",
       "2337                      Liberty                             0.0   \n",
       "2339                      Liberty                             0.0   \n",
       "2706                          HDX            Silver           1.0   \n",
       "2965                      Liberty                             0.0   \n",
       "2975                      Oz-Post                             0.0   \n",
       "2982                          HDX            Silver           1.0   \n",
       "3300                      Schlage                             0.0   \n",
       "3421                      Liberty                             0.0   \n",
       "3422                      Liberty                             0.0   \n",
       "3423                      Liberty                             0.0   \n",
       "3775                      Veranda                             0.0   \n",
       "3792                          HDX            Silver           1.0   \n",
       "3933                     YARDGARD             Green           1.0   \n",
       "4159                        Tenax       Black Black           2.0   \n",
       "4613                      Liberty                             0.0   \n",
       "4844                      Oz-Post                             0.0   \n",
       "5260        Martha Stewart Living                             0.0   \n",
       "6770             Hickory Hardware                             0.0   \n",
       "6835                      Defiant                             0.0   \n",
       "6909                          HDX                             0.0   \n",
       "6923                     Everbilt                             0.0   \n",
       "7209                   ClosetMaid       White White           2.0   \n",
       "7363                      Veranda                             0.0   \n",
       "7461                      Veranda                             0.0   \n",
       "7475                      nobrand                             0.0   \n",
       "...                           ...               ...           ...   \n",
       "220714             PartsmasterPro     Chrome Chrome           2.0   \n",
       "222464  Stanley-National Hardware                             0.0   \n",
       "223589                 Prime-Line                             0.0   \n",
       "223642              Barton Kramer                             0.0   \n",
       "223643              Barton Kramer                             0.0   \n",
       "223774            Stainless Glide   Stainless Steel           1.0   \n",
       "224771            Canine Hardware                             0.0   \n",
       "226311      Martha Stewart Living                             0.0   \n",
       "226361                 Prime-Line                             0.0   \n",
       "226826            Stainless Glide   Stainless Steel           1.0   \n",
       "226881                 Prime-Line                             0.0   \n",
       "227150           Young House Love                             0.0   \n",
       "228862  Continental Home Hardware                             0.0   \n",
       "229742  Stanley-National Hardware                             0.0   \n",
       "229999                 Prime-Line                             0.0   \n",
       "230047                    Kwikset                             0.0   \n",
       "230825                   PlayStar                             0.0   \n",
       "231360              Barton Kramer                             0.0   \n",
       "232910                 Prime-Line                             0.0   \n",
       "233124         Richelieu Hardware       Matte Black           1.0   \n",
       "233302           Hickory Hardware                             0.0   \n",
       "234873                    Liberty                             0.0   \n",
       "235233          National Hardware                             0.0   \n",
       "235587         Richelieu Hardware       White White           2.0   \n",
       "235701                    Liberty                             0.0   \n",
       "236106                    nobrand                             0.0   \n",
       "237028                   Everbilt                             0.0   \n",
       "237151           Hickory Hardware                             0.0   \n",
       "237739           Johnson Hardware                             0.0   \n",
       "239861                    Liberty                             0.0   \n",
       "\n",
       "                   color                               material  \\\n",
       "375                                                       Steel   \n",
       "1416                                                      Metal   \n",
       "1989                                      Stainless steel Metal   \n",
       "2180                                                      Metal   \n",
       "2295                                                      Metal   \n",
       "2337                                                      Metal   \n",
       "2339                                                      Metal   \n",
       "2706              Silver                                  Metal   \n",
       "2965                                                      Metal   \n",
       "2975                                                      Metal   \n",
       "2982              Silver                                  Metal   \n",
       "3300                                                Solid Brass   \n",
       "3421                                                      Steel   \n",
       "3422                                                      Steel   \n",
       "3423                                                      Steel   \n",
       "3775                                                      Metal   \n",
       "3792              Silver                                  Metal   \n",
       "3933               Green                                  Metal   \n",
       "4159         Black Black                                Plastic   \n",
       "4613                                                      Steel   \n",
       "4844                                                      Metal   \n",
       "5260                                                      Metal   \n",
       "6770                                                      Steel   \n",
       "6835                                                Solid Brass   \n",
       "6909                                           Galvanized Steel   \n",
       "6923                                                      Steel   \n",
       "7209         White White                                  Resin   \n",
       "7363                                                      Metal   \n",
       "7461                                                      Metal   \n",
       "7475                                                              \n",
       "...                  ...                                    ...   \n",
       "220714     Chrome Chrome                                  Metal   \n",
       "222464                                                    Steel   \n",
       "223589                                                  Plastic   \n",
       "223642                                                    Steel   \n",
       "223643                                                    Steel   \n",
       "223774   Stainless Steel                        Stainless Steel   \n",
       "224771                                                    Other   \n",
       "226311                                                    Metal   \n",
       "226361                                                    Steel   \n",
       "226826   Stainless Steel                        Stainless Steel   \n",
       "226881                                              Solid Brass   \n",
       "227150                                                    Metal   \n",
       "228862                                                    Metal   \n",
       "229742                                                    Steel   \n",
       "229999                                                    Other   \n",
       "230047                                                    Metal   \n",
       "230825                     Galvanized Steel Metal Plastic/Metal   \n",
       "231360                                                    Steel   \n",
       "232910                                                  Plastic   \n",
       "233124       Matte Black                                  Other   \n",
       "233302                                                    Metal   \n",
       "234873                                                    Metal   \n",
       "235233                                                    Steel   \n",
       "235587       White White                                  Metal   \n",
       "235701                                                  Plastic   \n",
       "236106                                                            \n",
       "237028                                                 Aluminum   \n",
       "237151                                                    Metal   \n",
       "237739                                                 Aluminum   \n",
       "239861                                                  Ceramic   \n",
       "\n",
       "        flag_commercial  flag_residential  \n",
       "375                -1.0              -1.0  \n",
       "1416               -1.0              -1.0  \n",
       "1989               -1.0              -1.0  \n",
       "2180               -1.0              -1.0  \n",
       "2295               -1.0              -1.0  \n",
       "2337               -1.0              -1.0  \n",
       "2339               -1.0              -1.0  \n",
       "2706               -1.0              -1.0  \n",
       "2965               -1.0              -1.0  \n",
       "2975               -1.0              -1.0  \n",
       "2982               -1.0              -1.0  \n",
       "3300               -1.0              -1.0  \n",
       "3421               -1.0              -1.0  \n",
       "3422               -1.0              -1.0  \n",
       "3423               -1.0              -1.0  \n",
       "3775               -1.0              -1.0  \n",
       "3792               -1.0              -1.0  \n",
       "3933               -1.0              -1.0  \n",
       "4159               -1.0              -1.0  \n",
       "4613               -1.0              -1.0  \n",
       "4844               -1.0              -1.0  \n",
       "5260               -1.0              -1.0  \n",
       "6770               -1.0              -1.0  \n",
       "6835               -1.0              -1.0  \n",
       "6909               -1.0              -1.0  \n",
       "6923               -1.0              -1.0  \n",
       "7209               -1.0              -1.0  \n",
       "7363               -1.0              -1.0  \n",
       "7461               -1.0              -1.0  \n",
       "7475               -1.0              -1.0  \n",
       "...                 ...               ...  \n",
       "220714             -1.0              -1.0  \n",
       "222464             -1.0              -1.0  \n",
       "223589             -1.0              -1.0  \n",
       "223642             -1.0              -1.0  \n",
       "223643             -1.0              -1.0  \n",
       "223774             -1.0              -1.0  \n",
       "224771             -1.0              -1.0  \n",
       "226311             -1.0              -1.0  \n",
       "226361             -1.0              -1.0  \n",
       "226826             -1.0              -1.0  \n",
       "226881             -1.0              -1.0  \n",
       "227150             -1.0              -1.0  \n",
       "228862             -1.0              -1.0  \n",
       "229742             -1.0              -1.0  \n",
       "229999             -1.0              -1.0  \n",
       "230047             -1.0              -1.0  \n",
       "230825             -1.0              -1.0  \n",
       "231360             -1.0              -1.0  \n",
       "232910             -1.0              -1.0  \n",
       "233124             -1.0              -1.0  \n",
       "233302             -1.0              -1.0  \n",
       "234873             -1.0              -1.0  \n",
       "235233             -1.0              -1.0  \n",
       "235587             -1.0              -1.0  \n",
       "235701             -1.0              -1.0  \n",
       "236106             -1.0              -1.0  \n",
       "237028             -1.0              -1.0  \n",
       "237151             -1.0              -1.0  \n",
       "237739             -1.0              -1.0  \n",
       "239861             -1.0              -1.0  \n",
       "\n",
       "[742 rows x 13 columns]"
      ]
     },
     "execution_count": 124,
     "metadata": {},
     "output_type": "execute_result"
    }
   ],
   "source": [
    "filter_str(df, 'hardware')"
   ]
  },
  {
   "cell_type": "code",
   "execution_count": 151,
   "metadata": {
    "collapsed": false,
    "deletable": true,
    "editable": true
   },
   "outputs": [
    {
     "data": {
      "text/plain": [
       "No     6939\n",
       "Yes    1481\n",
       "Name: value, dtype: int64"
      ]
     },
     "execution_count": 151,
     "metadata": {},
     "output_type": "execute_result"
    }
   ],
   "source": [
    "filter_str(df_attr, 'energy star certified', 'name')['value'].value_counts()"
   ]
  },
  {
   "cell_type": "markdown",
   "metadata": {
    "deletable": true,
    "editable": true
   },
   "source": [
    "### Brands"
   ]
  },
  {
   "cell_type": "code",
   "execution_count": 5,
   "metadata": {
    "collapsed": true,
    "deletable": true,
    "editable": true
   },
   "outputs": [],
   "source": [
    "df_brand = df_attr[df_attr.name == 'MFG Brand Name'][['product_uid', 'value']].rename(columns={'value': 'brand'})"
   ]
  },
  {
   "cell_type": "markdown",
   "metadata": {
    "deletable": true,
    "editable": true
   },
   "source": [
    "### Bullets"
   ]
  },
  {
   "cell_type": "code",
   "execution_count": 7,
   "metadata": {
    "collapsed": false,
    "deletable": true,
    "editable": true
   },
   "outputs": [],
   "source": [
    "bullet = dict()\n",
    "bullet_count = dict()\n",
    "df_attr['about_bullet'] = df_attr['name'].str.lower().str.contains('bullet')\n",
    "for idx, row in df_attr[df_attr['about_bullet']].iterrows():\n",
    "    pid = row['product_uid']\n",
    "    value = row['value']\n",
    "    bullet.setdefault(pid, '')\n",
    "    bullet_count.setdefault(pid, 0)\n",
    "    bullet[pid] = bullet[pid] + ' ' + str(value)\n",
    "    bullet_count[pid] = bullet_count[pid] + 1\n",
    "df_bullet = pd.DataFrame.from_dict(bullet, orient='index').reset_index()\n",
    "df_bullet_count = pd.DataFrame.from_dict(bullet_count, orient='index').reset_index().astype(np.float)\n",
    "df_bullet.columns = ['product_uid', 'bullet']\n",
    "df_bullet_count.columns = ['product_uid', 'bullet_count']"
   ]
  },
  {
   "cell_type": "markdown",
   "metadata": {
    "deletable": true,
    "editable": true
   },
   "source": [
    "### Color"
   ]
  },
  {
   "cell_type": "code",
   "execution_count": 8,
   "metadata": {
    "collapsed": false,
    "deletable": true,
    "editable": true
   },
   "outputs": [],
   "source": [
    "color = dict()\n",
    "df_attr['about_color'] = df_attr['name'].str.lower().str.contains('color')\n",
    "for idx, row in df_attr[df_attr['about_color']].iterrows():\n",
    "    pid = row['product_uid']\n",
    "    value = row['value']\n",
    "    color.setdefault(pid, '')\n",
    "    color[pid] = color[pid] + ' ' + str(value)\n",
    "df_color = pd.DataFrame.from_dict(color, orient='index').reset_index()\n",
    "df_color.columns = ['product_uid', 'color']"
   ]
  },
  {
   "cell_type": "markdown",
   "metadata": {
    "deletable": true,
    "editable": true
   },
   "source": [
    "### Material"
   ]
  },
  {
   "cell_type": "code",
   "execution_count": 9,
   "metadata": {
    "collapsed": false,
    "deletable": true,
    "editable": true,
    "scrolled": true
   },
   "outputs": [],
   "source": [
    "material = dict()\n",
    "df_attr['about_material'] = df_attr['name'].str.lower().str.contains('material')\n",
    "for idx, row in df_attr[df_attr['about_material']].iterrows():\n",
    "    pid = row['product_uid']\n",
    "    value = row['value']\n",
    "    material.setdefault(pid, '')\n",
    "    material[pid] = material[pid] + ' ' + str(value)\n",
    "df_material = pd.DataFrame.from_dict(material, orient='index').reset_index()\n",
    "df_material.columns = ['product_uid', 'material']"
   ]
  },
  {
   "cell_type": "markdown",
   "metadata": {
    "deletable": true,
    "editable": true
   },
   "source": [
    "### Commercial / Residential Flag"
   ]
  },
  {
   "cell_type": "code",
   "execution_count": 10,
   "metadata": {
    "collapsed": true,
    "deletable": true,
    "editable": true
   },
   "outputs": [],
   "source": [
    "comres_index = df_attr['name'].str.lower().str.contains('commercial / residential')"
   ]
  },
  {
   "cell_type": "code",
   "execution_count": 11,
   "metadata": {
    "collapsed": false,
    "deletable": true,
    "editable": true,
    "scrolled": true
   },
   "outputs": [
    {
     "data": {
      "text/plain": [
       "Commercial / Residential    5011\n",
       "Residential                 4337\n",
       "Commercial                   182\n",
       "Name: value, dtype: int64"
      ]
     },
     "execution_count": 11,
     "metadata": {},
     "output_type": "execute_result"
    }
   ],
   "source": [
    "df_attr[comres_index]['value'].value_counts()"
   ]
  },
  {
   "cell_type": "code",
   "execution_count": 12,
   "metadata": {
    "collapsed": false,
    "deletable": true,
    "editable": true
   },
   "outputs": [],
   "source": [
    "flag_comres = dict()\n",
    "df_attr['about_comres'] = df_attr['name'].str.lower().str.contains('commercial / residential')\n",
    "for idx, row in df_attr[df_attr['about_comres']].iterrows():\n",
    "    pid = row['product_uid']\n",
    "    value = row['value']\n",
    "    flag_comres.setdefault(pid, [0, 0])\n",
    "    if 'Commercial' in str(value):\n",
    "        flag_comres[pid][0] = 1\n",
    "    if 'Residential' in str(value):\n",
    "        flag_comres[pid][1] = 1\n",
    "df_comres = pd.DataFrame.from_dict(flag_comres, orient='index').reset_index().astype(np.float)\n",
    "df_comres.columns = ['product_uid', 'flag_commercial', 'flag_residential']"
   ]
  },
  {
   "cell_type": "markdown",
   "metadata": {
    "deletable": true,
    "editable": true
   },
   "source": [
    "### Indoor/Outdoor Flag"
   ]
  },
  {
   "cell_type": "code",
   "execution_count": 13,
   "metadata": {
    "collapsed": false,
    "deletable": true,
    "editable": true
   },
   "outputs": [
    {
     "data": {
      "text/plain": [
       "Indoor                      7527\n",
       "Indoor/Outdoor              3925\n",
       "Outdoor                     1204\n",
       "Indoor,Outdoor               256\n",
       "Indoor/Outdoor (Covered)      47\n",
       "Name: value, dtype: int64"
      ]
     },
     "execution_count": 13,
     "metadata": {},
     "output_type": "execute_result"
    }
   ],
   "source": [
    "filter_str(df_attr, 'indoor/outdoor', 'name')['value'].value_counts()"
   ]
  },
  {
   "cell_type": "code",
   "execution_count": 14,
   "metadata": {
    "collapsed": true,
    "deletable": true,
    "editable": true
   },
   "outputs": [],
   "source": [
    "flag_inoutdoor = dict()\n",
    "df_attr['about_intoutdoor'] = df_attr['name'].str.lower().str.contains('indoor/outdoor')\n",
    "for idx, row in df_attr[df_attr['about_intoutdoor']].iterrows():\n",
    "    pid = row['product_uid']\n",
    "    value = row['value']\n",
    "    flag_inoutdoor.setdefault(pid, [0, 0])\n",
    "    if 'Indoor' in str(value):\n",
    "        flag_inoutdoor[pid][0] = 1\n",
    "    if 'Outdoor' in str(value):\n",
    "        flag_inoutdoor[pid][1] = 1\n",
    "df_inoutdoor = pd.DataFrame.from_dict(flag_inoutdoor, orient='index').reset_index().astype(np.float)\n",
    "df_inoutdoor.columns = ['product_uid', 'flag_indoor', 'flag_outdoor']"
   ]
  },
  {
   "cell_type": "code",
   "execution_count": 15,
   "metadata": {
    "collapsed": false,
    "deletable": true,
    "editable": true
   },
   "outputs": [
    {
     "data": {
      "text/plain": [
       "1    11755\n",
       "0     1203\n",
       "Name: flag_indoor, dtype: int64"
      ]
     },
     "execution_count": 15,
     "metadata": {},
     "output_type": "execute_result"
    }
   ],
   "source": [
    "df_inoutdoor['flag_indoor'].value_counts()"
   ]
  },
  {
   "cell_type": "markdown",
   "metadata": {
    "deletable": true,
    "editable": true
   },
   "source": [
    "### Energy Star Flag"
   ]
  },
  {
   "cell_type": "code",
   "execution_count": 16,
   "metadata": {
    "collapsed": false,
    "deletable": true,
    "editable": true
   },
   "outputs": [
    {
     "data": {
      "text/plain": [
       "No     6939\n",
       "Yes    1481\n",
       "Name: value, dtype: int64"
      ]
     },
     "execution_count": 16,
     "metadata": {},
     "output_type": "execute_result"
    }
   ],
   "source": [
    "filter_str(df_attr, 'energy star certified', 'name')['value'].value_counts()"
   ]
  },
  {
   "cell_type": "code",
   "execution_count": 17,
   "metadata": {
    "collapsed": true,
    "deletable": true,
    "editable": true
   },
   "outputs": [],
   "source": [
    "flag_estar = dict()\n",
    "df_attr['about_estar'] = df_attr['name'].str.lower().str.contains('energy star certified')\n",
    "for idx, row in df_attr[df_attr['about_estar']].iterrows():\n",
    "    pid = row['product_uid']\n",
    "    value = row['value']\n",
    "    flag_estar.setdefault(pid, 0)\n",
    "    if 'Yes' in str(value):\n",
    "        flag_estar[pid] = 1\n",
    "df_estar = pd.DataFrame.from_dict(flag_estar, orient='index').reset_index().astype(np.float)\n",
    "df_estar.columns = ['product_uid', 'flag_estar']"
   ]
  },
  {
   "cell_type": "code",
   "execution_count": 18,
   "metadata": {
    "collapsed": false,
    "deletable": true,
    "editable": true,
    "scrolled": true
   },
   "outputs": [
    {
     "data": {
      "text/plain": [
       "0    6939\n",
       "1    1481\n",
       "Name: flag_estar, dtype: int64"
      ]
     },
     "execution_count": 18,
     "metadata": {},
     "output_type": "execute_result"
    }
   ],
   "source": [
    "df_estar['flag_estar'].value_counts()"
   ]
  },
  {
   "cell_type": "markdown",
   "metadata": {
    "deletable": true,
    "editable": true
   },
   "source": [
    "## Join (this will rebuild df, besure to finish all the following operations before training)"
   ]
  },
  {
   "cell_type": "code",
   "execution_count": 19,
   "metadata": {
    "collapsed": false,
    "deletable": true,
    "editable": true
   },
   "outputs": [],
   "source": [
    "df = pd.concat((df_train, df_test), axis=0, ignore_index=True)\n",
    "df = pd.merge(df, df_desp, how='left', on='product_uid')\n",
    "df = pd.merge(df, df_brand, how='left', on='product_uid')\n",
    "df = pd.merge(df, df_bullet, how='left', on='product_uid')\n",
    "df = pd.merge(df, df_bullet_count, how='left', on='product_uid')\n",
    "df = pd.merge(df, df_color, how='left', on='product_uid')\n",
    "df = pd.merge(df, df_material, how='left', on='product_uid')\n",
    "df = pd.merge(df, df_comres, how='left', on='product_uid')\n",
    "df = pd.merge(df, df_inoutdoor, how='left', on='product_uid')\n",
    "df = pd.merge(df, df_estar, how='left', on='product_uid')"
   ]
  },
  {
   "cell_type": "markdown",
   "metadata": {
    "deletable": true,
    "editable": true
   },
   "source": [
    "### Fill NAs"
   ]
  },
  {
   "cell_type": "code",
   "execution_count": 20,
   "metadata": {
    "collapsed": false,
    "deletable": true,
    "editable": true
   },
   "outputs": [],
   "source": [
    "df['brand'].fillna('nobrand', inplace=True)\n",
    "df['bullet'].fillna('', inplace=True)\n",
    "df['bullet_count'].fillna(0, inplace=True)\n",
    "df['color'].fillna('', inplace=True)\n",
    "df['material'].fillna('', inplace=True)\n",
    "df['flag_commercial'].fillna(-1, inplace=True)\n",
    "df['flag_residential'].fillna(-1, inplace=True)\n",
    "df['flag_indoor'].fillna(-1, inplace=True)\n",
    "df['flag_outdoor'].fillna(-1, inplace=True)\n",
    "df['flag_estar'].fillna(-1, inplace=True)"
   ]
  },
  {
   "cell_type": "markdown",
   "metadata": {
    "deletable": true,
    "editable": true
   },
   "source": [
    "### Relevance Distribution"
   ]
  },
  {
   "cell_type": "code",
   "execution_count": 21,
   "metadata": {
    "collapsed": false,
    "deletable": true,
    "editable": true
   },
   "outputs": [
    {
     "data": {
      "text/plain": [
       "<matplotlib.axes._subplots.AxesSubplot at 0x17060ba8>"
      ]
     },
     "execution_count": 21,
     "metadata": {},
     "output_type": "execute_result"
    },
    {
     "data": {
      "image/png": "[encoded data removed]",
      "text/plain": [
       "<matplotlib.figure.Figure at 0xd8e1518>"
      ]
     },
     "metadata": {},
     "output_type": "display_data"
    }
   ],
   "source": [
    "sns.countplot(x='relevance', data=df)"
   ]
  },
  {
   "cell_type": "code",
   "execution_count": 22,
   "metadata": {
    "collapsed": true,
    "deletable": true,
    "editable": true
   },
   "outputs": [],
   "source": [
    "df['majority_relevance'] = df['relevance'].map(lambda x: x in [1.0, 1.33, 1.67, 2.0, 2.33, 2.67, 3.0])\n",
    "def majoritize(df):\n",
    "    return df[df['majority_relevance'] == 1]"
   ]
  },
  {
   "cell_type": "markdown",
   "metadata": {
    "deletable": true,
    "editable": true
   },
   "source": [
    "## External Data Utilization"
   ]
  },
  {
   "cell_type": "markdown",
   "metadata": {
    "deletable": true,
    "editable": true
   },
   "source": [
    "### Fix Typos"
   ]
  },
  {
   "cell_type": "code",
   "execution_count": 23,
   "metadata": {
    "collapsed": true,
    "deletable": true,
    "editable": true
   },
   "outputs": [],
   "source": [
    "df['search_term'] = df['search_term'].map(correct_typo)"
   ]
  },
  {
   "cell_type": "markdown",
   "metadata": {
    "deletable": true,
    "editable": true
   },
   "source": [
    "## Pre-Stemming Attributes Features"
   ]
  },
  {
   "cell_type": "code",
   "execution_count": 24,
   "metadata": {
    "collapsed": true,
    "deletable": true,
    "editable": true
   },
   "outputs": [],
   "source": [
    "df['match_commercial'] = (df['search_term'].str.lower().str.contains('commercial') & df['flag_commercial']).astype(np.float)"
   ]
  },
  {
   "cell_type": "code",
   "execution_count": 25,
   "metadata": {
    "collapsed": false,
    "deletable": true,
    "editable": true
   },
   "outputs": [
    {
     "data": {
      "text/plain": [
       "350.0"
      ]
     },
     "execution_count": 25,
     "metadata": {},
     "output_type": "execute_result"
    }
   ],
   "source": [
    "sum(df['match_commercial'])"
   ]
  },
  {
   "cell_type": "code",
   "execution_count": 26,
   "metadata": {
    "collapsed": true,
    "deletable": true,
    "editable": true
   },
   "outputs": [],
   "source": [
    "df['match_residential'] = (df['search_term'].str.lower().str.contains('residential') & df['flag_residential']).astype(np.float)"
   ]
  },
  {
   "cell_type": "code",
   "execution_count": 27,
   "metadata": {
    "collapsed": false,
    "deletable": true,
    "editable": true
   },
   "outputs": [
    {
     "data": {
      "text/plain": [
       "56.0"
      ]
     },
     "execution_count": 27,
     "metadata": {},
     "output_type": "execute_result"
    }
   ],
   "source": [
    "sum(df['match_residential'])"
   ]
  },
  {
   "cell_type": "code",
   "execution_count": 28,
   "metadata": {
    "collapsed": true,
    "deletable": true,
    "editable": true
   },
   "outputs": [],
   "source": [
    "def filter_estar(df):\n",
    "    return df['search_term'].str.lower().str.contains('energy star') |\\\n",
    "    df['search_term'].str.lower().str.contains('energy efficient')"
   ]
  },
  {
   "cell_type": "code",
   "execution_count": 29,
   "metadata": {
    "collapsed": true,
    "deletable": true,
    "editable": true
   },
   "outputs": [],
   "source": [
    "df['match_estar'] = (filter_estar(df) & df['flag_residential']).astype(np.float)"
   ]
  },
  {
   "cell_type": "code",
   "execution_count": 30,
   "metadata": {
    "collapsed": false,
    "deletable": true,
    "editable": true
   },
   "outputs": [
    {
     "data": {
      "text/plain": [
       "60.0"
      ]
     },
     "execution_count": 30,
     "metadata": {},
     "output_type": "execute_result"
    }
   ],
   "source": [
    "sum(df['match_estar'])"
   ]
  },
  {
   "cell_type": "code",
   "execution_count": 31,
   "metadata": {
    "collapsed": true,
    "deletable": true,
    "editable": true
   },
   "outputs": [],
   "source": [
    "df['match_indoor'] = (df['search_term'].str.lower().str.contains('indoor') & df['flag_indoor']).astype(np.float)"
   ]
  },
  {
   "cell_type": "code",
   "execution_count": 32,
   "metadata": {
    "collapsed": false,
    "deletable": true,
    "editable": true
   },
   "outputs": [
    {
     "data": {
      "text/plain": [
       "591.0"
      ]
     },
     "execution_count": 32,
     "metadata": {},
     "output_type": "execute_result"
    }
   ],
   "source": [
    "sum(df['match_indoor'])"
   ]
  },
  {
   "cell_type": "code",
   "execution_count": 33,
   "metadata": {
    "collapsed": true,
    "deletable": true,
    "editable": true
   },
   "outputs": [],
   "source": [
    "df['match_outdoor'] = (df['search_term'].str.lower().str.contains('outdoor') & df['flag_outdoor']).astype(np.float)"
   ]
  },
  {
   "cell_type": "code",
   "execution_count": 34,
   "metadata": {
    "collapsed": false,
    "deletable": true,
    "editable": true,
    "scrolled": true
   },
   "outputs": [
    {
     "data": {
      "text/plain": [
       "3509.0"
      ]
     },
     "execution_count": 34,
     "metadata": {},
     "output_type": "execute_result"
    }
   ],
   "source": [
    "sum(df['match_outdoor'])"
   ]
  },
  {
   "cell_type": "code",
   "execution_count": 35,
   "metadata": {
    "collapsed": false,
    "deletable": true,
    "editable": true
   },
   "outputs": [
    {
     "data": {
      "text/plain": [
       "count    240760.000000\n",
       "mean          0.014575\n",
       "std           0.119843\n",
       "min           0.000000\n",
       "25%           0.000000\n",
       "50%           0.000000\n",
       "75%           0.000000\n",
       "max           1.000000\n",
       "Name: match_outdoor, dtype: float64"
      ]
     },
     "execution_count": 35,
     "metadata": {},
     "output_type": "execute_result"
    }
   ],
   "source": [
    "df['match_outdoor'].describe()"
   ]
  },
  {
   "cell_type": "markdown",
   "metadata": {
    "deletable": true,
    "editable": true
   },
   "source": [
    "## Stemming & Tokenizing"
   ]
  },
  {
   "cell_type": "code",
   "execution_count": 36,
   "metadata": {
    "collapsed": false,
    "deletable": true,
    "editable": true
   },
   "outputs": [],
   "source": [
    "df['search_term'] = df['search_term'].map(lambda x: str_stem(x))\n",
    "df['product_title'] = df['product_title'].map(lambda x: str_stem(x))\n",
    "df['product_description'] = df['product_description'].map(lambda x: str_stem(x))\n",
    "df['brand'] = df['brand'].map(lambda x: str_stem(x))\n",
    "df['bullet'] = df['bullet'].map(lambda x: str_stem(x))"
   ]
  },
  {
   "cell_type": "code",
   "execution_count": 37,
   "metadata": {
    "collapsed": true,
    "deletable": true,
    "editable": true
   },
   "outputs": [],
   "source": [
    "df['color'] = df['color'].map(lambda x: str_stem(x))\n",
    "df['material'] = df['material'].map(lambda x: str_stem(x))"
   ]
  },
  {
   "cell_type": "code",
   "execution_count": 38,
   "metadata": {
    "collapsed": false,
    "deletable": true,
    "editable": true
   },
   "outputs": [],
   "source": [
    "df['tokens_search_term'] = df['search_term'].map(lambda x: x.split())\n",
    "df['tokens_product_title'] = df['product_title'].map(lambda x: x.split())\n",
    "df['tokens_product_description'] = df['product_description'].map(lambda x: x.split())\n",
    "df['tokens_brand'] = df['brand'].map(lambda x: x.split())\n",
    "df['tokens_bullet'] = df['bullet'].map(lambda x: x.split())"
   ]
  },
  {
   "cell_type": "markdown",
   "metadata": {},
   "source": [
    "Using a proper tokenizer is much slower and does not bring substantial improvment."
   ]
  },
  {
   "cell_type": "code",
   "execution_count": null,
   "metadata": {
    "collapsed": true,
    "deletable": true,
    "editable": true
   },
   "outputs": [],
   "source": [
    "# df['tokens_search_term'] = df['search_term'].map(lambda x: word_tokenize(x))\n",
    "# df['tokens_product_title'] = df['product_title'].map(lambda x: word_tokenize(x))\n",
    "# df['tokens_product_description'] = df['product_description'].map(lambda x: word_tokenize(x))\n",
    "# df['tokens_brand'] = df['brand'].map(lambda x: word_tokenize(x))"
   ]
  },
  {
   "cell_type": "markdown",
   "metadata": {
    "deletable": true,
    "editable": true
   },
   "source": [
    "## Meta-Features"
   ]
  },
  {
   "cell_type": "markdown",
   "metadata": {
    "deletable": true,
    "editable": true
   },
   "source": [
    "### Length"
   ]
  },
  {
   "cell_type": "code",
   "execution_count": 45,
   "metadata": {
    "collapsed": true,
    "deletable": true,
    "editable": true
   },
   "outputs": [],
   "source": [
    "df['len_search_term'] = df['tokens_search_term'].map(lambda x: len(x))\n",
    "df['len_product_title'] = df['tokens_product_title'].map(lambda x: len(x))\n",
    "df['len_product_description'] = df['tokens_product_description'].map(lambda x: len(x))\n",
    "df['len_brand'] = df['tokens_brand'].map(lambda x: len(x))\n",
    "df['len_bullet'] = df['tokens_bullet'].map(lambda x: len(x))"
   ]
  },
  {
   "cell_type": "markdown",
   "metadata": {
    "deletable": true,
    "editable": true
   },
   "source": [
    "### Post-Stemming Attributes Features"
   ]
  },
  {
   "cell_type": "code",
   "execution_count": 39,
   "metadata": {
    "collapsed": true,
    "deletable": true,
    "editable": true
   },
   "outputs": [],
   "source": [
    "def match_color(st, colors):\n",
    "    for w in st:\n",
    "        if w in colors:\n",
    "            return True\n",
    "    return False"
   ]
  },
  {
   "cell_type": "code",
   "execution_count": 40,
   "metadata": {
    "collapsed": true,
    "deletable": true,
    "editable": true
   },
   "outputs": [],
   "source": [
    "df['match_color'] = df.apply(lambda x: match_color(x['tokens_search_term'], x['color']), axis=1).astype(np.float)"
   ]
  },
  {
   "cell_type": "code",
   "execution_count": 41,
   "metadata": {
    "collapsed": false,
    "deletable": true,
    "editable": true
   },
   "outputs": [
    {
     "data": {
      "text/plain": [
       "19251.0"
      ]
     },
     "execution_count": 41,
     "metadata": {},
     "output_type": "execute_result"
    }
   ],
   "source": [
    "sum(df['match_color'])"
   ]
  },
  {
   "cell_type": "code",
   "execution_count": 42,
   "metadata": {
    "collapsed": true,
    "deletable": true,
    "editable": true
   },
   "outputs": [],
   "source": [
    "def match_material(st, materials):\n",
    "    for w in st:\n",
    "        if w in materials:\n",
    "            return True\n",
    "    return False"
   ]
  },
  {
   "cell_type": "code",
   "execution_count": 43,
   "metadata": {
    "collapsed": true,
    "deletable": true,
    "editable": true
   },
   "outputs": [],
   "source": [
    "df['match_material'] = df.apply(lambda x: match_material(x['tokens_search_term'], x['material']), axis=1).astype(np.float)"
   ]
  },
  {
   "cell_type": "code",
   "execution_count": 44,
   "metadata": {
    "collapsed": false,
    "deletable": true,
    "editable": true
   },
   "outputs": [
    {
     "data": {
      "text/plain": [
       "13907.0"
      ]
     },
     "execution_count": 44,
     "metadata": {},
     "output_type": "execute_result"
    }
   ],
   "source": [
    "sum(df['match_material'])"
   ]
  },
  {
   "cell_type": "markdown",
   "metadata": {
    "deletable": true,
    "editable": true
   },
   "source": [
    "### Flag & Count & Ratio"
   ]
  },
  {
   "cell_type": "code",
   "execution_count": 64,
   "metadata": {
    "collapsed": false,
    "deletable": true,
    "editable": true
   },
   "outputs": [],
   "source": [
    "df['flag_st_in_pt'] = df.apply(lambda x: int(x['search_term'] in x['product_title']), axis=1)\n",
    "df['flag_st_in_pd'] = df.apply(lambda x: int(x['search_term'] in x['product_description']), axis=1)\n",
    "df['flag_st_in_br'] = df.apply(lambda x: int(x['search_term'] in x['brand']), axis=1)\n",
    "df['flag_st_in_bl'] = df.apply(lambda x: int(x['search_term'] in x['bullet']), axis=1)"
   ]
  },
  {
   "cell_type": "code",
   "execution_count": 65,
   "metadata": {
    "collapsed": false,
    "deletable": true,
    "editable": true
   },
   "outputs": [],
   "source": [
    "df['num_st_in_pt'] = \\\n",
    "    df.apply(lambda x: len(set(x['tokens_search_term']).intersection(set(x['tokens_product_title']))), axis=1)\n",
    "df['num_st_in_pd'] = \\\n",
    "    df.apply(lambda x: len(set(x['tokens_search_term']).intersection(set(x['tokens_product_description']))), axis=1)\n",
    "df['num_st_in_br'] = \\\n",
    "    df.apply(lambda x: len(set(x['tokens_search_term']).intersection(set(x['tokens_brand']))), axis=1)\n",
    "df['num_st_in_bl'] = \\\n",
    "    df.apply(lambda x: len(set(x['tokens_search_term']).intersection(set(x['tokens_bullet']))), axis=1)"
   ]
  },
  {
   "cell_type": "code",
   "execution_count": 66,
   "metadata": {
    "collapsed": false,
    "deletable": true,
    "editable": true
   },
   "outputs": [],
   "source": [
    "df['ratio_st_in_pt'] = \\\n",
    "    df.apply(lambda x: x['num_st_in_pt'] / float(x['len_search_term']), axis=1)\n",
    "df['ratio_st_in_pd'] = \\\n",
    "    df.apply(lambda x: x['num_st_in_pd'] / float(x['len_search_term']), axis=1)\n",
    "df['ratio_st_in_br'] = \\\n",
    "    df.apply(lambda x: x['num_st_in_br'] / float(x['len_search_term']), axis=1)\n",
    "df['ratio_st_in_bl'] = \\\n",
    "    df.apply(lambda x: x['num_st_in_bl'] / float(x['len_search_term']), axis=1)"
   ]
  },
  {
   "cell_type": "code",
   "execution_count": 75,
   "metadata": {
    "collapsed": true,
    "deletable": true,
    "editable": true
   },
   "outputs": [],
   "source": [
    "sns.set_palette(\"husl\")"
   ]
  },
  {
   "cell_type": "code",
   "execution_count": 76,
   "metadata": {
    "collapsed": false,
    "deletable": true,
    "editable": true,
    "scrolled": true
   },
   "outputs": [
    {
     "data": {
      "text/plain": [
       "<matplotlib.axes._subplots.AxesSubplot at 0x1a154240>"
      ]
     },
     "execution_count": 76,
     "metadata": {},
     "output_type": "execute_result"
    },
    {
     "data": {
      "image/png": "[encoded data removed]",
      "text/plain": [
       "<matplotlib.figure.Figure at 0x1a14c668>"
      ]
     },
     "metadata": {},
     "output_type": "display_data"
    }
   ],
   "source": [
    "sns.boxplot(x='relevance', y='ratio_st_in_pt', data=majoritize(df))"
   ]
  },
  {
   "cell_type": "code",
   "execution_count": 77,
   "metadata": {
    "collapsed": false,
    "deletable": true,
    "editable": true
   },
   "outputs": [
    {
     "data": {
      "text/plain": [
       "<matplotlib.axes._subplots.AxesSubplot at 0x1a46ffd0>"
      ]
     },
     "execution_count": 77,
     "metadata": {},
     "output_type": "execute_result"
    },
    {
     "data": {
      "image/png": "[encoded data removed]",
      "text/plain": [
       "<matplotlib.figure.Figure at 0x1a46f2b0>"
      ]
     },
     "metadata": {},
     "output_type": "display_data"
    }
   ],
   "source": [
    "sns.boxplot(x='relevance', y='ratio_st_in_pd', data=majoritize(df))"
   ]
  },
  {
   "cell_type": "code",
   "execution_count": 78,
   "metadata": {
    "collapsed": false,
    "deletable": true,
    "editable": true
   },
   "outputs": [
    {
     "data": {
      "text/plain": [
       "<matplotlib.axes._subplots.AxesSubplot at 0x1ab36b38>"
      ]
     },
     "execution_count": 78,
     "metadata": {},
     "output_type": "execute_result"
    },
    {
     "data": {
      "image/png": "[encoded data removed]",
      "text/plain": [
       "<matplotlib.figure.Figure at 0x1a46f320>"
      ]
     },
     "metadata": {},
     "output_type": "display_data"
    }
   ],
   "source": [
    "# not very useful\n",
    "sns.boxplot(x='relevance', y='ratio_st_in_br', data=majoritize(df))"
   ]
  },
  {
   "cell_type": "code",
   "execution_count": 79,
   "metadata": {
    "collapsed": false,
    "deletable": true,
    "editable": true
   },
   "outputs": [
    {
     "data": {
      "text/plain": [
       "<matplotlib.axes._subplots.AxesSubplot at 0x1b161dd8>"
      ]
     },
     "execution_count": 79,
     "metadata": {},
     "output_type": "execute_result"
    },
    {
     "data": {
      "image/png": "[encoded data removed]",
      "text/plain": [
       "<matplotlib.figure.Figure at 0x1b161128>"
      ]
     },
     "metadata": {},
     "output_type": "display_data"
    }
   ],
   "source": [
    "# not very useful\n",
    "sns.boxplot(x='relevance', y='ratio_st_in_bl', data=majoritize(df))"
   ]
  },
  {
   "cell_type": "markdown",
   "metadata": {
    "deletable": true,
    "editable": true
   },
   "source": [
    "### Positioned Word Matching"
   ]
  },
  {
   "cell_type": "code",
   "execution_count": 46,
   "metadata": {
    "collapsed": false,
    "deletable": true,
    "editable": true
   },
   "outputs": [
    {
     "data": {
      "text/plain": [
       "12"
      ]
     },
     "execution_count": 46,
     "metadata": {},
     "output_type": "execute_result"
    }
   ],
   "source": [
    "df['len_search_term'].max()"
   ]
  },
  {
   "cell_type": "code",
   "execution_count": 170,
   "metadata": {
    "collapsed": false,
    "deletable": true,
    "editable": true
   },
   "outputs": [],
   "source": [
    "def match_pos(row, col, pos):\n",
    "    if pos >= row['len_search_term'] or pos >= row['len_'+col]:\n",
    "        return 0\n",
    "    else:\n",
    "        return int(row['tokens_search_term'][pos] in row[col])"
   ]
  },
  {
   "cell_type": "code",
   "execution_count": 171,
   "metadata": {
    "collapsed": false,
    "deletable": true,
    "editable": true
   },
   "outputs": [],
   "source": [
    "for i in range(10):\n",
    "    df[str(i)+'th_word_in_pt'] = df.apply(lambda x: match_pos(x, 'product_title', i), axis=1)"
   ]
  },
  {
   "cell_type": "code",
   "execution_count": 172,
   "metadata": {
    "collapsed": true,
    "deletable": true,
    "editable": true
   },
   "outputs": [],
   "source": [
    "for i in range(10):\n",
    "    df[str(i)+'th_word_in_pd'] = df.apply(lambda x: match_pos(x, 'product_description', i), axis=1)"
   ]
  },
  {
   "cell_type": "code",
   "execution_count": 173,
   "metadata": {
    "collapsed": true,
    "deletable": true,
    "editable": true
   },
   "outputs": [],
   "source": [
    "for i in range(10):\n",
    "    df[str(i)+'th_word_in_bl'] = df.apply(lambda x: match_pos(x, 'bullet', i), axis=1)"
   ]
  },
  {
   "cell_type": "markdown",
   "metadata": {
    "deletable": true,
    "editable": true
   },
   "source": [
    "### Encode Brand Feature"
   ]
  },
  {
   "cell_type": "code",
   "execution_count": 80,
   "metadata": {
    "collapsed": true,
    "deletable": true,
    "editable": true
   },
   "outputs": [],
   "source": [
    "brands = pd.unique(df.brand.ravel())\n",
    "brand_encoder = {}\n",
    "index = 1000\n",
    "for brand in brands:\n",
    "    brand_encoder[brand] = index\n",
    "    index += 10\n",
    "brand_encoder['nobrand'] = 500\n",
    "df['brand_encoded'] = df['brand'].map(lambda x: brand_encoder.get(x, 500))"
   ]
  },
  {
   "cell_type": "code",
   "execution_count": 81,
   "metadata": {
    "collapsed": true,
    "deletable": true,
    "editable": true
   },
   "outputs": [],
   "source": [
    "pid_with_attr_material = pd.unique(df_material.product_uid.ravel())\n",
    "material_encoder = {}\n",
    "for pid in pid_with_attr_material:\n",
    "    material_encoder[pid] = 1\n",
    "df['flag_attr_has_material'] = df['product_uid'].map(lambda x: material_encoder.get(x, 0)).astype(np.float)"
   ]
  },
  {
   "cell_type": "code",
   "execution_count": 82,
   "metadata": {
    "collapsed": true,
    "deletable": true,
    "editable": true
   },
   "outputs": [],
   "source": [
    "pid_with_attr_color = pd.unique(df_color.product_uid.ravel())\n",
    "color_encoder = {}\n",
    "for pid in pid_with_attr_color:\n",
    "    color_encoder[pid] = 1\n",
    "df['flag_attr_has_color'] = df['product_uid'].map(lambda x: color_encoder.get(x, 0)).astype(np.float)"
   ]
  },
  {
   "cell_type": "markdown",
   "metadata": {
    "deletable": true,
    "editable": true
   },
   "source": [
    "### Encode Attributes Feature"
   ]
  },
  {
   "cell_type": "code",
   "execution_count": 83,
   "metadata": {
    "collapsed": true,
    "deletable": true,
    "editable": true
   },
   "outputs": [],
   "source": [
    "pids_with_attr = pd.unique(df_attr.product_uid.ravel())\n",
    "attr_encoder = {}\n",
    "for pid in pids_with_attr:\n",
    "    attr_encoder[pid] = 1\n",
    "df['flag_has_attr'] = df['product_uid'].map(lambda x: attr_encoder.get(x, 0)).astype(np.float)"
   ]
  },
  {
   "cell_type": "code",
   "execution_count": 85,
   "metadata": {
    "collapsed": false,
    "deletable": true,
    "editable": true
   },
   "outputs": [
    {
     "data": {
      "text/plain": [
       "<matplotlib.axes._subplots.AxesSubplot at 0x1bad6ba8>"
      ]
     },
     "execution_count": 85,
     "metadata": {},
     "output_type": "execute_result"
    },
    {
     "data": {
      "image/png": "[encoded data removed]",
      "text/plain": [
       "<matplotlib.figure.Figure at 0x1b7c82e8>"
      ]
     },
     "metadata": {},
     "output_type": "display_data"
    }
   ],
   "source": [
    "sns.boxplot(x='flag_has_attr', y='relevance', data=majoritize(df))"
   ]
  },
  {
   "cell_type": "markdown",
   "metadata": {
    "deletable": true,
    "editable": true
   },
   "source": [
    "## Distance Metrics"
   ]
  },
  {
   "cell_type": "markdown",
   "metadata": {
    "deletable": true,
    "editable": true
   },
   "source": [
    "### BOW"
   ]
  },
  {
   "cell_type": "code",
   "execution_count": 87,
   "metadata": {
    "collapsed": true,
    "deletable": true,
    "editable": true
   },
   "outputs": [],
   "source": [
    "from sklearn.feature_extraction.text import CountVectorizer"
   ]
  },
  {
   "cell_type": "code",
   "execution_count": 115,
   "metadata": {
    "collapsed": true,
    "deletable": true,
    "editable": true
   },
   "outputs": [],
   "source": [
    "cv = CountVectorizer(stop_words='english', max_features=1000)"
   ]
  },
  {
   "cell_type": "code",
   "execution_count": 116,
   "metadata": {
    "collapsed": false,
    "deletable": true,
    "editable": true
   },
   "outputs": [
    {
     "data": {
      "text/plain": [
       "CountVectorizer(analyzer='word', binary=False, decode_error='strict',\n",
       "        dtype=<class 'numpy.int64'>, encoding='utf-8', input='content',\n",
       "        lowercase=True, max_df=1.0, max_features=1000, min_df=1,\n",
       "        ngram_range=(1, 1), preprocessor=None, stop_words='english',\n",
       "        strip_accents=None, token_pattern='(?u)\\\\b\\\\w\\\\w+\\\\b',\n",
       "        tokenizer=None, vocabulary=None)"
      ]
     },
     "execution_count": 116,
     "metadata": {},
     "output_type": "execute_result"
    }
   ],
   "source": [
    "cv.fit(df['search_term'] + ' ' + df['product_title'] + ' ' + df['product_description'] + ' ' + df['bullet'])"
   ]
  },
  {
   "cell_type": "code",
   "execution_count": 122,
   "metadata": {
    "collapsed": true,
    "deletable": true,
    "editable": true
   },
   "outputs": [],
   "source": [
    "cv_of_st = cv.transform(df['search_term'])\n",
    "cv_of_pt = cv.transform(df['product_title'])\n",
    "cv_of_pd = cv.transform(df['product_description'])\n",
    "cv_of_bl = cv.transform(df['bullet'])"
   ]
  },
  {
   "cell_type": "markdown",
   "metadata": {
    "deletable": true,
    "editable": true
   },
   "source": [
    "### BOW based Cosine Similarity"
   ]
  },
  {
   "cell_type": "code",
   "execution_count": 101,
   "metadata": {
    "collapsed": true,
    "deletable": true,
    "editable": true
   },
   "outputs": [],
   "source": [
    "from sklearn.metrics.pairwise import cosine_similarity"
   ]
  },
  {
   "cell_type": "code",
   "execution_count": 129,
   "metadata": {
    "collapsed": true,
    "deletable": true,
    "editable": true
   },
   "outputs": [],
   "source": [
    "cv_cos_sim_st_pt = [cosine_similarity(cv_of_st[i], cv_of_pt[i])[0][0] for i in range(cv_of_st.shape[0])]\n",
    "cv_cos_sim_st_pd = [cosine_similarity(cv_of_st[i], cv_of_pd[i])[0][0] for i in range(cv_of_st.shape[0])]\n",
    "cv_cos_sim_st_bl = [cosine_similarity(cv_of_st[i], cv_of_bl[i])[0][0] for i in range(cv_of_st.shape[0])]"
   ]
  },
  {
   "cell_type": "code",
   "execution_count": 132,
   "metadata": {
    "collapsed": false,
    "deletable": true,
    "editable": true
   },
   "outputs": [],
   "source": [
    "df['cv_cos_sim_st_pt'] = cv_cos_sim_st_pt\n",
    "df['cv_cos_sim_st_pd'] = cv_cos_sim_st_pd\n",
    "df['cv_cos_sim_st_bl'] = cv_cos_sim_st_bl"
   ]
  },
  {
   "cell_type": "code",
   "execution_count": 128,
   "metadata": {
    "collapsed": false,
    "deletable": true,
    "editable": true
   },
   "outputs": [
    {
     "data": {
      "text/plain": [
       "<matplotlib.axes._subplots.AxesSubplot at 0x10bfccc88>"
      ]
     },
     "execution_count": 128,
     "metadata": {},
     "output_type": "execute_result"
    },
    {
     "data": {
      "image/png": "[encoded data removed]",
      "text/plain": [
       "<matplotlib.figure.Figure at 0x10be4aba8>"
      ]
     },
     "metadata": {},
     "output_type": "display_data"
    }
   ],
   "source": [
    "sns.boxplot(x='relevance', y='cv_cos_sim_st_pt', data=majoritize(df))"
   ]
  },
  {
   "cell_type": "code",
   "execution_count": 133,
   "metadata": {
    "collapsed": false,
    "deletable": true,
    "editable": true
   },
   "outputs": [
    {
     "data": {
      "text/plain": [
       "<matplotlib.axes._subplots.AxesSubplot at 0x10ce62748>"
      ]
     },
     "execution_count": 133,
     "metadata": {},
     "output_type": "execute_result"
    },
    {
     "data": {
      "image/png": "[encoded data removed]",
      "text/plain": [
       "<matplotlib.figure.Figure at 0x10ce77b00>"
      ]
     },
     "metadata": {},
     "output_type": "display_data"
    }
   ],
   "source": [
    "sns.boxplot(x='relevance', y='cv_cos_sim_st_pd', data=majoritize(df))"
   ]
  },
  {
   "cell_type": "code",
   "execution_count": 134,
   "metadata": {
    "collapsed": false,
    "deletable": true,
    "editable": true
   },
   "outputs": [
    {
     "data": {
      "text/plain": [
       "<matplotlib.axes._subplots.AxesSubplot at 0x111ed0550>"
      ]
     },
     "execution_count": 134,
     "metadata": {},
     "output_type": "execute_result"
    },
    {
     "data": {
      "image/png": "[encoded data removed]",
      "text/plain": [
       "<matplotlib.figure.Figure at 0x111ecc8d0>"
      ]
     },
     "metadata": {},
     "output_type": "display_data"
    }
   ],
   "source": [
    "sns.boxplot(x='relevance', y='cv_cos_sim_st_bl', data=majoritize(df))"
   ]
  },
  {
   "cell_type": "markdown",
   "metadata": {
    "deletable": true,
    "editable": true
   },
   "source": [
    "### TF-IDF"
   ]
  },
  {
   "cell_type": "code",
   "execution_count": 135,
   "metadata": {
    "collapsed": false,
    "deletable": true,
    "editable": true
   },
   "outputs": [],
   "source": [
    "from sklearn.feature_extraction.text import TfidfVectorizer"
   ]
  },
  {
   "cell_type": "code",
   "execution_count": 136,
   "metadata": {
    "collapsed": false,
    "deletable": true,
    "editable": true,
    "scrolled": true
   },
   "outputs": [
    {
     "data": {
      "text/plain": [
       "TfidfVectorizer(analyzer='word', binary=False, decode_error='strict',\n",
       "        dtype=<class 'numpy.int64'>, encoding='utf-8', input='content',\n",
       "        lowercase=True, max_df=1.0, max_features=1000, min_df=1,\n",
       "        ngram_range=(1, 3), norm='l2', preprocessor=None, smooth_idf=True,\n",
       "        stop_words='english', strip_accents=None, sublinear_tf=False,\n",
       "        token_pattern='(?u)\\\\b\\\\w\\\\w+\\\\b', tokenizer=None, use_idf=True,\n",
       "        vocabulary=None)"
      ]
     },
     "execution_count": 136,
     "metadata": {},
     "output_type": "execute_result"
    }
   ],
   "source": [
    "tiv = TfidfVectorizer(ngram_range=(1, 3), stop_words='english', max_features=1000)\n",
    "tiv.fit(df['search_term'] + ' ' + df['product_title'] + ' ' + df['product_description'] + ' ' + df['bullet'])"
   ]
  },
  {
   "cell_type": "code",
   "execution_count": 137,
   "metadata": {
    "collapsed": true,
    "deletable": true,
    "editable": true
   },
   "outputs": [],
   "source": [
    "tiv_of_st = tiv.transform(df['search_term'])\n",
    "tiv_of_pt = tiv.transform(df['product_title'])\n",
    "tiv_of_pd = tiv.transform(df['product_description'])\n",
    "tiv_of_bl = tiv.transform(df['bullet'])"
   ]
  },
  {
   "cell_type": "markdown",
   "metadata": {
    "deletable": true,
    "editable": true
   },
   "source": [
    "### TF-IDF based Cosine Similarity"
   ]
  },
  {
   "cell_type": "code",
   "execution_count": null,
   "metadata": {
    "collapsed": true,
    "deletable": true,
    "editable": true
   },
   "outputs": [],
   "source": [
    "tiv_cos_sim_st_pt = [cosine_similarity(tiv_of_st[i], tiv_of_pt[i])[0][0] for i in range(tiv_of_st.shape[0])]\n",
    "tiv_cos_sim_st_pd = [cosine_similarity(tiv_of_st[i], tiv_of_pd[i])[0][0] for i in range(tiv_of_st.shape[0])]\n",
    "tiv_cos_sim_st_bl = [cosine_similarity(tiv_of_st[i], tiv_of_bl[i])[0][0] for i in range(tiv_of_st.shape[0])]"
   ]
  },
  {
   "cell_type": "code",
   "execution_count": null,
   "metadata": {
    "collapsed": true,
    "deletable": true,
    "editable": true
   },
   "outputs": [],
   "source": [
    "df['tiv_cos_sim_st_pt'] = tiv_cos_sim_st_pt\n",
    "df['tiv_cos_sim_st_pd'] = tiv_cos_sim_st_pd\n",
    "df['tiv_cos_sim_st_bl'] = tiv_cos_sim_st_bl"
   ]
  },
  {
   "cell_type": "code",
   "execution_count": null,
   "metadata": {
    "collapsed": true,
    "deletable": true,
    "editable": true
   },
   "outputs": [],
   "source": [
    "sns.boxplot(x='relevance', y='tiv_cos_sim_st_pt', data=majoritize(df))"
   ]
  },
  {
   "cell_type": "code",
   "execution_count": null,
   "metadata": {
    "collapsed": true,
    "deletable": true,
    "editable": true
   },
   "outputs": [],
   "source": [
    "sns.boxplot(x='relevance', y='tiv_cos_sim_st_pd', data=majoritize(df))"
   ]
  },
  {
   "cell_type": "code",
   "execution_count": null,
   "metadata": {
    "collapsed": true,
    "deletable": true,
    "editable": true
   },
   "outputs": [],
   "source": [
    "sns.boxplot(x='relevance', y='tiv_cos_sim_st_bl', data=majoritize(df))"
   ]
  },
  {
   "cell_type": "markdown",
   "metadata": {
    "deletable": true,
    "editable": true
   },
   "source": [
    "### Jaccard Similarity"
   ]
  },
  {
   "cell_type": "code",
   "execution_count": 138,
   "metadata": {
    "collapsed": true,
    "deletable": true,
    "editable": true
   },
   "outputs": [],
   "source": [
    "def jaccard(A, B):\n",
    "    C = A.intersection(B)\n",
    "    return float(len(C)) / (len(A) + len(B) - len(C))"
   ]
  },
  {
   "cell_type": "code",
   "execution_count": 139,
   "metadata": {
    "collapsed": false,
    "deletable": true,
    "editable": true
   },
   "outputs": [],
   "source": [
    "df['jaccard_st_pt'] = df.apply(lambda x: jaccard(set(x['tokens_search_term']), set(x['tokens_product_title'])), axis=1)\n",
    "df['jaccard_st_pd'] = df.apply(lambda x: jaccard(set(x['tokens_search_term']), set(x['tokens_product_description'])), axis=1)    \n",
    "df['jaccard_st_br'] = df.apply(lambda x: jaccard(set(x['tokens_search_term']), set(x['tokens_brand'])), axis=1)\n",
    "df['jaccard_st_bl'] = df.apply(lambda x: jaccard(set(x['tokens_search_term']), set(x['tokens_bullet'])), axis=1)"
   ]
  },
  {
   "cell_type": "code",
   "execution_count": 140,
   "metadata": {
    "collapsed": false,
    "deletable": true,
    "editable": true
   },
   "outputs": [
    {
     "data": {
      "text/plain": [
       "<matplotlib.axes._subplots.AxesSubplot at 0x1954d6748>"
      ]
     },
     "execution_count": 140,
     "metadata": {},
     "output_type": "execute_result"
    },
    {
     "data": {
      "image/png": "[encoded data removed]",
      "text/plain": [
       "<matplotlib.figure.Figure at 0x1953d5748>"
      ]
     },
     "metadata": {},
     "output_type": "display_data"
    }
   ],
   "source": [
    "sns.boxplot(x='relevance', y='jaccard_st_pt', data=majoritize(df))"
   ]
  },
  {
   "cell_type": "code",
   "execution_count": 141,
   "metadata": {
    "collapsed": false,
    "deletable": true,
    "editable": true
   },
   "outputs": [
    {
     "data": {
      "text/plain": [
       "<matplotlib.axes._subplots.AxesSubplot at 0x14f953ef0>"
      ]
     },
     "execution_count": 141,
     "metadata": {},
     "output_type": "execute_result"
    },
    {
     "data": {
      "image/png": "[encoded data removed]",
      "text/plain": [
       "<matplotlib.figure.Figure at 0x14f953358>"
      ]
     },
     "metadata": {},
     "output_type": "display_data"
    }
   ],
   "source": [
    "sns.boxplot(x='relevance', y='jaccard_st_pd', data=majoritize(df))"
   ]
  },
  {
   "cell_type": "code",
   "execution_count": 142,
   "metadata": {
    "collapsed": false,
    "deletable": true,
    "editable": true
   },
   "outputs": [
    {
     "data": {
      "text/plain": [
       "<matplotlib.axes._subplots.AxesSubplot at 0x191a0dac8>"
      ]
     },
     "execution_count": 142,
     "metadata": {},
     "output_type": "execute_result"
    },
    {
     "data": {
      "image/png": "[encoded data removed]",
      "text/plain": [
       "<matplotlib.figure.Figure at 0x128f23f98>"
      ]
     },
     "metadata": {},
     "output_type": "display_data"
    }
   ],
   "source": [
    "sns.boxplot(x='relevance', y='jaccard_st_br', data=majoritize(df))"
   ]
  },
  {
   "cell_type": "code",
   "execution_count": 143,
   "metadata": {
    "collapsed": false,
    "deletable": true,
    "editable": true
   },
   "outputs": [
    {
     "data": {
      "text/plain": [
       "<matplotlib.axes._subplots.AxesSubplot at 0x160b02c50>"
      ]
     },
     "execution_count": 143,
     "metadata": {},
     "output_type": "execute_result"
    },
    {
     "data": {
      "image/png": "[encoded data removed]",
      "text/plain": [
       "<matplotlib.figure.Figure at 0x160b020f0>"
      ]
     },
     "metadata": {},
     "output_type": "display_data"
    }
   ],
   "source": [
    "sns.boxplot(x='relevance', y='jaccard_st_bl', data=majoritize(df))"
   ]
  },
  {
   "cell_type": "markdown",
   "metadata": {
    "deletable": true,
    "editable": true
   },
   "source": [
    "### Edit Distance"
   ]
  },
  {
   "cell_type": "code",
   "execution_count": 154,
   "metadata": {
    "collapsed": true,
    "deletable": true,
    "editable": true
   },
   "outputs": [],
   "source": [
    "from nltk.metrics import edit_distance"
   ]
  },
  {
   "cell_type": "code",
   "execution_count": 186,
   "metadata": {
    "collapsed": true,
    "deletable": true,
    "editable": true
   },
   "outputs": [],
   "source": [
    "def calc_edit_distance(row, col):\n",
    "    dists = [min([edit_distance(w, x) for x in row['tokens_'+col]]) for w in row['tokens_search_term']]\n",
    "    return (min(dists), sum(dists)) if dists "
   ]
  },
  {
   "cell_type": "code",
   "execution_count": 187,
   "metadata": {
    "collapsed": false,
    "deletable": true,
    "editable": true
   },
   "outputs": [],
   "source": [
    "df['edit_dist_st_pt_raw'] = df.apply(lambda x: calc_edit_distance(x, 'product_title'), axis=1)"
   ]
  },
  {
   "cell_type": "code",
   "execution_count": 189,
   "metadata": {
    "collapsed": true,
    "deletable": true,
    "editable": true
   },
   "outputs": [],
   "source": [
    "df['edit_dist_st_pt_min'] = df['edit_dist_st_pt_raw'].map(lambda x: x[0])\n",
    "df['edit_dist_st_pt_avg'] = df['edit_dist_st_pt_raw'].map(lambda x: x[1]) / df['len_search_term']"
   ]
  },
  {
   "cell_type": "code",
   "execution_count": 194,
   "metadata": {
    "collapsed": false,
    "deletable": true,
    "editable": true,
    "scrolled": true
   },
   "outputs": [
    {
     "data": {
      "text/plain": [
       "<matplotlib.axes._subplots.AxesSubplot at 0x163222cf8>"
      ]
     },
     "execution_count": 194,
     "metadata": {},
     "output_type": "execute_result"
    },
    {
     "data": {
      "image/png": "[encoded data removed]",
      "text/plain": [
       "<matplotlib.figure.Figure at 0x193f62518>"
      ]
     },
     "metadata": {},
     "output_type": "display_data"
    }
   ],
   "source": [
    "sns.boxplot(x='relevance', y='edit_dist_st_pt_avg', data=majoritize(df))"
   ]
  },
  {
   "cell_type": "code",
   "execution_count": null,
   "metadata": {
    "collapsed": true
   },
   "outputs": [],
   "source": [
    "df['edit_dist_st_pd_raw'] = df.apply(lambda x: calc_edit_distance(x, 'product_description'), axis=1)"
   ]
  },
  {
   "cell_type": "code",
   "execution_count": 214,
   "metadata": {
    "collapsed": true,
    "deletable": true,
    "editable": true
   },
   "outputs": [],
   "source": [
    "df['edit_dist_st_pd_min'] = df['edit_dist_st_pd_raw'].map(lambda x: x[0])\n",
    "df['edit_dist_st_pd_avg'] = df['edit_dist_st_pd_raw'].map(lambda x: x[1]) / df['len_search_term']"
   ]
  },
  {
   "cell_type": "code",
   "execution_count": 215,
   "metadata": {
    "collapsed": false,
    "deletable": true,
    "editable": true
   },
   "outputs": [
    {
     "data": {
      "text/plain": [
       "<matplotlib.axes._subplots.AxesSubplot at 0x171a6d6a0>"
      ]
     },
     "execution_count": 215,
     "metadata": {},
     "output_type": "execute_result"
    },
    {
     "data": {
      "image/png": "[encoded data removed]",
      "text/plain": [
       "<matplotlib.figure.Figure at 0x171a6df28>"
      ]
     },
     "metadata": {},
     "output_type": "display_data"
    }
   ],
   "source": [
    "sns.boxplot(x='relevance', y='edit_dist_st_pd_avg', data=majoritize(df))"
   ]
  },
  {
   "cell_type": "code",
   "execution_count": 216,
   "metadata": {
    "collapsed": true,
    "deletable": true,
    "editable": true
   },
   "outputs": [],
   "source": [
    "df.drop(['edit_dist_st_pt_raw', 'edit_dist_st_pd_raw'], axis=1, inplace=True)"
   ]
  },
  {
   "cell_type": "code",
   "execution_count": null,
   "metadata": {
    "collapsed": true,
    "deletable": true,
    "editable": true
   },
   "outputs": [],
   "source": [
    "# df['edit_dist_st_bl_raw'] = df.apply(lambda x: calc_edit_distance(x, 'bullet'), axis=1)\n",
    "# df['edit_dist_st_br_raw'] = df.apply(lambda x: calc_edit_distance(x, 'brand'), axis=1)\n",
    "# df['edit_dist_st_bl_min'] = df['edit_dist_st_bl_raw'].map(lambda x: x[0])\n",
    "# df['edit_dist_st_bl_avg'] = df['edit_dist_st_bl_raw'].map(lambda x: x[1]) / df['len_search_term']\n",
    "# df['edit_dist_st_br_min'] = df['edit_dist_st_br_raw'].map(lambda x: x[0])\n",
    "# df['edit_dist_st_br_avg'] = df['edit_dist_st_br_raw'].map(lambda x: x[1]) / df['len_search_term']"
   ]
  },
  {
   "cell_type": "markdown",
   "metadata": {
    "deletable": true,
    "editable": true
   },
   "source": [
    "## Latent Semantic Space"
   ]
  },
  {
   "cell_type": "markdown",
   "metadata": {
    "deletable": true,
    "editable": true
   },
   "source": [
    "By SVD-decomposing BOW / TF-IDF matrix, we obtain features that can be used to capture different query/product groups."
   ]
  },
  {
   "cell_type": "code",
   "execution_count": 144,
   "metadata": {
    "collapsed": true,
    "deletable": true,
    "editable": true
   },
   "outputs": [],
   "source": [
    "from sklearn.decomposition import TruncatedSVD"
   ]
  },
  {
   "cell_type": "code",
   "execution_count": 145,
   "metadata": {
    "collapsed": true,
    "deletable": true,
    "editable": true
   },
   "outputs": [],
   "source": [
    "tsvd = TruncatedSVD(n_components=10, random_state=2016)"
   ]
  },
  {
   "cell_type": "markdown",
   "metadata": {
    "deletable": true,
    "editable": true
   },
   "source": [
    "### tSVD for BOW"
   ]
  },
  {
   "cell_type": "code",
   "execution_count": 146,
   "metadata": {
    "collapsed": true,
    "deletable": true,
    "editable": true
   },
   "outputs": [],
   "source": [
    "st_bow_tsvd = tsvd.fit_transform(cv_of_st)\n",
    "for i in range(st_bow_tsvd.shape[1]):\n",
    "    df['st_bow_tsvd'+str(i)] = st_bow_tsvd[:,i]"
   ]
  },
  {
   "cell_type": "code",
   "execution_count": 147,
   "metadata": {
    "collapsed": true,
    "deletable": true,
    "editable": true
   },
   "outputs": [],
   "source": [
    "pt_bow_tsvd = tsvd.fit_transform(cv_of_pt)\n",
    "for i in range(pt_bow_tsvd.shape[1]):\n",
    "    df['pt_bow_tsvd'+str(i)] = pt_bow_tsvd[:,i]"
   ]
  },
  {
   "cell_type": "code",
   "execution_count": 148,
   "metadata": {
    "collapsed": true,
    "deletable": true,
    "editable": true
   },
   "outputs": [],
   "source": [
    "pd_bow_tsvd = tsvd.fit_transform(cv_of_pd)\n",
    "for i in range(pd_bow_tsvd.shape[1]):\n",
    "    df['pd_bow_tsvd'+str(i)] = pd_bow_tsvd[:,i]"
   ]
  },
  {
   "cell_type": "code",
   "execution_count": 149,
   "metadata": {
    "collapsed": true,
    "deletable": true,
    "editable": true
   },
   "outputs": [],
   "source": [
    "bl_bow_tsvd = tsvd.fit_transform(cv_of_bl)\n",
    "for i in range(bl_bow_tsvd.shape[1]):\n",
    "    df['bl_bow_tsvd'+str(i)] = bl_bow_tsvd[:,i]"
   ]
  },
  {
   "cell_type": "markdown",
   "metadata": {
    "deletable": true,
    "editable": true
   },
   "source": [
    "### tSVD for TF-IDF"
   ]
  },
  {
   "cell_type": "code",
   "execution_count": 150,
   "metadata": {
    "collapsed": false,
    "deletable": true,
    "editable": true
   },
   "outputs": [],
   "source": [
    "st_tfidf_tsvd = tsvd.fit_transform(tiv_of_st)\n",
    "for i in range(st_tfidf_tsvd.shape[1]):\n",
    "    df['st_tfidf_tsvd_'+str(i)] = st_tfidf_tsvd[:,i]"
   ]
  },
  {
   "cell_type": "code",
   "execution_count": 151,
   "metadata": {
    "collapsed": false,
    "deletable": true,
    "editable": true
   },
   "outputs": [],
   "source": [
    "pt_tfidf_tsvd = tsvd.fit_transform(tiv_of_pt)\n",
    "for i in range(pt_tfidf_tsvd.shape[1]):\n",
    "    df['pt_tfidf_tsvd_'+str(i)] = pt_tfidf_tsvd[:,i]"
   ]
  },
  {
   "cell_type": "code",
   "execution_count": 152,
   "metadata": {
    "collapsed": true,
    "deletable": true,
    "editable": true
   },
   "outputs": [],
   "source": [
    "pd_tfidf_tsvd = tsvd.fit_transform(tiv_of_pd)\n",
    "for i in range(pd_tfidf_tsvd.shape[1]):\n",
    "    df['pd_tfidf_tsvd_'+str(i)] = pd_tfidf_tsvd[:,i]"
   ]
  },
  {
   "cell_type": "code",
   "execution_count": 153,
   "metadata": {
    "collapsed": true,
    "deletable": true,
    "editable": true
   },
   "outputs": [],
   "source": [
    "bl_tfidf_tsvd = tsvd.fit_transform(tiv_of_bl)\n",
    "for i in range(bl_tfidf_tsvd.shape[1]):\n",
    "    df['bl_tfidf_tsvd_'+str(i)] = bl_tfidf_tsvd[:,i]"
   ]
  },
  {
   "cell_type": "markdown",
   "metadata": {
    "deletable": true,
    "editable": true
   },
   "source": [
    "## Append"
   ]
  },
  {
   "cell_type": "markdown",
   "metadata": {},
   "source": [
    "**This part is due to some mess I made. Just ignore it.**"
   ]
  },
  {
   "cell_type": "code",
   "execution_count": 156,
   "metadata": {
    "collapsed": true,
    "deletable": true,
    "editable": true
   },
   "outputs": [],
   "source": [
    "append = pd.read_csv('df_lev_dist_more_jaccard.csv', encoding='ISO-8859-1')"
   ]
  },
  {
   "cell_type": "code",
   "execution_count": 157,
   "metadata": {
    "collapsed": false,
    "deletable": true,
    "editable": true
   },
   "outputs": [],
   "source": [
    "cols_to_append = [\n",
    "    'query_in_title',\n",
    "    'query_in_description',\n",
    "    'query_last_word_in_title',\n",
    "    'query_last_word_in_description',\n",
    "    'word_in_title',\n",
    "    'word_in_description',\n",
    "    'word_in_brand',\n",
    "    'ratio_title',\n",
    "    'ratio_description',\n",
    "    'ratio_brand',\n",
    "    'lev_dist_to_product_title_min',\n",
    "    'lev_dist_to_product_title_max',\n",
    "    'lev_dist_to_product_title_sum',\n",
    "    'lev_dist_to_product_description_min',\n",
    "    'lev_dist_to_product_description_max',\n",
    "    'lev_dist_to_product_description_sum'\n",
    "]"
   ]
  },
  {
   "cell_type": "code",
   "execution_count": 158,
   "metadata": {
    "collapsed": true,
    "deletable": true,
    "editable": true
   },
   "outputs": [],
   "source": [
    "for x in cols_to_append:\n",
    "    df['old_'+x] = append[x]"
   ]
  },
  {
   "cell_type": "markdown",
   "metadata": {
    "deletable": true,
    "editable": true
   },
   "source": [
    "## Export"
   ]
  },
  {
   "cell_type": "code",
   "execution_count": 217,
   "metadata": {
    "collapsed": false,
    "deletable": true,
    "editable": true
   },
   "outputs": [
    {
     "name": "stdout",
     "output_type": "stream",
     "text": [
      "Number of Features:  172\n"
     ]
    }
   ],
   "source": [
    "cols_to_drop = [\n",
    "    #'product_uid',\n",
    "    'search_term',\n",
    "    'product_title',\n",
    "    'product_description',\n",
    "    'brand',\n",
    "    'bullet',\n",
    "    'color',\n",
    "    'material',    \n",
    "    'tokens_search_term',\n",
    "    'tokens_product_title',\n",
    "    'tokens_product_description',\n",
    "    'tokens_brand',\n",
    "    'tokens_bullet',\n",
    "    'majority_relevance'\n",
    "]\n",
    "export_df = df.drop(cols_to_drop, axis=1)\n",
    "print('Number of Features: ', len(export_df.columns.tolist()) - 2)"
   ]
  },
  {
   "cell_type": "code",
   "execution_count": 218,
   "metadata": {
    "collapsed": false,
    "deletable": true,
    "editable": true
   },
   "outputs": [
    {
     "data": {
      "text/html": [
       "<div>\n",
       "<table border=\"1\" class=\"dataframe\">\n",
       "  <thead>\n",
       "    <tr style=\"text-align: right;\">\n",
       "      <th></th>\n",
       "      <th>id</th>\n",
       "      <th>product_uid</th>\n",
       "      <th>relevance</th>\n",
       "      <th>bullet_count</th>\n",
       "      <th>flag_commercial</th>\n",
       "      <th>flag_residential</th>\n",
       "      <th>flag_indoor</th>\n",
       "      <th>flag_outdoor</th>\n",
       "      <th>flag_estar</th>\n",
       "      <th>match_commercial</th>\n",
       "      <th>match_residential</th>\n",
       "      <th>match_estar</th>\n",
       "      <th>match_indoor</th>\n",
       "      <th>match_outdoor</th>\n",
       "      <th>match_color</th>\n",
       "      <th>match_material</th>\n",
       "      <th>len_search_term</th>\n",
       "      <th>len_product_title</th>\n",
       "      <th>len_product_description</th>\n",
       "      <th>len_brand</th>\n",
       "      <th>len_bullet</th>\n",
       "      <th>0th_word_in_pd</th>\n",
       "      <th>1th_word_in_pd</th>\n",
       "      <th>2th_word_in_pd</th>\n",
       "      <th>3th_word_in_pd</th>\n",
       "      <th>4th_word_in_pd</th>\n",
       "      <th>5th_word_in_pd</th>\n",
       "      <th>6th_word_in_pd</th>\n",
       "      <th>7th_word_in_pd</th>\n",
       "      <th>8th_word_in_pd</th>\n",
       "      <th>9th_word_in_pd</th>\n",
       "      <th>0th_word_in_bl</th>\n",
       "      <th>1th_word_in_bl</th>\n",
       "      <th>2th_word_in_bl</th>\n",
       "      <th>3th_word_in_bl</th>\n",
       "      <th>4th_word_in_bl</th>\n",
       "      <th>5th_word_in_bl</th>\n",
       "      <th>6th_word_in_bl</th>\n",
       "      <th>7th_word_in_bl</th>\n",
       "      <th>8th_word_in_bl</th>\n",
       "      <th>9th_word_in_bl</th>\n",
       "      <th>0th_word_in_pt</th>\n",
       "      <th>1th_word_in_pt</th>\n",
       "      <th>2th_word_in_pt</th>\n",
       "      <th>3th_word_in_pt</th>\n",
       "      <th>4th_word_in_pt</th>\n",
       "      <th>5th_word_in_pt</th>\n",
       "      <th>6th_word_in_pt</th>\n",
       "      <th>7th_word_in_pt</th>\n",
       "      <th>8th_word_in_pt</th>\n",
       "      <th>9th_word_in_pt</th>\n",
       "      <th>flag_st_in_pt</th>\n",
       "      <th>flag_st_in_pd</th>\n",
       "      <th>flag_st_in_br</th>\n",
       "      <th>flag_st_in_bl</th>\n",
       "      <th>num_st_in_pt</th>\n",
       "      <th>num_st_in_pd</th>\n",
       "      <th>num_st_in_br</th>\n",
       "      <th>num_st_in_bl</th>\n",
       "      <th>ratio_st_in_pt</th>\n",
       "      <th>ratio_st_in_pd</th>\n",
       "      <th>ratio_st_in_br</th>\n",
       "      <th>ratio_st_in_bl</th>\n",
       "      <th>brand_encoded</th>\n",
       "      <th>flag_attr_has_material</th>\n",
       "      <th>flag_attr_has_color</th>\n",
       "      <th>flag_has_attr</th>\n",
       "      <th>cv_cos_sim_st_pt</th>\n",
       "      <th>cv_cos_sim_st_pd</th>\n",
       "      <th>cv_cos_sim_st_bl</th>\n",
       "      <th>jaccard_st_pt</th>\n",
       "      <th>jaccard_st_pd</th>\n",
       "      <th>jaccard_st_br</th>\n",
       "      <th>jaccard_st_bl</th>\n",
       "      <th>st_bow_tsvd0</th>\n",
       "      <th>st_bow_tsvd1</th>\n",
       "      <th>st_bow_tsvd2</th>\n",
       "      <th>st_bow_tsvd3</th>\n",
       "      <th>st_bow_tsvd4</th>\n",
       "      <th>st_bow_tsvd5</th>\n",
       "      <th>st_bow_tsvd6</th>\n",
       "      <th>st_bow_tsvd7</th>\n",
       "      <th>st_bow_tsvd8</th>\n",
       "      <th>st_bow_tsvd9</th>\n",
       "      <th>pt_bow_tsvd0</th>\n",
       "      <th>pt_bow_tsvd1</th>\n",
       "      <th>pt_bow_tsvd2</th>\n",
       "      <th>pt_bow_tsvd3</th>\n",
       "      <th>pt_bow_tsvd4</th>\n",
       "      <th>pt_bow_tsvd5</th>\n",
       "      <th>pt_bow_tsvd6</th>\n",
       "      <th>pt_bow_tsvd7</th>\n",
       "      <th>pt_bow_tsvd8</th>\n",
       "      <th>pt_bow_tsvd9</th>\n",
       "      <th>pd_bow_tsvd0</th>\n",
       "      <th>pd_bow_tsvd1</th>\n",
       "      <th>pd_bow_tsvd2</th>\n",
       "      <th>pd_bow_tsvd3</th>\n",
       "      <th>pd_bow_tsvd4</th>\n",
       "      <th>pd_bow_tsvd5</th>\n",
       "      <th>pd_bow_tsvd6</th>\n",
       "      <th>pd_bow_tsvd7</th>\n",
       "      <th>pd_bow_tsvd8</th>\n",
       "      <th>pd_bow_tsvd9</th>\n",
       "      <th>bl_bow_tsvd0</th>\n",
       "      <th>bl_bow_tsvd1</th>\n",
       "      <th>bl_bow_tsvd2</th>\n",
       "      <th>bl_bow_tsvd3</th>\n",
       "      <th>bl_bow_tsvd4</th>\n",
       "      <th>bl_bow_tsvd5</th>\n",
       "      <th>bl_bow_tsvd6</th>\n",
       "      <th>bl_bow_tsvd7</th>\n",
       "      <th>bl_bow_tsvd8</th>\n",
       "      <th>bl_bow_tsvd9</th>\n",
       "      <th>st_tfidf_tsvd_0</th>\n",
       "      <th>st_tfidf_tsvd_1</th>\n",
       "      <th>st_tfidf_tsvd_2</th>\n",
       "      <th>st_tfidf_tsvd_3</th>\n",
       "      <th>st_tfidf_tsvd_4</th>\n",
       "      <th>st_tfidf_tsvd_5</th>\n",
       "      <th>st_tfidf_tsvd_6</th>\n",
       "      <th>st_tfidf_tsvd_7</th>\n",
       "      <th>st_tfidf_tsvd_8</th>\n",
       "      <th>st_tfidf_tsvd_9</th>\n",
       "      <th>pt_tfidf_tsvd_0</th>\n",
       "      <th>pt_tfidf_tsvd_1</th>\n",
       "      <th>pt_tfidf_tsvd_2</th>\n",
       "      <th>pt_tfidf_tsvd_3</th>\n",
       "      <th>pt_tfidf_tsvd_4</th>\n",
       "      <th>pt_tfidf_tsvd_5</th>\n",
       "      <th>pt_tfidf_tsvd_6</th>\n",
       "      <th>pt_tfidf_tsvd_7</th>\n",
       "      <th>pt_tfidf_tsvd_8</th>\n",
       "      <th>pt_tfidf_tsvd_9</th>\n",
       "      <th>pd_tfidf_tsvd_0</th>\n",
       "      <th>pd_tfidf_tsvd_1</th>\n",
       "      <th>pd_tfidf_tsvd_2</th>\n",
       "      <th>pd_tfidf_tsvd_3</th>\n",
       "      <th>pd_tfidf_tsvd_4</th>\n",
       "      <th>pd_tfidf_tsvd_5</th>\n",
       "      <th>pd_tfidf_tsvd_6</th>\n",
       "      <th>pd_tfidf_tsvd_7</th>\n",
       "      <th>pd_tfidf_tsvd_8</th>\n",
       "      <th>pd_tfidf_tsvd_9</th>\n",
       "      <th>bl_tfidf_tsvd_0</th>\n",
       "      <th>bl_tfidf_tsvd_1</th>\n",
       "      <th>bl_tfidf_tsvd_2</th>\n",
       "      <th>bl_tfidf_tsvd_3</th>\n",
       "      <th>bl_tfidf_tsvd_4</th>\n",
       "      <th>bl_tfidf_tsvd_5</th>\n",
       "      <th>bl_tfidf_tsvd_6</th>\n",
       "      <th>bl_tfidf_tsvd_7</th>\n",
       "      <th>bl_tfidf_tsvd_8</th>\n",
       "      <th>bl_tfidf_tsvd_9</th>\n",
       "      <th>old_query_in_title</th>\n",
       "      <th>old_query_in_description</th>\n",
       "      <th>old_query_last_word_in_title</th>\n",
       "      <th>old_query_last_word_in_description</th>\n",
       "      <th>old_word_in_title</th>\n",
       "      <th>old_word_in_description</th>\n",
       "      <th>old_word_in_brand</th>\n",
       "      <th>old_ratio_title</th>\n",
       "      <th>old_ratio_description</th>\n",
       "      <th>old_ratio_brand</th>\n",
       "      <th>old_lev_dist_to_product_title_min</th>\n",
       "      <th>old_lev_dist_to_product_title_max</th>\n",
       "      <th>old_lev_dist_to_product_title_sum</th>\n",
       "      <th>old_lev_dist_to_product_description_min</th>\n",
       "      <th>old_lev_dist_to_product_description_max</th>\n",
       "      <th>old_lev_dist_to_product_description_sum</th>\n",
       "      <th>edit_dist_st_pt_min</th>\n",
       "      <th>edit_dist_st_pt_avg</th>\n",
       "      <th>edit_dist_st_pd_min</th>\n",
       "      <th>edit_dist_st_pd_avg</th>\n",
       "    </tr>\n",
       "  </thead>\n",
       "  <tbody>\n",
       "    <tr>\n",
       "      <th>0</th>\n",
       "      <td>2</td>\n",
       "      <td>100001</td>\n",
       "      <td>3.0</td>\n",
       "      <td>7</td>\n",
       "      <td>-1</td>\n",
       "      <td>-1</td>\n",
       "      <td>-1</td>\n",
       "      <td>-1</td>\n",
       "      <td>-1</td>\n",
       "      <td>0</td>\n",
       "      <td>0</td>\n",
       "      <td>0</td>\n",
       "      <td>0</td>\n",
       "      <td>0</td>\n",
       "      <td>0</td>\n",
       "      <td>0</td>\n",
       "      <td>2</td>\n",
       "      <td>6</td>\n",
       "      <td>135</td>\n",
       "      <td>3</td>\n",
       "      <td>58</td>\n",
       "      <td>1</td>\n",
       "      <td>0</td>\n",
       "      <td>0</td>\n",
       "      <td>0</td>\n",
       "      <td>0</td>\n",
       "      <td>0</td>\n",
       "      <td>0</td>\n",
       "      <td>0</td>\n",
       "      <td>0</td>\n",
       "      <td>0</td>\n",
       "      <td>1</td>\n",
       "      <td>0</td>\n",
       "      <td>0</td>\n",
       "      <td>0</td>\n",
       "      <td>0</td>\n",
       "      <td>0</td>\n",
       "      <td>0</td>\n",
       "      <td>0</td>\n",
       "      <td>0</td>\n",
       "      <td>0</td>\n",
       "      <td>1</td>\n",
       "      <td>0</td>\n",
       "      <td>0</td>\n",
       "      <td>0</td>\n",
       "      <td>0</td>\n",
       "      <td>0</td>\n",
       "      <td>0</td>\n",
       "      <td>0</td>\n",
       "      <td>0</td>\n",
       "      <td>0</td>\n",
       "      <td>0</td>\n",
       "      <td>0</td>\n",
       "      <td>0</td>\n",
       "      <td>0</td>\n",
       "      <td>1</td>\n",
       "      <td>1</td>\n",
       "      <td>0</td>\n",
       "      <td>1</td>\n",
       "      <td>0.5</td>\n",
       "      <td>0.5</td>\n",
       "      <td>0</td>\n",
       "      <td>0.5</td>\n",
       "      <td>1000</td>\n",
       "      <td>1</td>\n",
       "      <td>0</td>\n",
       "      <td>1</td>\n",
       "      <td>0.316228</td>\n",
       "      <td>0.197814</td>\n",
       "      <td>0.096225</td>\n",
       "      <td>0.142857</td>\n",
       "      <td>0.010101</td>\n",
       "      <td>0</td>\n",
       "      <td>0.020833</td>\n",
       "      <td>0.003626</td>\n",
       "      <td>0.004019</td>\n",
       "      <td>0.000797</td>\n",
       "      <td>0.006102</td>\n",
       "      <td>0.008658</td>\n",
       "      <td>-0.000548</td>\n",
       "      <td>0.006355</td>\n",
       "      <td>-0.002796</td>\n",
       "      <td>0.007951</td>\n",
       "      <td>0.005769</td>\n",
       "      <td>0.045605</td>\n",
       "      <td>0.024936</td>\n",
       "      <td>0.026892</td>\n",
       "      <td>0.028064</td>\n",
       "      <td>0.049714</td>\n",
       "      <td>0.092839</td>\n",
       "      <td>-0.078192</td>\n",
       "      <td>-0.067007</td>\n",
       "      <td>0.050241</td>\n",
       "      <td>0.049224</td>\n",
       "      <td>3.313323</td>\n",
       "      <td>-1.080023</td>\n",
       "      <td>0.246664</td>\n",
       "      <td>0.035078</td>\n",
       "      <td>1.213365</td>\n",
       "      <td>0.344366</td>\n",
       "      <td>-0.339457</td>\n",
       "      <td>-0.778180</td>\n",
       "      <td>1.311161</td>\n",
       "      <td>-0.855836</td>\n",
       "      <td>2.016449</td>\n",
       "      <td>-0.805119</td>\n",
       "      <td>1.716349</td>\n",
       "      <td>-0.538509</td>\n",
       "      <td>1.614636</td>\n",
       "      <td>0.482738</td>\n",
       "      <td>0.415191</td>\n",
       "      <td>-0.226891</td>\n",
       "      <td>-0.103242</td>\n",
       "      <td>-0.652989</td>\n",
       "      <td>0.003235</td>\n",
       "      <td>0.001598</td>\n",
       "      <td>0.004377</td>\n",
       "      <td>0.004809</td>\n",
       "      <td>0.003127</td>\n",
       "      <td>0.001640</td>\n",
       "      <td>-0.000262</td>\n",
       "      <td>0.010862</td>\n",
       "      <td>0.003171</td>\n",
       "      <td>-0.000317</td>\n",
       "      <td>0.040224</td>\n",
       "      <td>-0.002031</td>\n",
       "      <td>-0.002297</td>\n",
       "      <td>-0.031202</td>\n",
       "      <td>0.025376</td>\n",
       "      <td>0.031313</td>\n",
       "      <td>0.013203</td>\n",
       "      <td>0.000737</td>\n",
       "      <td>-0.007120</td>\n",
       "      <td>0.007481</td>\n",
       "      <td>0.224923</td>\n",
       "      <td>-0.004951</td>\n",
       "      <td>0.010509</td>\n",
       "      <td>-0.007065</td>\n",
       "      <td>-0.100198</td>\n",
       "      <td>-0.059775</td>\n",
       "      <td>-0.120487</td>\n",
       "      <td>-0.041719</td>\n",
       "      <td>0.115705</td>\n",
       "      <td>-0.026294</td>\n",
       "      <td>0.190741</td>\n",
       "      <td>-0.004078</td>\n",
       "      <td>0.002348</td>\n",
       "      <td>-0.025698</td>\n",
       "      <td>-0.087801</td>\n",
       "      <td>0.007791</td>\n",
       "      <td>-0.176249</td>\n",
       "      <td>-0.059840</td>\n",
       "      <td>0.028053</td>\n",
       "      <td>-0.022842</td>\n",
       "      <td>0</td>\n",
       "      <td>0</td>\n",
       "      <td>0</td>\n",
       "      <td>0</td>\n",
       "      <td>1</td>\n",
       "      <td>1</td>\n",
       "      <td>0</td>\n",
       "      <td>0.5</td>\n",
       "      <td>0.5</td>\n",
       "      <td>0.00</td>\n",
       "      <td>3</td>\n",
       "      <td>7</td>\n",
       "      <td>63</td>\n",
       "      <td>3</td>\n",
       "      <td>16</td>\n",
       "      <td>321</td>\n",
       "      <td>0</td>\n",
       "      <td>3.0</td>\n",
       "      <td>0</td>\n",
       "      <td>2.0</td>\n",
       "    </tr>\n",
       "    <tr>\n",
       "      <th>1</th>\n",
       "      <td>3</td>\n",
       "      <td>100001</td>\n",
       "      <td>2.5</td>\n",
       "      <td>7</td>\n",
       "      <td>-1</td>\n",
       "      <td>-1</td>\n",
       "      <td>-1</td>\n",
       "      <td>-1</td>\n",
       "      <td>-1</td>\n",
       "      <td>0</td>\n",
       "      <td>0</td>\n",
       "      <td>0</td>\n",
       "      <td>0</td>\n",
       "      <td>0</td>\n",
       "      <td>0</td>\n",
       "      <td>1</td>\n",
       "      <td>2</td>\n",
       "      <td>6</td>\n",
       "      <td>135</td>\n",
       "      <td>3</td>\n",
       "      <td>58</td>\n",
       "      <td>1</td>\n",
       "      <td>0</td>\n",
       "      <td>0</td>\n",
       "      <td>0</td>\n",
       "      <td>0</td>\n",
       "      <td>0</td>\n",
       "      <td>0</td>\n",
       "      <td>0</td>\n",
       "      <td>0</td>\n",
       "      <td>0</td>\n",
       "      <td>1</td>\n",
       "      <td>0</td>\n",
       "      <td>0</td>\n",
       "      <td>0</td>\n",
       "      <td>0</td>\n",
       "      <td>0</td>\n",
       "      <td>0</td>\n",
       "      <td>0</td>\n",
       "      <td>0</td>\n",
       "      <td>0</td>\n",
       "      <td>1</td>\n",
       "      <td>0</td>\n",
       "      <td>0</td>\n",
       "      <td>0</td>\n",
       "      <td>0</td>\n",
       "      <td>0</td>\n",
       "      <td>0</td>\n",
       "      <td>0</td>\n",
       "      <td>0</td>\n",
       "      <td>0</td>\n",
       "      <td>0</td>\n",
       "      <td>0</td>\n",
       "      <td>0</td>\n",
       "      <td>0</td>\n",
       "      <td>0</td>\n",
       "      <td>0</td>\n",
       "      <td>0</td>\n",
       "      <td>0</td>\n",
       "      <td>0.0</td>\n",
       "      <td>0.0</td>\n",
       "      <td>0</td>\n",
       "      <td>0.0</td>\n",
       "      <td>1000</td>\n",
       "      <td>1</td>\n",
       "      <td>0</td>\n",
       "      <td>1</td>\n",
       "      <td>0.000000</td>\n",
       "      <td>0.000000</td>\n",
       "      <td>0.000000</td>\n",
       "      <td>0.000000</td>\n",
       "      <td>0.000000</td>\n",
       "      <td>0</td>\n",
       "      <td>0.000000</td>\n",
       "      <td>0.001644</td>\n",
       "      <td>0.001633</td>\n",
       "      <td>0.001574</td>\n",
       "      <td>0.003842</td>\n",
       "      <td>0.002912</td>\n",
       "      <td>0.001569</td>\n",
       "      <td>0.005649</td>\n",
       "      <td>-0.003359</td>\n",
       "      <td>0.003245</td>\n",
       "      <td>0.004215</td>\n",
       "      <td>0.045605</td>\n",
       "      <td>0.024936</td>\n",
       "      <td>0.026892</td>\n",
       "      <td>0.028064</td>\n",
       "      <td>0.049714</td>\n",
       "      <td>0.092839</td>\n",
       "      <td>-0.078192</td>\n",
       "      <td>-0.067007</td>\n",
       "      <td>0.050241</td>\n",
       "      <td>0.049224</td>\n",
       "      <td>3.313323</td>\n",
       "      <td>-1.080023</td>\n",
       "      <td>0.246664</td>\n",
       "      <td>0.035078</td>\n",
       "      <td>1.213365</td>\n",
       "      <td>0.344366</td>\n",
       "      <td>-0.339456</td>\n",
       "      <td>-0.778180</td>\n",
       "      <td>1.311161</td>\n",
       "      <td>-0.855836</td>\n",
       "      <td>2.016449</td>\n",
       "      <td>-0.805119</td>\n",
       "      <td>1.716349</td>\n",
       "      <td>-0.538509</td>\n",
       "      <td>1.614636</td>\n",
       "      <td>0.482739</td>\n",
       "      <td>0.415191</td>\n",
       "      <td>-0.226891</td>\n",
       "      <td>-0.103242</td>\n",
       "      <td>-0.652989</td>\n",
       "      <td>0.001812</td>\n",
       "      <td>0.002332</td>\n",
       "      <td>0.003688</td>\n",
       "      <td>0.001637</td>\n",
       "      <td>0.004279</td>\n",
       "      <td>0.001851</td>\n",
       "      <td>0.000037</td>\n",
       "      <td>0.011753</td>\n",
       "      <td>0.004452</td>\n",
       "      <td>-0.000231</td>\n",
       "      <td>0.040224</td>\n",
       "      <td>-0.002031</td>\n",
       "      <td>-0.002297</td>\n",
       "      <td>-0.031202</td>\n",
       "      <td>0.025376</td>\n",
       "      <td>0.031313</td>\n",
       "      <td>0.013203</td>\n",
       "      <td>0.000737</td>\n",
       "      <td>-0.007120</td>\n",
       "      <td>0.007481</td>\n",
       "      <td>0.224923</td>\n",
       "      <td>-0.004951</td>\n",
       "      <td>0.010509</td>\n",
       "      <td>-0.007065</td>\n",
       "      <td>-0.100198</td>\n",
       "      <td>-0.059775</td>\n",
       "      <td>-0.120487</td>\n",
       "      <td>-0.041719</td>\n",
       "      <td>0.115705</td>\n",
       "      <td>-0.026294</td>\n",
       "      <td>0.190741</td>\n",
       "      <td>-0.004078</td>\n",
       "      <td>0.002348</td>\n",
       "      <td>-0.025698</td>\n",
       "      <td>-0.087801</td>\n",
       "      <td>0.007791</td>\n",
       "      <td>-0.176249</td>\n",
       "      <td>-0.059840</td>\n",
       "      <td>0.028053</td>\n",
       "      <td>-0.022842</td>\n",
       "      <td>0</td>\n",
       "      <td>0</td>\n",
       "      <td>0</td>\n",
       "      <td>0</td>\n",
       "      <td>1</td>\n",
       "      <td>1</td>\n",
       "      <td>0</td>\n",
       "      <td>0.5</td>\n",
       "      <td>0.5</td>\n",
       "      <td>0.00</td>\n",
       "      <td>3</td>\n",
       "      <td>7</td>\n",
       "      <td>67</td>\n",
       "      <td>3</td>\n",
       "      <td>18</td>\n",
       "      <td>337</td>\n",
       "      <td>2</td>\n",
       "      <td>4.0</td>\n",
       "      <td>1</td>\n",
       "      <td>2.5</td>\n",
       "    </tr>\n",
       "    <tr>\n",
       "      <th>2</th>\n",
       "      <td>9</td>\n",
       "      <td>100002</td>\n",
       "      <td>3.0</td>\n",
       "      <td>10</td>\n",
       "      <td>-1</td>\n",
       "      <td>-1</td>\n",
       "      <td>-1</td>\n",
       "      <td>-1</td>\n",
       "      <td>-1</td>\n",
       "      <td>0</td>\n",
       "      <td>0</td>\n",
       "      <td>0</td>\n",
       "      <td>0</td>\n",
       "      <td>0</td>\n",
       "      <td>0</td>\n",
       "      <td>0</td>\n",
       "      <td>2</td>\n",
       "      <td>12</td>\n",
       "      <td>169</td>\n",
       "      <td>4</td>\n",
       "      <td>109</td>\n",
       "      <td>1</td>\n",
       "      <td>0</td>\n",
       "      <td>0</td>\n",
       "      <td>0</td>\n",
       "      <td>0</td>\n",
       "      <td>0</td>\n",
       "      <td>0</td>\n",
       "      <td>0</td>\n",
       "      <td>0</td>\n",
       "      <td>0</td>\n",
       "      <td>1</td>\n",
       "      <td>1</td>\n",
       "      <td>0</td>\n",
       "      <td>0</td>\n",
       "      <td>0</td>\n",
       "      <td>0</td>\n",
       "      <td>0</td>\n",
       "      <td>0</td>\n",
       "      <td>0</td>\n",
       "      <td>0</td>\n",
       "      <td>1</td>\n",
       "      <td>0</td>\n",
       "      <td>0</td>\n",
       "      <td>0</td>\n",
       "      <td>0</td>\n",
       "      <td>0</td>\n",
       "      <td>0</td>\n",
       "      <td>0</td>\n",
       "      <td>0</td>\n",
       "      <td>0</td>\n",
       "      <td>0</td>\n",
       "      <td>0</td>\n",
       "      <td>0</td>\n",
       "      <td>0</td>\n",
       "      <td>0</td>\n",
       "      <td>1</td>\n",
       "      <td>0</td>\n",
       "      <td>1</td>\n",
       "      <td>0.0</td>\n",
       "      <td>0.5</td>\n",
       "      <td>0</td>\n",
       "      <td>0.5</td>\n",
       "      <td>1010</td>\n",
       "      <td>0</td>\n",
       "      <td>1</td>\n",
       "      <td>1</td>\n",
       "      <td>0.000000</td>\n",
       "      <td>0.243332</td>\n",
       "      <td>0.212000</td>\n",
       "      <td>0.000000</td>\n",
       "      <td>0.008621</td>\n",
       "      <td>0</td>\n",
       "      <td>0.012048</td>\n",
       "      <td>0.006960</td>\n",
       "      <td>0.000900</td>\n",
       "      <td>0.005602</td>\n",
       "      <td>0.005818</td>\n",
       "      <td>-0.000712</td>\n",
       "      <td>0.003775</td>\n",
       "      <td>-0.004111</td>\n",
       "      <td>0.010913</td>\n",
       "      <td>0.014781</td>\n",
       "      <td>-0.027090</td>\n",
       "      <td>0.052576</td>\n",
       "      <td>0.029210</td>\n",
       "      <td>0.058717</td>\n",
       "      <td>-0.054237</td>\n",
       "      <td>0.038212</td>\n",
       "      <td>0.104605</td>\n",
       "      <td>0.018579</td>\n",
       "      <td>-0.144403</td>\n",
       "      <td>-0.038084</td>\n",
       "      <td>0.025078</td>\n",
       "      <td>3.088265</td>\n",
       "      <td>-0.928897</td>\n",
       "      <td>-0.779630</td>\n",
       "      <td>-0.235617</td>\n",
       "      <td>1.022412</td>\n",
       "      <td>-6.070258</td>\n",
       "      <td>-0.177288</td>\n",
       "      <td>1.629826</td>\n",
       "      <td>1.669294</td>\n",
       "      <td>1.009680</td>\n",
       "      <td>2.418942</td>\n",
       "      <td>-0.412886</td>\n",
       "      <td>1.744545</td>\n",
       "      <td>-1.499353</td>\n",
       "      <td>-3.124326</td>\n",
       "      <td>-3.041471</td>\n",
       "      <td>2.646309</td>\n",
       "      <td>1.225488</td>\n",
       "      <td>0.994887</td>\n",
       "      <td>2.065224</td>\n",
       "      <td>0.001645</td>\n",
       "      <td>0.004407</td>\n",
       "      <td>0.006753</td>\n",
       "      <td>-0.001348</td>\n",
       "      <td>0.007957</td>\n",
       "      <td>0.000271</td>\n",
       "      <td>-0.005846</td>\n",
       "      <td>0.015219</td>\n",
       "      <td>0.042325</td>\n",
       "      <td>0.009750</td>\n",
       "      <td>0.046026</td>\n",
       "      <td>-0.003515</td>\n",
       "      <td>0.005800</td>\n",
       "      <td>-0.003947</td>\n",
       "      <td>-0.017649</td>\n",
       "      <td>0.021120</td>\n",
       "      <td>0.043252</td>\n",
       "      <td>0.012502</td>\n",
       "      <td>0.010272</td>\n",
       "      <td>-0.001656</td>\n",
       "      <td>0.280601</td>\n",
       "      <td>0.264614</td>\n",
       "      <td>-0.309222</td>\n",
       "      <td>0.395171</td>\n",
       "      <td>0.065995</td>\n",
       "      <td>0.230039</td>\n",
       "      <td>0.065034</td>\n",
       "      <td>-0.131033</td>\n",
       "      <td>0.016887</td>\n",
       "      <td>-0.094675</td>\n",
       "      <td>0.256366</td>\n",
       "      <td>-0.025741</td>\n",
       "      <td>0.073359</td>\n",
       "      <td>0.695745</td>\n",
       "      <td>0.252360</td>\n",
       "      <td>-0.039998</td>\n",
       "      <td>-0.089243</td>\n",
       "      <td>-0.013464</td>\n",
       "      <td>0.089968</td>\n",
       "      <td>0.028354</td>\n",
       "      <td>0</td>\n",
       "      <td>0</td>\n",
       "      <td>0</td>\n",
       "      <td>0</td>\n",
       "      <td>1</td>\n",
       "      <td>1</td>\n",
       "      <td>1</td>\n",
       "      <td>0.5</td>\n",
       "      <td>0.5</td>\n",
       "      <td>0.25</td>\n",
       "      <td>2</td>\n",
       "      <td>7</td>\n",
       "      <td>120</td>\n",
       "      <td>2</td>\n",
       "      <td>18</td>\n",
       "      <td>337</td>\n",
       "      <td>2</td>\n",
       "      <td>2.5</td>\n",
       "      <td>0</td>\n",
       "      <td>1.0</td>\n",
       "    </tr>\n",
       "  </tbody>\n",
       "</table>\n",
       "</div>"
      ],
      "text/plain": [
       "   id  product_uid  relevance  bullet_count  flag_commercial  \\\n",
       "0   2       100001        3.0             7               -1   \n",
       "1   3       100001        2.5             7               -1   \n",
       "2   9       100002        3.0            10               -1   \n",
       "\n",
       "   flag_residential  flag_indoor  flag_outdoor  flag_estar  match_commercial  \\\n",
       "0                -1           -1            -1          -1                 0   \n",
       "1                -1           -1            -1          -1                 0   \n",
       "2                -1           -1            -1          -1                 0   \n",
       "\n",
       "   match_residential  match_estar  match_indoor  match_outdoor  match_color  \\\n",
       "0                  0            0             0              0            0   \n",
       "1                  0            0             0              0            0   \n",
       "2                  0            0             0              0            0   \n",
       "\n",
       "   match_material  len_search_term  len_product_title  \\\n",
       "0               0                2                  6   \n",
       "1               1                2                  6   \n",
       "2               0                2                 12   \n",
       "\n",
       "   len_product_description  len_brand  len_bullet  0th_word_in_pd  \\\n",
       "0                      135          3          58               1   \n",
       "1                      135          3          58               1   \n",
       "2                      169          4         109               1   \n",
       "\n",
       "   1th_word_in_pd  2th_word_in_pd  3th_word_in_pd  4th_word_in_pd  \\\n",
       "0               0               0               0               0   \n",
       "1               0               0               0               0   \n",
       "2               0               0               0               0   \n",
       "\n",
       "   5th_word_in_pd  6th_word_in_pd  7th_word_in_pd  8th_word_in_pd  \\\n",
       "0               0               0               0               0   \n",
       "1               0               0               0               0   \n",
       "2               0               0               0               0   \n",
       "\n",
       "   9th_word_in_pd  0th_word_in_bl  1th_word_in_bl  2th_word_in_bl  \\\n",
       "0               0               1               0               0   \n",
       "1               0               1               0               0   \n",
       "2               0               1               1               0   \n",
       "\n",
       "   3th_word_in_bl  4th_word_in_bl  5th_word_in_bl  6th_word_in_bl  \\\n",
       "0               0               0               0               0   \n",
       "1               0               0               0               0   \n",
       "2               0               0               0               0   \n",
       "\n",
       "   7th_word_in_bl  8th_word_in_bl  9th_word_in_bl  0th_word_in_pt  \\\n",
       "0               0               0               0               1   \n",
       "1               0               0               0               1   \n",
       "2               0               0               0               1   \n",
       "\n",
       "   1th_word_in_pt  2th_word_in_pt  3th_word_in_pt  4th_word_in_pt  \\\n",
       "0               0               0               0               0   \n",
       "1               0               0               0               0   \n",
       "2               0               0               0               0   \n",
       "\n",
       "   5th_word_in_pt  6th_word_in_pt  7th_word_in_pt  8th_word_in_pt  \\\n",
       "0               0               0               0               0   \n",
       "1               0               0               0               0   \n",
       "2               0               0               0               0   \n",
       "\n",
       "   9th_word_in_pt  flag_st_in_pt  flag_st_in_pd  flag_st_in_br  flag_st_in_bl  \\\n",
       "0               0              0              0              0              0   \n",
       "1               0              0              0              0              0   \n",
       "2               0              0              0              0              0   \n",
       "\n",
       "   num_st_in_pt  num_st_in_pd  num_st_in_br  num_st_in_bl  ratio_st_in_pt  \\\n",
       "0             1             1             0             1             0.5   \n",
       "1             0             0             0             0             0.0   \n",
       "2             0             1             0             1             0.0   \n",
       "\n",
       "   ratio_st_in_pd  ratio_st_in_br  ratio_st_in_bl  brand_encoded  \\\n",
       "0             0.5               0             0.5           1000   \n",
       "1             0.0               0             0.0           1000   \n",
       "2             0.5               0             0.5           1010   \n",
       "\n",
       "   flag_attr_has_material  flag_attr_has_color  flag_has_attr  \\\n",
       "0                       1                    0              1   \n",
       "1                       1                    0              1   \n",
       "2                       0                    1              1   \n",
       "\n",
       "   cv_cos_sim_st_pt  cv_cos_sim_st_pd  cv_cos_sim_st_bl  jaccard_st_pt  \\\n",
       "0          0.316228          0.197814          0.096225       0.142857   \n",
       "1          0.000000          0.000000          0.000000       0.000000   \n",
       "2          0.000000          0.243332          0.212000       0.000000   \n",
       "\n",
       "   jaccard_st_pd  jaccard_st_br  jaccard_st_bl  st_bow_tsvd0  st_bow_tsvd1  \\\n",
       "0       0.010101              0       0.020833      0.003626      0.004019   \n",
       "1       0.000000              0       0.000000      0.001644      0.001633   \n",
       "2       0.008621              0       0.012048      0.006960      0.000900   \n",
       "\n",
       "   st_bow_tsvd2  st_bow_tsvd3  st_bow_tsvd4  st_bow_tsvd5  st_bow_tsvd6  \\\n",
       "0      0.000797      0.006102      0.008658     -0.000548      0.006355   \n",
       "1      0.001574      0.003842      0.002912      0.001569      0.005649   \n",
       "2      0.005602      0.005818     -0.000712      0.003775     -0.004111   \n",
       "\n",
       "   st_bow_tsvd7  st_bow_tsvd8  st_bow_tsvd9  pt_bow_tsvd0  pt_bow_tsvd1  \\\n",
       "0     -0.002796      0.007951      0.005769      0.045605      0.024936   \n",
       "1     -0.003359      0.003245      0.004215      0.045605      0.024936   \n",
       "2      0.010913      0.014781     -0.027090      0.052576      0.029210   \n",
       "\n",
       "   pt_bow_tsvd2  pt_bow_tsvd3  pt_bow_tsvd4  pt_bow_tsvd5  pt_bow_tsvd6  \\\n",
       "0      0.026892      0.028064      0.049714      0.092839     -0.078192   \n",
       "1      0.026892      0.028064      0.049714      0.092839     -0.078192   \n",
       "2      0.058717     -0.054237      0.038212      0.104605      0.018579   \n",
       "\n",
       "   pt_bow_tsvd7  pt_bow_tsvd8  pt_bow_tsvd9  pd_bow_tsvd0  pd_bow_tsvd1  \\\n",
       "0     -0.067007      0.050241      0.049224      3.313323     -1.080023   \n",
       "1     -0.067007      0.050241      0.049224      3.313323     -1.080023   \n",
       "2     -0.144403     -0.038084      0.025078      3.088265     -0.928897   \n",
       "\n",
       "   pd_bow_tsvd2  pd_bow_tsvd3  pd_bow_tsvd4  pd_bow_tsvd5  pd_bow_tsvd6  \\\n",
       "0      0.246664      0.035078      1.213365      0.344366     -0.339457   \n",
       "1      0.246664      0.035078      1.213365      0.344366     -0.339456   \n",
       "2     -0.779630     -0.235617      1.022412     -6.070258     -0.177288   \n",
       "\n",
       "   pd_bow_tsvd7  pd_bow_tsvd8  pd_bow_tsvd9  bl_bow_tsvd0  bl_bow_tsvd1  \\\n",
       "0     -0.778180      1.311161     -0.855836      2.016449     -0.805119   \n",
       "1     -0.778180      1.311161     -0.855836      2.016449     -0.805119   \n",
       "2      1.629826      1.669294      1.009680      2.418942     -0.412886   \n",
       "\n",
       "   bl_bow_tsvd2  bl_bow_tsvd3  bl_bow_tsvd4  bl_bow_tsvd5  bl_bow_tsvd6  \\\n",
       "0      1.716349     -0.538509      1.614636      0.482738      0.415191   \n",
       "1      1.716349     -0.538509      1.614636      0.482739      0.415191   \n",
       "2      1.744545     -1.499353     -3.124326     -3.041471      2.646309   \n",
       "\n",
       "   bl_bow_tsvd7  bl_bow_tsvd8  bl_bow_tsvd9  st_tfidf_tsvd_0  st_tfidf_tsvd_1  \\\n",
       "0     -0.226891     -0.103242     -0.652989         0.003235         0.001598   \n",
       "1     -0.226891     -0.103242     -0.652989         0.001812         0.002332   \n",
       "2      1.225488      0.994887      2.065224         0.001645         0.004407   \n",
       "\n",
       "   st_tfidf_tsvd_2  st_tfidf_tsvd_3  st_tfidf_tsvd_4  st_tfidf_tsvd_5  \\\n",
       "0         0.004377         0.004809         0.003127         0.001640   \n",
       "1         0.003688         0.001637         0.004279         0.001851   \n",
       "2         0.006753        -0.001348         0.007957         0.000271   \n",
       "\n",
       "   st_tfidf_tsvd_6  st_tfidf_tsvd_7  st_tfidf_tsvd_8  st_tfidf_tsvd_9  \\\n",
       "0        -0.000262         0.010862         0.003171        -0.000317   \n",
       "1         0.000037         0.011753         0.004452        -0.000231   \n",
       "2        -0.005846         0.015219         0.042325         0.009750   \n",
       "\n",
       "   pt_tfidf_tsvd_0  pt_tfidf_tsvd_1  pt_tfidf_tsvd_2  pt_tfidf_tsvd_3  \\\n",
       "0         0.040224        -0.002031        -0.002297        -0.031202   \n",
       "1         0.040224        -0.002031        -0.002297        -0.031202   \n",
       "2         0.046026        -0.003515         0.005800        -0.003947   \n",
       "\n",
       "   pt_tfidf_tsvd_4  pt_tfidf_tsvd_5  pt_tfidf_tsvd_6  pt_tfidf_tsvd_7  \\\n",
       "0         0.025376         0.031313         0.013203         0.000737   \n",
       "1         0.025376         0.031313         0.013203         0.000737   \n",
       "2        -0.017649         0.021120         0.043252         0.012502   \n",
       "\n",
       "   pt_tfidf_tsvd_8  pt_tfidf_tsvd_9  pd_tfidf_tsvd_0  pd_tfidf_tsvd_1  \\\n",
       "0        -0.007120         0.007481         0.224923        -0.004951   \n",
       "1        -0.007120         0.007481         0.224923        -0.004951   \n",
       "2         0.010272        -0.001656         0.280601         0.264614   \n",
       "\n",
       "   pd_tfidf_tsvd_2  pd_tfidf_tsvd_3  pd_tfidf_tsvd_4  pd_tfidf_tsvd_5  \\\n",
       "0         0.010509        -0.007065        -0.100198        -0.059775   \n",
       "1         0.010509        -0.007065        -0.100198        -0.059775   \n",
       "2        -0.309222         0.395171         0.065995         0.230039   \n",
       "\n",
       "   pd_tfidf_tsvd_6  pd_tfidf_tsvd_7  pd_tfidf_tsvd_8  pd_tfidf_tsvd_9  \\\n",
       "0        -0.120487        -0.041719         0.115705        -0.026294   \n",
       "1        -0.120487        -0.041719         0.115705        -0.026294   \n",
       "2         0.065034        -0.131033         0.016887        -0.094675   \n",
       "\n",
       "   bl_tfidf_tsvd_0  bl_tfidf_tsvd_1  bl_tfidf_tsvd_2  bl_tfidf_tsvd_3  \\\n",
       "0         0.190741        -0.004078         0.002348        -0.025698   \n",
       "1         0.190741        -0.004078         0.002348        -0.025698   \n",
       "2         0.256366        -0.025741         0.073359         0.695745   \n",
       "\n",
       "   bl_tfidf_tsvd_4  bl_tfidf_tsvd_5  bl_tfidf_tsvd_6  bl_tfidf_tsvd_7  \\\n",
       "0        -0.087801         0.007791        -0.176249        -0.059840   \n",
       "1        -0.087801         0.007791        -0.176249        -0.059840   \n",
       "2         0.252360        -0.039998        -0.089243        -0.013464   \n",
       "\n",
       "   bl_tfidf_tsvd_8  bl_tfidf_tsvd_9  old_query_in_title  \\\n",
       "0         0.028053        -0.022842                   0   \n",
       "1         0.028053        -0.022842                   0   \n",
       "2         0.089968         0.028354                   0   \n",
       "\n",
       "   old_query_in_description  old_query_last_word_in_title  \\\n",
       "0                         0                             0   \n",
       "1                         0                             0   \n",
       "2                         0                             0   \n",
       "\n",
       "   old_query_last_word_in_description  old_word_in_title  \\\n",
       "0                                   0                  1   \n",
       "1                                   0                  1   \n",
       "2                                   0                  1   \n",
       "\n",
       "   old_word_in_description  old_word_in_brand  old_ratio_title  \\\n",
       "0                        1                  0              0.5   \n",
       "1                        1                  0              0.5   \n",
       "2                        1                  1              0.5   \n",
       "\n",
       "   old_ratio_description  old_ratio_brand  old_lev_dist_to_product_title_min  \\\n",
       "0                    0.5             0.00                                  3   \n",
       "1                    0.5             0.00                                  3   \n",
       "2                    0.5             0.25                                  2   \n",
       "\n",
       "   old_lev_dist_to_product_title_max  old_lev_dist_to_product_title_sum  \\\n",
       "0                                  7                                 63   \n",
       "1                                  7                                 67   \n",
       "2                                  7                                120   \n",
       "\n",
       "   old_lev_dist_to_product_description_min  \\\n",
       "0                                        3   \n",
       "1                                        3   \n",
       "2                                        2   \n",
       "\n",
       "   old_lev_dist_to_product_description_max  \\\n",
       "0                                       16   \n",
       "1                                       18   \n",
       "2                                       18   \n",
       "\n",
       "   old_lev_dist_to_product_description_sum  edit_dist_st_pt_min  \\\n",
       "0                                      321                    0   \n",
       "1                                      337                    2   \n",
       "2                                      337                    2   \n",
       "\n",
       "   edit_dist_st_pt_avg  edit_dist_st_pd_min  edit_dist_st_pd_avg  \n",
       "0                  3.0                    0                  2.0  \n",
       "1                  4.0                    1                  2.5  \n",
       "2                  2.5                    0                  1.0  "
      ]
     },
     "execution_count": 218,
     "metadata": {},
     "output_type": "execute_result"
    }
   ],
   "source": [
    "export_df.head(3)"
   ]
  },
  {
   "cell_type": "code",
   "execution_count": 219,
   "metadata": {
    "collapsed": true,
    "deletable": true,
    "editable": true
   },
   "outputs": [],
   "source": [
    "export_df.to_csv('./df.csv')"
   ]
  },
  {
   "cell_type": "code",
   "execution_count": 220,
   "metadata": {
    "collapsed": true,
    "deletable": true,
    "editable": true
   },
   "outputs": [],
   "source": [
    "df.to_csv('./df_full.csv')"
   ]
  }
 ],
 "metadata": {
  "kernelspec": {
   "display_name": "Python 3",
   "language": "python",
   "name": "python3"
  },
  "language_info": {
   "codemirror_mode": {
    "name": "ipython",
    "version": 3
   },
   "file_extension": ".py",
   "mimetype": "text/x-python",
   "name": "python",
   "nbconvert_exporter": "python",
   "pygments_lexer": "ipython3",
   "version": "3.5.1"
  }
 },
 "nbformat": 4,
 "nbformat_minor": 0
}
